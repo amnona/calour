{
 "cells": [
  {
   "cell_type": "code",
   "execution_count": 1,
   "metadata": {
    "collapsed": false
   },
   "outputs": [],
   "source": [
    "%matplotlib notebook\n",
    "import calour as ca"
   ]
  },
  {
   "cell_type": "code",
   "execution_count": 2,
   "metadata": {
    "collapsed": false
   },
   "outputs": [
    {
     "data": {
      "application/javascript": [
       "/* Put everything inside the global mpl namespace */\n",
       "window.mpl = {};\n",
       "\n",
       "\n",
       "mpl.get_websocket_type = function() {\n",
       "    if (typeof(WebSocket) !== 'undefined') {\n",
       "        return WebSocket;\n",
       "    } else if (typeof(MozWebSocket) !== 'undefined') {\n",
       "        return MozWebSocket;\n",
       "    } else {\n",
       "        alert('Your browser does not have WebSocket support.' +\n",
       "              'Please try Chrome, Safari or Firefox ≥ 6. ' +\n",
       "              'Firefox 4 and 5 are also supported but you ' +\n",
       "              'have to enable WebSockets in about:config.');\n",
       "    };\n",
       "}\n",
       "\n",
       "mpl.figure = function(figure_id, websocket, ondownload, parent_element) {\n",
       "    this.id = figure_id;\n",
       "\n",
       "    this.ws = websocket;\n",
       "\n",
       "    this.supports_binary = (this.ws.binaryType != undefined);\n",
       "\n",
       "    if (!this.supports_binary) {\n",
       "        var warnings = document.getElementById(\"mpl-warnings\");\n",
       "        if (warnings) {\n",
       "            warnings.style.display = 'block';\n",
       "            warnings.textContent = (\n",
       "                \"This browser does not support binary websocket messages. \" +\n",
       "                    \"Performance may be slow.\");\n",
       "        }\n",
       "    }\n",
       "\n",
       "    this.imageObj = new Image();\n",
       "\n",
       "    this.context = undefined;\n",
       "    this.message = undefined;\n",
       "    this.canvas = undefined;\n",
       "    this.rubberband_canvas = undefined;\n",
       "    this.rubberband_context = undefined;\n",
       "    this.format_dropdown = undefined;\n",
       "\n",
       "    this.image_mode = 'full';\n",
       "\n",
       "    this.root = $('<div/>');\n",
       "    this._root_extra_style(this.root)\n",
       "    this.root.attr('style', 'display: inline-block');\n",
       "\n",
       "    $(parent_element).append(this.root);\n",
       "\n",
       "    this._init_header(this);\n",
       "    this._init_canvas(this);\n",
       "    this._init_toolbar(this);\n",
       "\n",
       "    var fig = this;\n",
       "\n",
       "    this.waiting = false;\n",
       "\n",
       "    this.ws.onopen =  function () {\n",
       "            fig.send_message(\"supports_binary\", {value: fig.supports_binary});\n",
       "            fig.send_message(\"send_image_mode\", {});\n",
       "            if (mpl.ratio != 1) {\n",
       "                fig.send_message(\"set_dpi_ratio\", {'dpi_ratio': mpl.ratio});\n",
       "            }\n",
       "            fig.send_message(\"refresh\", {});\n",
       "        }\n",
       "\n",
       "    this.imageObj.onload = function() {\n",
       "            if (fig.image_mode == 'full') {\n",
       "                // Full images could contain transparency (where diff images\n",
       "                // almost always do), so we need to clear the canvas so that\n",
       "                // there is no ghosting.\n",
       "                fig.context.clearRect(0, 0, fig.canvas.width, fig.canvas.height);\n",
       "            }\n",
       "            fig.context.drawImage(fig.imageObj, 0, 0);\n",
       "        };\n",
       "\n",
       "    this.imageObj.onunload = function() {\n",
       "        this.ws.close();\n",
       "    }\n",
       "\n",
       "    this.ws.onmessage = this._make_on_message_function(this);\n",
       "\n",
       "    this.ondownload = ondownload;\n",
       "}\n",
       "\n",
       "mpl.figure.prototype._init_header = function() {\n",
       "    var titlebar = $(\n",
       "        '<div class=\"ui-dialog-titlebar ui-widget-header ui-corner-all ' +\n",
       "        'ui-helper-clearfix\"/>');\n",
       "    var titletext = $(\n",
       "        '<div class=\"ui-dialog-title\" style=\"width: 100%; ' +\n",
       "        'text-align: center; padding: 3px;\"/>');\n",
       "    titlebar.append(titletext)\n",
       "    this.root.append(titlebar);\n",
       "    this.header = titletext[0];\n",
       "}\n",
       "\n",
       "\n",
       "\n",
       "mpl.figure.prototype._canvas_extra_style = function(canvas_div) {\n",
       "\n",
       "}\n",
       "\n",
       "\n",
       "mpl.figure.prototype._root_extra_style = function(canvas_div) {\n",
       "\n",
       "}\n",
       "\n",
       "mpl.figure.prototype._init_canvas = function() {\n",
       "    var fig = this;\n",
       "\n",
       "    var canvas_div = $('<div/>');\n",
       "\n",
       "    canvas_div.attr('style', 'position: relative; clear: both; outline: 0');\n",
       "\n",
       "    function canvas_keyboard_event(event) {\n",
       "        return fig.key_event(event, event['data']);\n",
       "    }\n",
       "\n",
       "    canvas_div.keydown('key_press', canvas_keyboard_event);\n",
       "    canvas_div.keyup('key_release', canvas_keyboard_event);\n",
       "    this.canvas_div = canvas_div\n",
       "    this._canvas_extra_style(canvas_div)\n",
       "    this.root.append(canvas_div);\n",
       "\n",
       "    var canvas = $('<canvas/>');\n",
       "    canvas.addClass('mpl-canvas');\n",
       "    canvas.attr('style', \"left: 0; top: 0; z-index: 0; outline: 0\")\n",
       "\n",
       "    this.canvas = canvas[0];\n",
       "    this.context = canvas[0].getContext(\"2d\");\n",
       "\n",
       "    var backingStore = this.context.backingStorePixelRatio ||\n",
       "\tthis.context.webkitBackingStorePixelRatio ||\n",
       "\tthis.context.mozBackingStorePixelRatio ||\n",
       "\tthis.context.msBackingStorePixelRatio ||\n",
       "\tthis.context.oBackingStorePixelRatio ||\n",
       "\tthis.context.backingStorePixelRatio || 1;\n",
       "\n",
       "    mpl.ratio = (window.devicePixelRatio || 1) / backingStore;\n",
       "\n",
       "    var rubberband = $('<canvas/>');\n",
       "    rubberband.attr('style', \"position: absolute; left: 0; top: 0; z-index: 1;\")\n",
       "\n",
       "    var pass_mouse_events = true;\n",
       "\n",
       "    canvas_div.resizable({\n",
       "        start: function(event, ui) {\n",
       "            pass_mouse_events = false;\n",
       "        },\n",
       "        resize: function(event, ui) {\n",
       "            fig.request_resize(ui.size.width, ui.size.height);\n",
       "        },\n",
       "        stop: function(event, ui) {\n",
       "            pass_mouse_events = true;\n",
       "            fig.request_resize(ui.size.width, ui.size.height);\n",
       "        },\n",
       "    });\n",
       "\n",
       "    function mouse_event_fn(event) {\n",
       "        if (pass_mouse_events)\n",
       "            return fig.mouse_event(event, event['data']);\n",
       "    }\n",
       "\n",
       "    rubberband.mousedown('button_press', mouse_event_fn);\n",
       "    rubberband.mouseup('button_release', mouse_event_fn);\n",
       "    // Throttle sequential mouse events to 1 every 20ms.\n",
       "    rubberband.mousemove('motion_notify', mouse_event_fn);\n",
       "\n",
       "    rubberband.mouseenter('figure_enter', mouse_event_fn);\n",
       "    rubberband.mouseleave('figure_leave', mouse_event_fn);\n",
       "\n",
       "    canvas_div.on(\"wheel\", function (event) {\n",
       "        event = event.originalEvent;\n",
       "        event['data'] = 'scroll'\n",
       "        if (event.deltaY < 0) {\n",
       "            event.step = 1;\n",
       "        } else {\n",
       "            event.step = -1;\n",
       "        }\n",
       "        mouse_event_fn(event);\n",
       "    });\n",
       "\n",
       "    canvas_div.append(canvas);\n",
       "    canvas_div.append(rubberband);\n",
       "\n",
       "    this.rubberband = rubberband;\n",
       "    this.rubberband_canvas = rubberband[0];\n",
       "    this.rubberband_context = rubberband[0].getContext(\"2d\");\n",
       "    this.rubberband_context.strokeStyle = \"#000000\";\n",
       "\n",
       "    this._resize_canvas = function(width, height) {\n",
       "        // Keep the size of the canvas, canvas container, and rubber band\n",
       "        // canvas in synch.\n",
       "        canvas_div.css('width', width)\n",
       "        canvas_div.css('height', height)\n",
       "\n",
       "        canvas.attr('width', width * mpl.ratio);\n",
       "        canvas.attr('height', height * mpl.ratio);\n",
       "        canvas.attr('style', 'width: ' + width + 'px; height: ' + height + 'px;');\n",
       "\n",
       "        rubberband.attr('width', width);\n",
       "        rubberband.attr('height', height);\n",
       "    }\n",
       "\n",
       "    // Set the figure to an initial 600x600px, this will subsequently be updated\n",
       "    // upon first draw.\n",
       "    this._resize_canvas(600, 600);\n",
       "\n",
       "    // Disable right mouse context menu.\n",
       "    $(this.rubberband_canvas).bind(\"contextmenu\",function(e){\n",
       "        return false;\n",
       "    });\n",
       "\n",
       "    function set_focus () {\n",
       "        canvas.focus();\n",
       "        canvas_div.focus();\n",
       "    }\n",
       "\n",
       "    window.setTimeout(set_focus, 100);\n",
       "}\n",
       "\n",
       "mpl.figure.prototype._init_toolbar = function() {\n",
       "    var fig = this;\n",
       "\n",
       "    var nav_element = $('<div/>')\n",
       "    nav_element.attr('style', 'width: 100%');\n",
       "    this.root.append(nav_element);\n",
       "\n",
       "    // Define a callback function for later on.\n",
       "    function toolbar_event(event) {\n",
       "        return fig.toolbar_button_onclick(event['data']);\n",
       "    }\n",
       "    function toolbar_mouse_event(event) {\n",
       "        return fig.toolbar_button_onmouseover(event['data']);\n",
       "    }\n",
       "\n",
       "    for(var toolbar_ind in mpl.toolbar_items) {\n",
       "        var name = mpl.toolbar_items[toolbar_ind][0];\n",
       "        var tooltip = mpl.toolbar_items[toolbar_ind][1];\n",
       "        var image = mpl.toolbar_items[toolbar_ind][2];\n",
       "        var method_name = mpl.toolbar_items[toolbar_ind][3];\n",
       "\n",
       "        if (!name) {\n",
       "            // put a spacer in here.\n",
       "            continue;\n",
       "        }\n",
       "        var button = $('<button/>');\n",
       "        button.addClass('ui-button ui-widget ui-state-default ui-corner-all ' +\n",
       "                        'ui-button-icon-only');\n",
       "        button.attr('role', 'button');\n",
       "        button.attr('aria-disabled', 'false');\n",
       "        button.click(method_name, toolbar_event);\n",
       "        button.mouseover(tooltip, toolbar_mouse_event);\n",
       "\n",
       "        var icon_img = $('<span/>');\n",
       "        icon_img.addClass('ui-button-icon-primary ui-icon');\n",
       "        icon_img.addClass(image);\n",
       "        icon_img.addClass('ui-corner-all');\n",
       "\n",
       "        var tooltip_span = $('<span/>');\n",
       "        tooltip_span.addClass('ui-button-text');\n",
       "        tooltip_span.html(tooltip);\n",
       "\n",
       "        button.append(icon_img);\n",
       "        button.append(tooltip_span);\n",
       "\n",
       "        nav_element.append(button);\n",
       "    }\n",
       "\n",
       "    var fmt_picker_span = $('<span/>');\n",
       "\n",
       "    var fmt_picker = $('<select/>');\n",
       "    fmt_picker.addClass('mpl-toolbar-option ui-widget ui-widget-content');\n",
       "    fmt_picker_span.append(fmt_picker);\n",
       "    nav_element.append(fmt_picker_span);\n",
       "    this.format_dropdown = fmt_picker[0];\n",
       "\n",
       "    for (var ind in mpl.extensions) {\n",
       "        var fmt = mpl.extensions[ind];\n",
       "        var option = $(\n",
       "            '<option/>', {selected: fmt === mpl.default_extension}).html(fmt);\n",
       "        fmt_picker.append(option)\n",
       "    }\n",
       "\n",
       "    // Add hover states to the ui-buttons\n",
       "    $( \".ui-button\" ).hover(\n",
       "        function() { $(this).addClass(\"ui-state-hover\");},\n",
       "        function() { $(this).removeClass(\"ui-state-hover\");}\n",
       "    );\n",
       "\n",
       "    var status_bar = $('<span class=\"mpl-message\"/>');\n",
       "    nav_element.append(status_bar);\n",
       "    this.message = status_bar[0];\n",
       "}\n",
       "\n",
       "mpl.figure.prototype.request_resize = function(x_pixels, y_pixels) {\n",
       "    // Request matplotlib to resize the figure. Matplotlib will then trigger a resize in the client,\n",
       "    // which will in turn request a refresh of the image.\n",
       "    this.send_message('resize', {'width': x_pixels, 'height': y_pixels});\n",
       "}\n",
       "\n",
       "mpl.figure.prototype.send_message = function(type, properties) {\n",
       "    properties['type'] = type;\n",
       "    properties['figure_id'] = this.id;\n",
       "    this.ws.send(JSON.stringify(properties));\n",
       "}\n",
       "\n",
       "mpl.figure.prototype.send_draw_message = function() {\n",
       "    if (!this.waiting) {\n",
       "        this.waiting = true;\n",
       "        this.ws.send(JSON.stringify({type: \"draw\", figure_id: this.id}));\n",
       "    }\n",
       "}\n",
       "\n",
       "\n",
       "mpl.figure.prototype.handle_save = function(fig, msg) {\n",
       "    var format_dropdown = fig.format_dropdown;\n",
       "    var format = format_dropdown.options[format_dropdown.selectedIndex].value;\n",
       "    fig.ondownload(fig, format);\n",
       "}\n",
       "\n",
       "\n",
       "mpl.figure.prototype.handle_resize = function(fig, msg) {\n",
       "    var size = msg['size'];\n",
       "    if (size[0] != fig.canvas.width || size[1] != fig.canvas.height) {\n",
       "        fig._resize_canvas(size[0], size[1]);\n",
       "        fig.send_message(\"refresh\", {});\n",
       "    };\n",
       "}\n",
       "\n",
       "mpl.figure.prototype.handle_rubberband = function(fig, msg) {\n",
       "    var x0 = msg['x0'] / mpl.ratio;\n",
       "    var y0 = (fig.canvas.height - msg['y0']) / mpl.ratio;\n",
       "    var x1 = msg['x1'] / mpl.ratio;\n",
       "    var y1 = (fig.canvas.height - msg['y1']) / mpl.ratio;\n",
       "    x0 = Math.floor(x0) + 0.5;\n",
       "    y0 = Math.floor(y0) + 0.5;\n",
       "    x1 = Math.floor(x1) + 0.5;\n",
       "    y1 = Math.floor(y1) + 0.5;\n",
       "    var min_x = Math.min(x0, x1);\n",
       "    var min_y = Math.min(y0, y1);\n",
       "    var width = Math.abs(x1 - x0);\n",
       "    var height = Math.abs(y1 - y0);\n",
       "\n",
       "    fig.rubberband_context.clearRect(\n",
       "        0, 0, fig.canvas.width, fig.canvas.height);\n",
       "\n",
       "    fig.rubberband_context.strokeRect(min_x, min_y, width, height);\n",
       "}\n",
       "\n",
       "mpl.figure.prototype.handle_figure_label = function(fig, msg) {\n",
       "    // Updates the figure title.\n",
       "    fig.header.textContent = msg['label'];\n",
       "}\n",
       "\n",
       "mpl.figure.prototype.handle_cursor = function(fig, msg) {\n",
       "    var cursor = msg['cursor'];\n",
       "    switch(cursor)\n",
       "    {\n",
       "    case 0:\n",
       "        cursor = 'pointer';\n",
       "        break;\n",
       "    case 1:\n",
       "        cursor = 'default';\n",
       "        break;\n",
       "    case 2:\n",
       "        cursor = 'crosshair';\n",
       "        break;\n",
       "    case 3:\n",
       "        cursor = 'move';\n",
       "        break;\n",
       "    }\n",
       "    fig.rubberband_canvas.style.cursor = cursor;\n",
       "}\n",
       "\n",
       "mpl.figure.prototype.handle_message = function(fig, msg) {\n",
       "    fig.message.textContent = msg['message'];\n",
       "}\n",
       "\n",
       "mpl.figure.prototype.handle_draw = function(fig, msg) {\n",
       "    // Request the server to send over a new figure.\n",
       "    fig.send_draw_message();\n",
       "}\n",
       "\n",
       "mpl.figure.prototype.handle_image_mode = function(fig, msg) {\n",
       "    fig.image_mode = msg['mode'];\n",
       "}\n",
       "\n",
       "mpl.figure.prototype.updated_canvas_event = function() {\n",
       "    // Called whenever the canvas gets updated.\n",
       "    this.send_message(\"ack\", {});\n",
       "}\n",
       "\n",
       "// A function to construct a web socket function for onmessage handling.\n",
       "// Called in the figure constructor.\n",
       "mpl.figure.prototype._make_on_message_function = function(fig) {\n",
       "    return function socket_on_message(evt) {\n",
       "        if (evt.data instanceof Blob) {\n",
       "            /* FIXME: We get \"Resource interpreted as Image but\n",
       "             * transferred with MIME type text/plain:\" errors on\n",
       "             * Chrome.  But how to set the MIME type?  It doesn't seem\n",
       "             * to be part of the websocket stream */\n",
       "            evt.data.type = \"image/png\";\n",
       "\n",
       "            /* Free the memory for the previous frames */\n",
       "            if (fig.imageObj.src) {\n",
       "                (window.URL || window.webkitURL).revokeObjectURL(\n",
       "                    fig.imageObj.src);\n",
       "            }\n",
       "\n",
       "            fig.imageObj.src = (window.URL || window.webkitURL).createObjectURL(\n",
       "                evt.data);\n",
       "            fig.updated_canvas_event();\n",
       "            fig.waiting = false;\n",
       "            return;\n",
       "        }\n",
       "        else if (typeof evt.data === 'string' && evt.data.slice(0, 21) == \"data:image/png;base64\") {\n",
       "            fig.imageObj.src = evt.data;\n",
       "            fig.updated_canvas_event();\n",
       "            fig.waiting = false;\n",
       "            return;\n",
       "        }\n",
       "\n",
       "        var msg = JSON.parse(evt.data);\n",
       "        var msg_type = msg['type'];\n",
       "\n",
       "        // Call the  \"handle_{type}\" callback, which takes\n",
       "        // the figure and JSON message as its only arguments.\n",
       "        try {\n",
       "            var callback = fig[\"handle_\" + msg_type];\n",
       "        } catch (e) {\n",
       "            console.log(\"No handler for the '\" + msg_type + \"' message type: \", msg);\n",
       "            return;\n",
       "        }\n",
       "\n",
       "        if (callback) {\n",
       "            try {\n",
       "                // console.log(\"Handling '\" + msg_type + \"' message: \", msg);\n",
       "                callback(fig, msg);\n",
       "            } catch (e) {\n",
       "                console.log(\"Exception inside the 'handler_\" + msg_type + \"' callback:\", e, e.stack, msg);\n",
       "            }\n",
       "        }\n",
       "    };\n",
       "}\n",
       "\n",
       "// from http://stackoverflow.com/questions/1114465/getting-mouse-location-in-canvas\n",
       "mpl.findpos = function(e) {\n",
       "    //this section is from http://www.quirksmode.org/js/events_properties.html\n",
       "    var targ;\n",
       "    if (!e)\n",
       "        e = window.event;\n",
       "    if (e.target)\n",
       "        targ = e.target;\n",
       "    else if (e.srcElement)\n",
       "        targ = e.srcElement;\n",
       "    if (targ.nodeType == 3) // defeat Safari bug\n",
       "        targ = targ.parentNode;\n",
       "\n",
       "    // jQuery normalizes the pageX and pageY\n",
       "    // pageX,Y are the mouse positions relative to the document\n",
       "    // offset() returns the position of the element relative to the document\n",
       "    var x = e.pageX - $(targ).offset().left;\n",
       "    var y = e.pageY - $(targ).offset().top;\n",
       "\n",
       "    return {\"x\": x, \"y\": y};\n",
       "};\n",
       "\n",
       "/*\n",
       " * return a copy of an object with only non-object keys\n",
       " * we need this to avoid circular references\n",
       " * http://stackoverflow.com/a/24161582/3208463\n",
       " */\n",
       "function simpleKeys (original) {\n",
       "  return Object.keys(original).reduce(function (obj, key) {\n",
       "    if (typeof original[key] !== 'object')\n",
       "        obj[key] = original[key]\n",
       "    return obj;\n",
       "  }, {});\n",
       "}\n",
       "\n",
       "mpl.figure.prototype.mouse_event = function(event, name) {\n",
       "    var canvas_pos = mpl.findpos(event)\n",
       "\n",
       "    if (name === 'button_press')\n",
       "    {\n",
       "        this.canvas.focus();\n",
       "        this.canvas_div.focus();\n",
       "    }\n",
       "\n",
       "    var x = canvas_pos.x * mpl.ratio;\n",
       "    var y = canvas_pos.y * mpl.ratio;\n",
       "\n",
       "    this.send_message(name, {x: x, y: y, button: event.button,\n",
       "                             step: event.step,\n",
       "                             guiEvent: simpleKeys(event)});\n",
       "\n",
       "    /* This prevents the web browser from automatically changing to\n",
       "     * the text insertion cursor when the button is pressed.  We want\n",
       "     * to control all of the cursor setting manually through the\n",
       "     * 'cursor' event from matplotlib */\n",
       "    event.preventDefault();\n",
       "    return false;\n",
       "}\n",
       "\n",
       "mpl.figure.prototype._key_event_extra = function(event, name) {\n",
       "    // Handle any extra behaviour associated with a key event\n",
       "}\n",
       "\n",
       "mpl.figure.prototype.key_event = function(event, name) {\n",
       "\n",
       "    // Prevent repeat events\n",
       "    if (name == 'key_press')\n",
       "    {\n",
       "        if (event.which === this._key)\n",
       "            return;\n",
       "        else\n",
       "            this._key = event.which;\n",
       "    }\n",
       "    if (name == 'key_release')\n",
       "        this._key = null;\n",
       "\n",
       "    var value = '';\n",
       "    if (event.ctrlKey && event.which != 17)\n",
       "        value += \"ctrl+\";\n",
       "    if (event.altKey && event.which != 18)\n",
       "        value += \"alt+\";\n",
       "    if (event.shiftKey && event.which != 16)\n",
       "        value += \"shift+\";\n",
       "\n",
       "    value += 'k';\n",
       "    value += event.which.toString();\n",
       "\n",
       "    this._key_event_extra(event, name);\n",
       "\n",
       "    this.send_message(name, {key: value,\n",
       "                             guiEvent: simpleKeys(event)});\n",
       "    return false;\n",
       "}\n",
       "\n",
       "mpl.figure.prototype.toolbar_button_onclick = function(name) {\n",
       "    if (name == 'download') {\n",
       "        this.handle_save(this, null);\n",
       "    } else {\n",
       "        this.send_message(\"toolbar_button\", {name: name});\n",
       "    }\n",
       "};\n",
       "\n",
       "mpl.figure.prototype.toolbar_button_onmouseover = function(tooltip) {\n",
       "    this.message.textContent = tooltip;\n",
       "};\n",
       "mpl.toolbar_items = [[\"Home\", \"Reset original view\", \"fa fa-home icon-home\", \"home\"], [\"Back\", \"Back to  previous view\", \"fa fa-arrow-left icon-arrow-left\", \"back\"], [\"Forward\", \"Forward to next view\", \"fa fa-arrow-right icon-arrow-right\", \"forward\"], [\"\", \"\", \"\", \"\"], [\"Pan\", \"Pan axes with left mouse, zoom with right\", \"fa fa-arrows icon-move\", \"pan\"], [\"Zoom\", \"Zoom to rectangle\", \"fa fa-square-o icon-check-empty\", \"zoom\"], [\"\", \"\", \"\", \"\"], [\"Download\", \"Download plot\", \"fa fa-floppy-o icon-save\", \"download\"]];\n",
       "\n",
       "mpl.extensions = [\"eps\", \"pdf\", \"png\", \"ps\", \"raw\", \"svg\"];\n",
       "\n",
       "mpl.default_extension = \"png\";var comm_websocket_adapter = function(comm) {\n",
       "    // Create a \"websocket\"-like object which calls the given IPython comm\n",
       "    // object with the appropriate methods. Currently this is a non binary\n",
       "    // socket, so there is still some room for performance tuning.\n",
       "    var ws = {};\n",
       "\n",
       "    ws.close = function() {\n",
       "        comm.close()\n",
       "    };\n",
       "    ws.send = function(m) {\n",
       "        //console.log('sending', m);\n",
       "        comm.send(m);\n",
       "    };\n",
       "    // Register the callback with on_msg.\n",
       "    comm.on_msg(function(msg) {\n",
       "        //console.log('receiving', msg['content']['data'], msg);\n",
       "        // Pass the mpl event to the overriden (by mpl) onmessage function.\n",
       "        ws.onmessage(msg['content']['data'])\n",
       "    });\n",
       "    return ws;\n",
       "}\n",
       "\n",
       "mpl.mpl_figure_comm = function(comm, msg) {\n",
       "    // This is the function which gets called when the mpl process\n",
       "    // starts-up an IPython Comm through the \"matplotlib\" channel.\n",
       "\n",
       "    var id = msg.content.data.id;\n",
       "    // Get hold of the div created by the display call when the Comm\n",
       "    // socket was opened in Python.\n",
       "    var element = $(\"#\" + id);\n",
       "    var ws_proxy = comm_websocket_adapter(comm)\n",
       "\n",
       "    function ondownload(figure, format) {\n",
       "        window.open(figure.imageObj.src);\n",
       "    }\n",
       "\n",
       "    var fig = new mpl.figure(id, ws_proxy,\n",
       "                           ondownload,\n",
       "                           element.get(0));\n",
       "\n",
       "    // Call onopen now - mpl needs it, as it is assuming we've passed it a real\n",
       "    // web socket which is closed, not our websocket->open comm proxy.\n",
       "    ws_proxy.onopen();\n",
       "\n",
       "    fig.parent_element = element.get(0);\n",
       "    fig.cell_info = mpl.find_output_cell(\"<div id='\" + id + \"'></div>\");\n",
       "    if (!fig.cell_info) {\n",
       "        console.error(\"Failed to find cell for figure\", id, fig);\n",
       "        return;\n",
       "    }\n",
       "\n",
       "    var output_index = fig.cell_info[2]\n",
       "    var cell = fig.cell_info[0];\n",
       "\n",
       "};\n",
       "\n",
       "mpl.figure.prototype.handle_close = function(fig, msg) {\n",
       "    var width = fig.canvas.width/mpl.ratio\n",
       "    fig.root.unbind('remove')\n",
       "\n",
       "    // Update the output cell to use the data from the current canvas.\n",
       "    fig.push_to_output();\n",
       "    var dataURL = fig.canvas.toDataURL();\n",
       "    // Re-enable the keyboard manager in IPython - without this line, in FF,\n",
       "    // the notebook keyboard shortcuts fail.\n",
       "    IPython.keyboard_manager.enable()\n",
       "    $(fig.parent_element).html('<img src=\"' + dataURL + '\" width=\"' + width + '\">');\n",
       "    fig.close_ws(fig, msg);\n",
       "}\n",
       "\n",
       "mpl.figure.prototype.close_ws = function(fig, msg){\n",
       "    fig.send_message('closing', msg);\n",
       "    // fig.ws.close()\n",
       "}\n",
       "\n",
       "mpl.figure.prototype.push_to_output = function(remove_interactive) {\n",
       "    // Turn the data on the canvas into data in the output cell.\n",
       "    var width = this.canvas.width/mpl.ratio\n",
       "    var dataURL = this.canvas.toDataURL();\n",
       "    this.cell_info[1]['text/html'] = '<img src=\"' + dataURL + '\" width=\"' + width + '\">';\n",
       "}\n",
       "\n",
       "mpl.figure.prototype.updated_canvas_event = function() {\n",
       "    // Tell IPython that the notebook contents must change.\n",
       "    IPython.notebook.set_dirty(true);\n",
       "    this.send_message(\"ack\", {});\n",
       "    var fig = this;\n",
       "    // Wait a second, then push the new image to the DOM so\n",
       "    // that it is saved nicely (might be nice to debounce this).\n",
       "    setTimeout(function () { fig.push_to_output() }, 1000);\n",
       "}\n",
       "\n",
       "mpl.figure.prototype._init_toolbar = function() {\n",
       "    var fig = this;\n",
       "\n",
       "    var nav_element = $('<div/>')\n",
       "    nav_element.attr('style', 'width: 100%');\n",
       "    this.root.append(nav_element);\n",
       "\n",
       "    // Define a callback function for later on.\n",
       "    function toolbar_event(event) {\n",
       "        return fig.toolbar_button_onclick(event['data']);\n",
       "    }\n",
       "    function toolbar_mouse_event(event) {\n",
       "        return fig.toolbar_button_onmouseover(event['data']);\n",
       "    }\n",
       "\n",
       "    for(var toolbar_ind in mpl.toolbar_items){\n",
       "        var name = mpl.toolbar_items[toolbar_ind][0];\n",
       "        var tooltip = mpl.toolbar_items[toolbar_ind][1];\n",
       "        var image = mpl.toolbar_items[toolbar_ind][2];\n",
       "        var method_name = mpl.toolbar_items[toolbar_ind][3];\n",
       "\n",
       "        if (!name) { continue; };\n",
       "\n",
       "        var button = $('<button class=\"btn btn-default\" href=\"#\" title=\"' + name + '\"><i class=\"fa ' + image + ' fa-lg\"></i></button>');\n",
       "        button.click(method_name, toolbar_event);\n",
       "        button.mouseover(tooltip, toolbar_mouse_event);\n",
       "        nav_element.append(button);\n",
       "    }\n",
       "\n",
       "    // Add the status bar.\n",
       "    var status_bar = $('<span class=\"mpl-message\" style=\"text-align:right; float: right;\"/>');\n",
       "    nav_element.append(status_bar);\n",
       "    this.message = status_bar[0];\n",
       "\n",
       "    // Add the close button to the window.\n",
       "    var buttongrp = $('<div class=\"btn-group inline pull-right\"></div>');\n",
       "    var button = $('<button class=\"btn btn-mini btn-primary\" href=\"#\" title=\"Stop Interaction\"><i class=\"fa fa-power-off icon-remove icon-large\"></i></button>');\n",
       "    button.click(function (evt) { fig.handle_close(fig, {}); } );\n",
       "    button.mouseover('Stop Interaction', toolbar_mouse_event);\n",
       "    buttongrp.append(button);\n",
       "    var titlebar = this.root.find($('.ui-dialog-titlebar'));\n",
       "    titlebar.prepend(buttongrp);\n",
       "}\n",
       "\n",
       "mpl.figure.prototype._root_extra_style = function(el){\n",
       "    var fig = this\n",
       "    el.on(\"remove\", function(){\n",
       "\tfig.close_ws(fig, {});\n",
       "    });\n",
       "}\n",
       "\n",
       "mpl.figure.prototype._canvas_extra_style = function(el){\n",
       "    // this is important to make the div 'focusable\n",
       "    el.attr('tabindex', 0)\n",
       "    // reach out to IPython and tell the keyboard manager to turn it's self\n",
       "    // off when our div gets focus\n",
       "\n",
       "    // location in version 3\n",
       "    if (IPython.notebook.keyboard_manager) {\n",
       "        IPython.notebook.keyboard_manager.register_events(el);\n",
       "    }\n",
       "    else {\n",
       "        // location in version 2\n",
       "        IPython.keyboard_manager.register_events(el);\n",
       "    }\n",
       "\n",
       "}\n",
       "\n",
       "mpl.figure.prototype._key_event_extra = function(event, name) {\n",
       "    var manager = IPython.notebook.keyboard_manager;\n",
       "    if (!manager)\n",
       "        manager = IPython.keyboard_manager;\n",
       "\n",
       "    // Check for shift+enter\n",
       "    if (event.shiftKey && event.which == 13) {\n",
       "        this.canvas_div.blur();\n",
       "        // select the cell after this one\n",
       "        var index = IPython.notebook.find_cell_index(this.cell_info[0]);\n",
       "        IPython.notebook.select(index + 1);\n",
       "    }\n",
       "}\n",
       "\n",
       "mpl.figure.prototype.handle_save = function(fig, msg) {\n",
       "    fig.ondownload(fig, null);\n",
       "}\n",
       "\n",
       "\n",
       "mpl.find_output_cell = function(html_output) {\n",
       "    // Return the cell and output element which can be found *uniquely* in the notebook.\n",
       "    // Note - this is a bit hacky, but it is done because the \"notebook_saving.Notebook\"\n",
       "    // IPython event is triggered only after the cells have been serialised, which for\n",
       "    // our purposes (turning an active figure into a static one), is too late.\n",
       "    var cells = IPython.notebook.get_cells();\n",
       "    var ncells = cells.length;\n",
       "    for (var i=0; i<ncells; i++) {\n",
       "        var cell = cells[i];\n",
       "        if (cell.cell_type === 'code'){\n",
       "            for (var j=0; j<cell.output_area.outputs.length; j++) {\n",
       "                var data = cell.output_area.outputs[j];\n",
       "                if (data.data) {\n",
       "                    // IPython >= 3 moved mimebundle to data attribute of output\n",
       "                    data = data.data;\n",
       "                }\n",
       "                if (data['text/html'] == html_output) {\n",
       "                    return [cell, data, j];\n",
       "                }\n",
       "            }\n",
       "        }\n",
       "    }\n",
       "}\n",
       "\n",
       "// Register the function which deals with the matplotlib target/channel.\n",
       "// The kernel may be null if the page has been refreshed.\n",
       "if (IPython.notebook.kernel != null) {\n",
       "    IPython.notebook.kernel.comm_manager.register_target('matplotlib', mpl.mpl_figure_comm);\n",
       "}\n"
      ],
      "text/plain": [
       "<IPython.core.display.Javascript object>"
      ]
     },
     "metadata": {},
     "output_type": "display_data"
    },
    {
     "data": {
      "text/html": [
       "<img src=\"data:image/png;base64,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\" width=\"639.6499809369451\">"
      ],
      "text/plain": [
       "<IPython.core.display.HTML object>"
      ]
     },
     "metadata": {},
     "output_type": "display_data"
    }
   ],
   "source": [
    "a = ca.read('../calour/tests/data/test2.biom', '../calour/tests/data/test2.sample', '../calour/tests/data/test2.feature')\n",
    "b = a.plot(sample_field='group', feature_field='taxonomy', gui='jupyter')"
   ]
  },
  {
   "cell_type": "code",
   "execution_count": 3,
   "metadata": {
    "collapsed": true
   },
   "outputs": [],
   "source": [
    "x = ca.read('../calour/tests/data/timeseries.biom', '../calour/tests/data/timeseries.sample')"
   ]
  },
  {
   "cell_type": "code",
   "execution_count": 4,
   "metadata": {
    "collapsed": false
   },
   "outputs": [
    {
     "data": {
      "text/plain": [
       "Experiment timeseries.biom with 95 samples, 4788 features"
      ]
     },
     "execution_count": 4,
     "metadata": {},
     "output_type": "execute_result"
    }
   ],
   "source": [
    "# sort feature by abundance\n",
    "x.sort_by_data(axis=1, key=np.sum, inplace=True)"
   ]
  },
  {
   "cell_type": "code",
   "execution_count": 5,
   "metadata": {
    "collapsed": false
   },
   "outputs": [
    {
     "data": {
      "text/plain": [
       "Index(['#SampleID', 'AGE', 'AGE_UNIT', 'ALTITUDE', 'ANONYMIZED_NAME',\n",
       "       'ASSIGNED_FROM_GEO', 'Activity', 'BODY_HABITAT', 'BODY_MASS_INDEX',\n",
       "       'BODY_PRODUCT', 'BODY_SITE', 'BarcodeSequence', 'COLLECTION_DATE',\n",
       "       'COMMENTS', 'COUNTRY', 'DAY', 'DEPTH', 'DIET', 'Description',\n",
       "       'ELEVATION', 'ENV_BIOME', 'ENV_FEATURE', 'ENV_MATTER',\n",
       "       'EXPERIMENT_CENTER', 'EXPERIMENT_DESIGN_DESCRIPTION',\n",
       "       'EXPERIMENT_TITLE', 'EXTRACTIONKIT_LOT', 'EXTRACTION_ROBOT',\n",
       "       'HEIGHT_OR_LENGTH', 'HOST_COMMON_NAME', 'HOST_SUBJECT_ID', 'HOST_TAXID',\n",
       "       'HOUR', 'KEY_SEQ', 'LATITUDE', 'LIBRARY_CONSTRUCTION_PROTOCOL',\n",
       "       'LIFE_STAGE', 'LONGITUDE', 'LinkerPrimerSequence', 'MASTERMIX_LOT',\n",
       "       'MF_SAMPLE_NUMBER', 'MINUTES', 'PCR_PRIMERS', 'PLATFORM', 'PLATING',\n",
       "       'PRIMER_DATE', 'PRIMER_PLATE', 'PROCESSING_ROBOT', 'PUBLIC', 'REGION',\n",
       "       'RUN_CENTER', 'RUN_DATE', 'RUN_PREFIX', 'SAMPLE_CENTER', 'SAMPLE_PLATE',\n",
       "       'SAMP_SIZE', 'SEQUENCING_METH', 'SEX', 'SMOKER', 'STUDY_CENTER',\n",
       "       'STUDY_ID', 'TARGET_GENE', 'TARGET_SUBFRAGMENT', 'TAXON_ID', 'TITLE',\n",
       "       'TM1000_8_TOOL', 'TM300_8_TOOL', 'TM50_8_TOOL', 'TOT_MASS', 'WATER_LOT',\n",
       "       'WEIGHT_LOSS_3_MONTH', 'WELL_ID', '_calour_read_count'],\n",
       "      dtype='object')"
      ]
     },
     "execution_count": 5,
     "metadata": {},
     "output_type": "execute_result"
    }
   ],
   "source": [
    "x.sample_metadata.columns.sort_values()"
   ]
  },
  {
   "cell_type": "code",
   "execution_count": 6,
   "metadata": {
    "collapsed": false
   },
   "outputs": [
    {
     "data": {
      "text/plain": [
       "Index(['taxonomy'], dtype='object')"
      ]
     },
     "execution_count": 6,
     "metadata": {},
     "output_type": "execute_result"
    }
   ],
   "source": [
    "x.feature_metadata.columns"
   ]
  },
  {
   "cell_type": "code",
   "execution_count": 7,
   "metadata": {
    "collapsed": false
   },
   "outputs": [
    {
     "data": {
      "text/html": [
       "<div>\n",
       "<table border=\"1\" class=\"dataframe\">\n",
       "  <thead>\n",
       "    <tr style=\"text-align: right;\">\n",
       "      <th></th>\n",
       "      <th>DAY</th>\n",
       "      <th>HOUR</th>\n",
       "      <th>MINUTES</th>\n",
       "    </tr>\n",
       "    <tr>\n",
       "      <th>#SampleID</th>\n",
       "      <th></th>\n",
       "      <th></th>\n",
       "      <th></th>\n",
       "    </tr>\n",
       "  </thead>\n",
       "  <tbody>\n",
       "    <tr>\n",
       "      <th>40.M11.saliva.1168503</th>\n",
       "      <td>1</td>\n",
       "      <td>17</td>\n",
       "      <td>17</td>\n",
       "    </tr>\n",
       "    <tr>\n",
       "      <th>46.M11.saliva.1168574</th>\n",
       "      <td>1</td>\n",
       "      <td>18</td>\n",
       "      <td>49</td>\n",
       "    </tr>\n",
       "    <tr>\n",
       "      <th>7.M11.saliva.1168517</th>\n",
       "      <td>1</td>\n",
       "      <td>9</td>\n",
       "      <td>33</td>\n",
       "    </tr>\n",
       "    <tr>\n",
       "      <th>60.M11.saliva.1168546</th>\n",
       "      <td>1</td>\n",
       "      <td>22</td>\n",
       "      <td>19</td>\n",
       "    </tr>\n",
       "    <tr>\n",
       "      <th>85.M11.saliva.1168506</th>\n",
       "      <td>2</td>\n",
       "      <td>11</td>\n",
       "      <td>19</td>\n",
       "    </tr>\n",
       "    <tr>\n",
       "      <th>41.M11.saliva.1168551</th>\n",
       "      <td>1</td>\n",
       "      <td>17</td>\n",
       "      <td>32</td>\n",
       "    </tr>\n",
       "    <tr>\n",
       "      <th>69.M11.saliva.1168557</th>\n",
       "      <td>2</td>\n",
       "      <td>7</td>\n",
       "      <td>0</td>\n",
       "    </tr>\n",
       "    <tr>\n",
       "      <th>38.M11.saliva.1168521</th>\n",
       "      <td>1</td>\n",
       "      <td>16</td>\n",
       "      <td>46</td>\n",
       "    </tr>\n",
       "    <tr>\n",
       "      <th>73.M11.saliva.1168533</th>\n",
       "      <td>2</td>\n",
       "      <td>8</td>\n",
       "      <td>15</td>\n",
       "    </tr>\n",
       "    <tr>\n",
       "      <th>88.M11.saliva.1168591</th>\n",
       "      <td>2</td>\n",
       "      <td>12</td>\n",
       "      <td>5</td>\n",
       "    </tr>\n",
       "    <tr>\n",
       "      <th>71.M11.saliva.1168595</th>\n",
       "      <td>2</td>\n",
       "      <td>7</td>\n",
       "      <td>45</td>\n",
       "    </tr>\n",
       "    <tr>\n",
       "      <th>59.M11.saliva.1168535</th>\n",
       "      <td>1</td>\n",
       "      <td>22</td>\n",
       "      <td>5</td>\n",
       "    </tr>\n",
       "    <tr>\n",
       "      <th>2.M11.saliva.1168561</th>\n",
       "      <td>1</td>\n",
       "      <td>8</td>\n",
       "      <td>38</td>\n",
       "    </tr>\n",
       "    <tr>\n",
       "      <th>67.M11.saliva.1168593</th>\n",
       "      <td>2</td>\n",
       "      <td>2</td>\n",
       "      <td>20</td>\n",
       "    </tr>\n",
       "    <tr>\n",
       "      <th>1.M11.saliva.1168567</th>\n",
       "      <td>1</td>\n",
       "      <td>8</td>\n",
       "      <td>25</td>\n",
       "    </tr>\n",
       "    <tr>\n",
       "      <th>3.M11.saliva.1168562</th>\n",
       "      <td>1</td>\n",
       "      <td>9</td>\n",
       "      <td>17</td>\n",
       "    </tr>\n",
       "    <tr>\n",
       "      <th>65.M11.saliva.1168597</th>\n",
       "      <td>1</td>\n",
       "      <td>23</td>\n",
       "      <td>35</td>\n",
       "    </tr>\n",
       "    <tr>\n",
       "      <th>53.M11.saliva.1168508</th>\n",
       "      <td>1</td>\n",
       "      <td>20</td>\n",
       "      <td>49</td>\n",
       "    </tr>\n",
       "    <tr>\n",
       "      <th>10.M11.saliva.1168573</th>\n",
       "      <td>1</td>\n",
       "      <td>10</td>\n",
       "      <td>4</td>\n",
       "    </tr>\n",
       "    <tr>\n",
       "      <th>28.M11.saliva.1168583</th>\n",
       "      <td>1</td>\n",
       "      <td>14</td>\n",
       "      <td>32</td>\n",
       "    </tr>\n",
       "    <tr>\n",
       "      <th>79.M11.saliva.1168578</th>\n",
       "      <td>2</td>\n",
       "      <td>9</td>\n",
       "      <td>49</td>\n",
       "    </tr>\n",
       "    <tr>\n",
       "      <th>15.M11.saliva.1168584</th>\n",
       "      <td>1</td>\n",
       "      <td>11</td>\n",
       "      <td>18</td>\n",
       "    </tr>\n",
       "    <tr>\n",
       "      <th>54.M11.saliva.1168582</th>\n",
       "      <td>1</td>\n",
       "      <td>21</td>\n",
       "      <td>5</td>\n",
       "    </tr>\n",
       "    <tr>\n",
       "      <th>82.M11.saliva.1168589</th>\n",
       "      <td>2</td>\n",
       "      <td>10</td>\n",
       "      <td>34</td>\n",
       "    </tr>\n",
       "    <tr>\n",
       "      <th>22.M11.saliva.1168530</th>\n",
       "      <td>1</td>\n",
       "      <td>13</td>\n",
       "      <td>2</td>\n",
       "    </tr>\n",
       "    <tr>\n",
       "      <th>57.M11.saliva.1168522</th>\n",
       "      <td>1</td>\n",
       "      <td>21</td>\n",
       "      <td>45</td>\n",
       "    </tr>\n",
       "    <tr>\n",
       "      <th>50.M11.saliva.1168588</th>\n",
       "      <td>1</td>\n",
       "      <td>19</td>\n",
       "      <td>58</td>\n",
       "    </tr>\n",
       "    <tr>\n",
       "      <th>35.M11.saliva.1168534</th>\n",
       "      <td>1</td>\n",
       "      <td>16</td>\n",
       "      <td>0</td>\n",
       "    </tr>\n",
       "    <tr>\n",
       "      <th>27.M11.saliva.1168540</th>\n",
       "      <td>1</td>\n",
       "      <td>14</td>\n",
       "      <td>17</td>\n",
       "    </tr>\n",
       "    <tr>\n",
       "      <th>95.M11.saliva.1168579</th>\n",
       "      <td>2</td>\n",
       "      <td>12</td>\n",
       "      <td>56</td>\n",
       "    </tr>\n",
       "    <tr>\n",
       "      <th>...</th>\n",
       "      <td>...</td>\n",
       "      <td>...</td>\n",
       "      <td>...</td>\n",
       "    </tr>\n",
       "    <tr>\n",
       "      <th>19.M11.saliva.1168553</th>\n",
       "      <td>1</td>\n",
       "      <td>12</td>\n",
       "      <td>18</td>\n",
       "    </tr>\n",
       "    <tr>\n",
       "      <th>42.M11.saliva.1168518</th>\n",
       "      <td>1</td>\n",
       "      <td>17</td>\n",
       "      <td>48</td>\n",
       "    </tr>\n",
       "    <tr>\n",
       "      <th>61.M11.saliva.1168585</th>\n",
       "      <td>1</td>\n",
       "      <td>22</td>\n",
       "      <td>34</td>\n",
       "    </tr>\n",
       "    <tr>\n",
       "      <th>18.M11.saliva.1168552</th>\n",
       "      <td>1</td>\n",
       "      <td>12</td>\n",
       "      <td>3</td>\n",
       "    </tr>\n",
       "    <tr>\n",
       "      <th>20.M11.saliva.1168525</th>\n",
       "      <td>1</td>\n",
       "      <td>12</td>\n",
       "      <td>32</td>\n",
       "    </tr>\n",
       "    <tr>\n",
       "      <th>23.M11.saliva.1168571</th>\n",
       "      <td>1</td>\n",
       "      <td>13</td>\n",
       "      <td>17</td>\n",
       "    </tr>\n",
       "    <tr>\n",
       "      <th>39.M11.saliva.1168566</th>\n",
       "      <td>1</td>\n",
       "      <td>17</td>\n",
       "      <td>2</td>\n",
       "    </tr>\n",
       "    <tr>\n",
       "      <th>51.M11.saliva.1168537</th>\n",
       "      <td>1</td>\n",
       "      <td>20</td>\n",
       "      <td>16</td>\n",
       "    </tr>\n",
       "    <tr>\n",
       "      <th>5.M11.saliva.1168507</th>\n",
       "      <td>1</td>\n",
       "      <td>9</td>\n",
       "      <td>30</td>\n",
       "    </tr>\n",
       "    <tr>\n",
       "      <th>21.M11.saliva.1168555</th>\n",
       "      <td>1</td>\n",
       "      <td>12</td>\n",
       "      <td>48</td>\n",
       "    </tr>\n",
       "    <tr>\n",
       "      <th>68.M11.saliva.1168510</th>\n",
       "      <td>2</td>\n",
       "      <td>4</td>\n",
       "      <td>29</td>\n",
       "    </tr>\n",
       "    <tr>\n",
       "      <th>56.M11.saliva.1168538</th>\n",
       "      <td>1</td>\n",
       "      <td>21</td>\n",
       "      <td>35</td>\n",
       "    </tr>\n",
       "    <tr>\n",
       "      <th>24.M11.saliva.1168580</th>\n",
       "      <td>1</td>\n",
       "      <td>13</td>\n",
       "      <td>32</td>\n",
       "    </tr>\n",
       "    <tr>\n",
       "      <th>29.M11.saliva.1168547</th>\n",
       "      <td>1</td>\n",
       "      <td>14</td>\n",
       "      <td>47</td>\n",
       "    </tr>\n",
       "    <tr>\n",
       "      <th>78.M11.saliva.1168563</th>\n",
       "      <td>2</td>\n",
       "      <td>9</td>\n",
       "      <td>33</td>\n",
       "    </tr>\n",
       "    <tr>\n",
       "      <th>6.M11.saliva.1168502</th>\n",
       "      <td>1</td>\n",
       "      <td>9</td>\n",
       "      <td>31</td>\n",
       "    </tr>\n",
       "    <tr>\n",
       "      <th>12.M11.saliva.1168590</th>\n",
       "      <td>1</td>\n",
       "      <td>10</td>\n",
       "      <td>33</td>\n",
       "    </tr>\n",
       "    <tr>\n",
       "      <th>89.M11.saliva.1168572</th>\n",
       "      <td>2</td>\n",
       "      <td>12</td>\n",
       "      <td>20</td>\n",
       "    </tr>\n",
       "    <tr>\n",
       "      <th>62.M11.saliva.1168528</th>\n",
       "      <td>1</td>\n",
       "      <td>22</td>\n",
       "      <td>49</td>\n",
       "    </tr>\n",
       "    <tr>\n",
       "      <th>72.M11.saliva.1168586</th>\n",
       "      <td>2</td>\n",
       "      <td>8</td>\n",
       "      <td>0</td>\n",
       "    </tr>\n",
       "    <tr>\n",
       "      <th>45.M11.saliva.1168519</th>\n",
       "      <td>1</td>\n",
       "      <td>18</td>\n",
       "      <td>33</td>\n",
       "    </tr>\n",
       "    <tr>\n",
       "      <th>32.M11.saliva.1168576</th>\n",
       "      <td>1</td>\n",
       "      <td>15</td>\n",
       "      <td>25</td>\n",
       "    </tr>\n",
       "    <tr>\n",
       "      <th>26.M11.saliva.1168526</th>\n",
       "      <td>1</td>\n",
       "      <td>14</td>\n",
       "      <td>2</td>\n",
       "    </tr>\n",
       "    <tr>\n",
       "      <th>43.M11.saliva.1168545</th>\n",
       "      <td>1</td>\n",
       "      <td>18</td>\n",
       "      <td>2</td>\n",
       "    </tr>\n",
       "    <tr>\n",
       "      <th>17.M11.saliva.1168511</th>\n",
       "      <td>1</td>\n",
       "      <td>11</td>\n",
       "      <td>48</td>\n",
       "    </tr>\n",
       "    <tr>\n",
       "      <th>16.M11.saliva.1168539</th>\n",
       "      <td>1</td>\n",
       "      <td>11</td>\n",
       "      <td>33</td>\n",
       "    </tr>\n",
       "    <tr>\n",
       "      <th>96.M11.saliva.1168594</th>\n",
       "      <td>2</td>\n",
       "      <td>13</td>\n",
       "      <td>54</td>\n",
       "    </tr>\n",
       "    <tr>\n",
       "      <th>94.M11.saliva.1168565</th>\n",
       "      <td>2</td>\n",
       "      <td>12</td>\n",
       "      <td>53</td>\n",
       "    </tr>\n",
       "    <tr>\n",
       "      <th>36.M11.saliva.1168554</th>\n",
       "      <td>1</td>\n",
       "      <td>16</td>\n",
       "      <td>15</td>\n",
       "    </tr>\n",
       "    <tr>\n",
       "      <th>81.M11.saliva.1168564</th>\n",
       "      <td>2</td>\n",
       "      <td>10</td>\n",
       "      <td>19</td>\n",
       "    </tr>\n",
       "  </tbody>\n",
       "</table>\n",
       "<p>95 rows × 3 columns</p>\n",
       "</div>"
      ],
      "text/plain": [
       "                      DAY HOUR MINUTES\n",
       "#SampleID                             \n",
       "40.M11.saliva.1168503   1   17      17\n",
       "46.M11.saliva.1168574   1   18      49\n",
       "7.M11.saliva.1168517    1    9      33\n",
       "60.M11.saliva.1168546   1   22      19\n",
       "85.M11.saliva.1168506   2   11      19\n",
       "41.M11.saliva.1168551   1   17      32\n",
       "69.M11.saliva.1168557   2    7       0\n",
       "38.M11.saliva.1168521   1   16      46\n",
       "73.M11.saliva.1168533   2    8      15\n",
       "88.M11.saliva.1168591   2   12       5\n",
       "71.M11.saliva.1168595   2    7      45\n",
       "59.M11.saliva.1168535   1   22       5\n",
       "2.M11.saliva.1168561    1    8      38\n",
       "67.M11.saliva.1168593   2    2      20\n",
       "1.M11.saliva.1168567    1    8      25\n",
       "3.M11.saliva.1168562    1    9      17\n",
       "65.M11.saliva.1168597   1   23      35\n",
       "53.M11.saliva.1168508   1   20      49\n",
       "10.M11.saliva.1168573   1   10       4\n",
       "28.M11.saliva.1168583   1   14      32\n",
       "79.M11.saliva.1168578   2    9      49\n",
       "15.M11.saliva.1168584   1   11      18\n",
       "54.M11.saliva.1168582   1   21       5\n",
       "82.M11.saliva.1168589   2   10      34\n",
       "22.M11.saliva.1168530   1   13       2\n",
       "57.M11.saliva.1168522   1   21      45\n",
       "50.M11.saliva.1168588   1   19      58\n",
       "35.M11.saliva.1168534   1   16       0\n",
       "27.M11.saliva.1168540   1   14      17\n",
       "95.M11.saliva.1168579   2   12      56\n",
       "...                    ..  ...     ...\n",
       "19.M11.saliva.1168553   1   12      18\n",
       "42.M11.saliva.1168518   1   17      48\n",
       "61.M11.saliva.1168585   1   22      34\n",
       "18.M11.saliva.1168552   1   12       3\n",
       "20.M11.saliva.1168525   1   12      32\n",
       "23.M11.saliva.1168571   1   13      17\n",
       "39.M11.saliva.1168566   1   17       2\n",
       "51.M11.saliva.1168537   1   20      16\n",
       "5.M11.saliva.1168507    1    9      30\n",
       "21.M11.saliva.1168555   1   12      48\n",
       "68.M11.saliva.1168510   2    4      29\n",
       "56.M11.saliva.1168538   1   21      35\n",
       "24.M11.saliva.1168580   1   13      32\n",
       "29.M11.saliva.1168547   1   14      47\n",
       "78.M11.saliva.1168563   2    9      33\n",
       "6.M11.saliva.1168502    1    9      31\n",
       "12.M11.saliva.1168590   1   10      33\n",
       "89.M11.saliva.1168572   2   12      20\n",
       "62.M11.saliva.1168528   1   22      49\n",
       "72.M11.saliva.1168586   2    8       0\n",
       "45.M11.saliva.1168519   1   18      33\n",
       "32.M11.saliva.1168576   1   15      25\n",
       "26.M11.saliva.1168526   1   14       2\n",
       "43.M11.saliva.1168545   1   18       2\n",
       "17.M11.saliva.1168511   1   11      48\n",
       "16.M11.saliva.1168539   1   11      33\n",
       "96.M11.saliva.1168594   2   13      54\n",
       "94.M11.saliva.1168565   2   12      53\n",
       "36.M11.saliva.1168554   1   16      15\n",
       "81.M11.saliva.1168564   2   10      19\n",
       "\n",
       "[95 rows x 3 columns]"
      ]
     },
     "execution_count": 7,
     "metadata": {},
     "output_type": "execute_result"
    }
   ],
   "source": [
    "x.sample_metadata[['DAY', 'HOUR', 'MINUTES']]"
   ]
  },
  {
   "cell_type": "code",
   "execution_count": 8,
   "metadata": {
    "collapsed": false
   },
   "outputs": [],
   "source": [
    "for field in ['MINUTES', 'HOUR', 'DAY']:\n",
    "    x.sort_by_metadata(field, axis=0, inplace=True)"
   ]
  },
  {
   "cell_type": "code",
   "execution_count": 9,
   "metadata": {
    "collapsed": false
   },
   "outputs": [
    {
     "data": {
      "text/html": [
       "<div>\n",
       "<table border=\"1\" class=\"dataframe\">\n",
       "  <thead>\n",
       "    <tr style=\"text-align: right;\">\n",
       "      <th></th>\n",
       "      <th>DAY</th>\n",
       "      <th>HOUR</th>\n",
       "      <th>MINUTES</th>\n",
       "    </tr>\n",
       "    <tr>\n",
       "      <th>#SampleID</th>\n",
       "      <th></th>\n",
       "      <th></th>\n",
       "      <th></th>\n",
       "    </tr>\n",
       "  </thead>\n",
       "  <tbody>\n",
       "    <tr>\n",
       "      <th>1.M11.saliva.1168567</th>\n",
       "      <td>1</td>\n",
       "      <td>8</td>\n",
       "      <td>25</td>\n",
       "    </tr>\n",
       "    <tr>\n",
       "      <th>2.M11.saliva.1168561</th>\n",
       "      <td>1</td>\n",
       "      <td>8</td>\n",
       "      <td>38</td>\n",
       "    </tr>\n",
       "    <tr>\n",
       "      <th>3.M11.saliva.1168562</th>\n",
       "      <td>1</td>\n",
       "      <td>9</td>\n",
       "      <td>17</td>\n",
       "    </tr>\n",
       "    <tr>\n",
       "      <th>4.M11.saliva.1168558</th>\n",
       "      <td>1</td>\n",
       "      <td>9</td>\n",
       "      <td>29</td>\n",
       "    </tr>\n",
       "    <tr>\n",
       "      <th>5.M11.saliva.1168507</th>\n",
       "      <td>1</td>\n",
       "      <td>9</td>\n",
       "      <td>30</td>\n",
       "    </tr>\n",
       "    <tr>\n",
       "      <th>6.M11.saliva.1168502</th>\n",
       "      <td>1</td>\n",
       "      <td>9</td>\n",
       "      <td>31</td>\n",
       "    </tr>\n",
       "    <tr>\n",
       "      <th>7.M11.saliva.1168517</th>\n",
       "      <td>1</td>\n",
       "      <td>9</td>\n",
       "      <td>33</td>\n",
       "    </tr>\n",
       "    <tr>\n",
       "      <th>8.M11.saliva.1168543</th>\n",
       "      <td>1</td>\n",
       "      <td>9</td>\n",
       "      <td>34</td>\n",
       "    </tr>\n",
       "    <tr>\n",
       "      <th>9.M11.saliva.1168569</th>\n",
       "      <td>1</td>\n",
       "      <td>9</td>\n",
       "      <td>49</td>\n",
       "    </tr>\n",
       "    <tr>\n",
       "      <th>10.M11.saliva.1168573</th>\n",
       "      <td>1</td>\n",
       "      <td>10</td>\n",
       "      <td>4</td>\n",
       "    </tr>\n",
       "    <tr>\n",
       "      <th>11.M11.saliva.1168556</th>\n",
       "      <td>1</td>\n",
       "      <td>10</td>\n",
       "      <td>19</td>\n",
       "    </tr>\n",
       "    <tr>\n",
       "      <th>12.M11.saliva.1168590</th>\n",
       "      <td>1</td>\n",
       "      <td>10</td>\n",
       "      <td>33</td>\n",
       "    </tr>\n",
       "    <tr>\n",
       "      <th>13.M11.saliva.1168512</th>\n",
       "      <td>1</td>\n",
       "      <td>10</td>\n",
       "      <td>48</td>\n",
       "    </tr>\n",
       "    <tr>\n",
       "      <th>14.M11.saliva.1168536</th>\n",
       "      <td>1</td>\n",
       "      <td>11</td>\n",
       "      <td>3</td>\n",
       "    </tr>\n",
       "    <tr>\n",
       "      <th>15.M11.saliva.1168584</th>\n",
       "      <td>1</td>\n",
       "      <td>11</td>\n",
       "      <td>18</td>\n",
       "    </tr>\n",
       "    <tr>\n",
       "      <th>16.M11.saliva.1168539</th>\n",
       "      <td>1</td>\n",
       "      <td>11</td>\n",
       "      <td>33</td>\n",
       "    </tr>\n",
       "    <tr>\n",
       "      <th>17.M11.saliva.1168511</th>\n",
       "      <td>1</td>\n",
       "      <td>11</td>\n",
       "      <td>48</td>\n",
       "    </tr>\n",
       "    <tr>\n",
       "      <th>18.M11.saliva.1168552</th>\n",
       "      <td>1</td>\n",
       "      <td>12</td>\n",
       "      <td>3</td>\n",
       "    </tr>\n",
       "    <tr>\n",
       "      <th>19.M11.saliva.1168553</th>\n",
       "      <td>1</td>\n",
       "      <td>12</td>\n",
       "      <td>18</td>\n",
       "    </tr>\n",
       "    <tr>\n",
       "      <th>20.M11.saliva.1168525</th>\n",
       "      <td>1</td>\n",
       "      <td>12</td>\n",
       "      <td>32</td>\n",
       "    </tr>\n",
       "    <tr>\n",
       "      <th>21.M11.saliva.1168555</th>\n",
       "      <td>1</td>\n",
       "      <td>12</td>\n",
       "      <td>48</td>\n",
       "    </tr>\n",
       "    <tr>\n",
       "      <th>22.M11.saliva.1168530</th>\n",
       "      <td>1</td>\n",
       "      <td>13</td>\n",
       "      <td>2</td>\n",
       "    </tr>\n",
       "    <tr>\n",
       "      <th>23.M11.saliva.1168571</th>\n",
       "      <td>1</td>\n",
       "      <td>13</td>\n",
       "      <td>17</td>\n",
       "    </tr>\n",
       "    <tr>\n",
       "      <th>24.M11.saliva.1168580</th>\n",
       "      <td>1</td>\n",
       "      <td>13</td>\n",
       "      <td>32</td>\n",
       "    </tr>\n",
       "    <tr>\n",
       "      <th>25.M11.saliva.1168514</th>\n",
       "      <td>1</td>\n",
       "      <td>13</td>\n",
       "      <td>47</td>\n",
       "    </tr>\n",
       "    <tr>\n",
       "      <th>26.M11.saliva.1168526</th>\n",
       "      <td>1</td>\n",
       "      <td>14</td>\n",
       "      <td>2</td>\n",
       "    </tr>\n",
       "    <tr>\n",
       "      <th>27.M11.saliva.1168540</th>\n",
       "      <td>1</td>\n",
       "      <td>14</td>\n",
       "      <td>17</td>\n",
       "    </tr>\n",
       "    <tr>\n",
       "      <th>28.M11.saliva.1168583</th>\n",
       "      <td>1</td>\n",
       "      <td>14</td>\n",
       "      <td>32</td>\n",
       "    </tr>\n",
       "    <tr>\n",
       "      <th>29.M11.saliva.1168547</th>\n",
       "      <td>1</td>\n",
       "      <td>14</td>\n",
       "      <td>47</td>\n",
       "    </tr>\n",
       "    <tr>\n",
       "      <th>30.M11.saliva.1168505</th>\n",
       "      <td>1</td>\n",
       "      <td>15</td>\n",
       "      <td>4</td>\n",
       "    </tr>\n",
       "    <tr>\n",
       "      <th>...</th>\n",
       "      <td>...</td>\n",
       "      <td>...</td>\n",
       "      <td>...</td>\n",
       "    </tr>\n",
       "    <tr>\n",
       "      <th>67.M11.saliva.1168593</th>\n",
       "      <td>2</td>\n",
       "      <td>2</td>\n",
       "      <td>20</td>\n",
       "    </tr>\n",
       "    <tr>\n",
       "      <th>68.M11.saliva.1168510</th>\n",
       "      <td>2</td>\n",
       "      <td>4</td>\n",
       "      <td>29</td>\n",
       "    </tr>\n",
       "    <tr>\n",
       "      <th>69.M11.saliva.1168557</th>\n",
       "      <td>2</td>\n",
       "      <td>7</td>\n",
       "      <td>0</td>\n",
       "    </tr>\n",
       "    <tr>\n",
       "      <th>70.M11.saliva.1168568</th>\n",
       "      <td>2</td>\n",
       "      <td>7</td>\n",
       "      <td>30</td>\n",
       "    </tr>\n",
       "    <tr>\n",
       "      <th>71.M11.saliva.1168595</th>\n",
       "      <td>2</td>\n",
       "      <td>7</td>\n",
       "      <td>45</td>\n",
       "    </tr>\n",
       "    <tr>\n",
       "      <th>72.M11.saliva.1168586</th>\n",
       "      <td>2</td>\n",
       "      <td>8</td>\n",
       "      <td>0</td>\n",
       "    </tr>\n",
       "    <tr>\n",
       "      <th>73.M11.saliva.1168533</th>\n",
       "      <td>2</td>\n",
       "      <td>8</td>\n",
       "      <td>15</td>\n",
       "    </tr>\n",
       "    <tr>\n",
       "      <th>74.M11.saliva.1168592</th>\n",
       "      <td>2</td>\n",
       "      <td>8</td>\n",
       "      <td>30</td>\n",
       "    </tr>\n",
       "    <tr>\n",
       "      <th>75.M11.saliva.1168524</th>\n",
       "      <td>2</td>\n",
       "      <td>8</td>\n",
       "      <td>47</td>\n",
       "    </tr>\n",
       "    <tr>\n",
       "      <th>76.M11.saliva.1168549</th>\n",
       "      <td>2</td>\n",
       "      <td>9</td>\n",
       "      <td>4</td>\n",
       "    </tr>\n",
       "    <tr>\n",
       "      <th>77.M11.saliva.1168548</th>\n",
       "      <td>2</td>\n",
       "      <td>9</td>\n",
       "      <td>18</td>\n",
       "    </tr>\n",
       "    <tr>\n",
       "      <th>78.M11.saliva.1168563</th>\n",
       "      <td>2</td>\n",
       "      <td>9</td>\n",
       "      <td>33</td>\n",
       "    </tr>\n",
       "    <tr>\n",
       "      <th>79.M11.saliva.1168578</th>\n",
       "      <td>2</td>\n",
       "      <td>9</td>\n",
       "      <td>49</td>\n",
       "    </tr>\n",
       "    <tr>\n",
       "      <th>80.M11.saliva.1168513</th>\n",
       "      <td>2</td>\n",
       "      <td>10</td>\n",
       "      <td>4</td>\n",
       "    </tr>\n",
       "    <tr>\n",
       "      <th>81.M11.saliva.1168564</th>\n",
       "      <td>2</td>\n",
       "      <td>10</td>\n",
       "      <td>19</td>\n",
       "    </tr>\n",
       "    <tr>\n",
       "      <th>82.M11.saliva.1168589</th>\n",
       "      <td>2</td>\n",
       "      <td>10</td>\n",
       "      <td>34</td>\n",
       "    </tr>\n",
       "    <tr>\n",
       "      <th>83.M11.saliva.1168504</th>\n",
       "      <td>2</td>\n",
       "      <td>10</td>\n",
       "      <td>48</td>\n",
       "    </tr>\n",
       "    <tr>\n",
       "      <th>84.M11.saliva.1168577</th>\n",
       "      <td>2</td>\n",
       "      <td>11</td>\n",
       "      <td>4</td>\n",
       "    </tr>\n",
       "    <tr>\n",
       "      <th>85.M11.saliva.1168506</th>\n",
       "      <td>2</td>\n",
       "      <td>11</td>\n",
       "      <td>19</td>\n",
       "    </tr>\n",
       "    <tr>\n",
       "      <th>86.M11.saliva.1168570</th>\n",
       "      <td>2</td>\n",
       "      <td>11</td>\n",
       "      <td>34</td>\n",
       "    </tr>\n",
       "    <tr>\n",
       "      <th>87.M11.saliva.1168587</th>\n",
       "      <td>2</td>\n",
       "      <td>11</td>\n",
       "      <td>49</td>\n",
       "    </tr>\n",
       "    <tr>\n",
       "      <th>88.M11.saliva.1168591</th>\n",
       "      <td>2</td>\n",
       "      <td>12</td>\n",
       "      <td>5</td>\n",
       "    </tr>\n",
       "    <tr>\n",
       "      <th>89.M11.saliva.1168572</th>\n",
       "      <td>2</td>\n",
       "      <td>12</td>\n",
       "      <td>20</td>\n",
       "    </tr>\n",
       "    <tr>\n",
       "      <th>90.M11.saliva.1168575</th>\n",
       "      <td>2</td>\n",
       "      <td>12</td>\n",
       "      <td>35</td>\n",
       "    </tr>\n",
       "    <tr>\n",
       "      <th>91.M11.saliva.1168527</th>\n",
       "      <td>2</td>\n",
       "      <td>12</td>\n",
       "      <td>49</td>\n",
       "    </tr>\n",
       "    <tr>\n",
       "      <th>92.M11.saliva.1168523</th>\n",
       "      <td>2</td>\n",
       "      <td>12</td>\n",
       "      <td>50</td>\n",
       "    </tr>\n",
       "    <tr>\n",
       "      <th>93.M11.saliva.1168531</th>\n",
       "      <td>2</td>\n",
       "      <td>12</td>\n",
       "      <td>51</td>\n",
       "    </tr>\n",
       "    <tr>\n",
       "      <th>94.M11.saliva.1168565</th>\n",
       "      <td>2</td>\n",
       "      <td>12</td>\n",
       "      <td>53</td>\n",
       "    </tr>\n",
       "    <tr>\n",
       "      <th>95.M11.saliva.1168579</th>\n",
       "      <td>2</td>\n",
       "      <td>12</td>\n",
       "      <td>56</td>\n",
       "    </tr>\n",
       "    <tr>\n",
       "      <th>96.M11.saliva.1168594</th>\n",
       "      <td>2</td>\n",
       "      <td>13</td>\n",
       "      <td>54</td>\n",
       "    </tr>\n",
       "  </tbody>\n",
       "</table>\n",
       "<p>95 rows × 3 columns</p>\n",
       "</div>"
      ],
      "text/plain": [
       "                      DAY HOUR MINUTES\n",
       "#SampleID                             \n",
       "1.M11.saliva.1168567    1    8      25\n",
       "2.M11.saliva.1168561    1    8      38\n",
       "3.M11.saliva.1168562    1    9      17\n",
       "4.M11.saliva.1168558    1    9      29\n",
       "5.M11.saliva.1168507    1    9      30\n",
       "6.M11.saliva.1168502    1    9      31\n",
       "7.M11.saliva.1168517    1    9      33\n",
       "8.M11.saliva.1168543    1    9      34\n",
       "9.M11.saliva.1168569    1    9      49\n",
       "10.M11.saliva.1168573   1   10       4\n",
       "11.M11.saliva.1168556   1   10      19\n",
       "12.M11.saliva.1168590   1   10      33\n",
       "13.M11.saliva.1168512   1   10      48\n",
       "14.M11.saliva.1168536   1   11       3\n",
       "15.M11.saliva.1168584   1   11      18\n",
       "16.M11.saliva.1168539   1   11      33\n",
       "17.M11.saliva.1168511   1   11      48\n",
       "18.M11.saliva.1168552   1   12       3\n",
       "19.M11.saliva.1168553   1   12      18\n",
       "20.M11.saliva.1168525   1   12      32\n",
       "21.M11.saliva.1168555   1   12      48\n",
       "22.M11.saliva.1168530   1   13       2\n",
       "23.M11.saliva.1168571   1   13      17\n",
       "24.M11.saliva.1168580   1   13      32\n",
       "25.M11.saliva.1168514   1   13      47\n",
       "26.M11.saliva.1168526   1   14       2\n",
       "27.M11.saliva.1168540   1   14      17\n",
       "28.M11.saliva.1168583   1   14      32\n",
       "29.M11.saliva.1168547   1   14      47\n",
       "30.M11.saliva.1168505   1   15       4\n",
       "...                    ..  ...     ...\n",
       "67.M11.saliva.1168593   2    2      20\n",
       "68.M11.saliva.1168510   2    4      29\n",
       "69.M11.saliva.1168557   2    7       0\n",
       "70.M11.saliva.1168568   2    7      30\n",
       "71.M11.saliva.1168595   2    7      45\n",
       "72.M11.saliva.1168586   2    8       0\n",
       "73.M11.saliva.1168533   2    8      15\n",
       "74.M11.saliva.1168592   2    8      30\n",
       "75.M11.saliva.1168524   2    8      47\n",
       "76.M11.saliva.1168549   2    9       4\n",
       "77.M11.saliva.1168548   2    9      18\n",
       "78.M11.saliva.1168563   2    9      33\n",
       "79.M11.saliva.1168578   2    9      49\n",
       "80.M11.saliva.1168513   2   10       4\n",
       "81.M11.saliva.1168564   2   10      19\n",
       "82.M11.saliva.1168589   2   10      34\n",
       "83.M11.saliva.1168504   2   10      48\n",
       "84.M11.saliva.1168577   2   11       4\n",
       "85.M11.saliva.1168506   2   11      19\n",
       "86.M11.saliva.1168570   2   11      34\n",
       "87.M11.saliva.1168587   2   11      49\n",
       "88.M11.saliva.1168591   2   12       5\n",
       "89.M11.saliva.1168572   2   12      20\n",
       "90.M11.saliva.1168575   2   12      35\n",
       "91.M11.saliva.1168527   2   12      49\n",
       "92.M11.saliva.1168523   2   12      50\n",
       "93.M11.saliva.1168531   2   12      51\n",
       "94.M11.saliva.1168565   2   12      53\n",
       "95.M11.saliva.1168579   2   12      56\n",
       "96.M11.saliva.1168594   2   13      54\n",
       "\n",
       "[95 rows x 3 columns]"
      ]
     },
     "execution_count": 9,
     "metadata": {},
     "output_type": "execute_result"
    }
   ],
   "source": [
    "x.sample_metadata[['DAY', 'HOUR', 'MINUTES']]"
   ]
  },
  {
   "cell_type": "code",
   "execution_count": 10,
   "metadata": {
    "collapsed": false
   },
   "outputs": [
    {
     "data": {
      "application/javascript": [
       "/* Put everything inside the global mpl namespace */\n",
       "window.mpl = {};\n",
       "\n",
       "\n",
       "mpl.get_websocket_type = function() {\n",
       "    if (typeof(WebSocket) !== 'undefined') {\n",
       "        return WebSocket;\n",
       "    } else if (typeof(MozWebSocket) !== 'undefined') {\n",
       "        return MozWebSocket;\n",
       "    } else {\n",
       "        alert('Your browser does not have WebSocket support.' +\n",
       "              'Please try Chrome, Safari or Firefox ≥ 6. ' +\n",
       "              'Firefox 4 and 5 are also supported but you ' +\n",
       "              'have to enable WebSockets in about:config.');\n",
       "    };\n",
       "}\n",
       "\n",
       "mpl.figure = function(figure_id, websocket, ondownload, parent_element) {\n",
       "    this.id = figure_id;\n",
       "\n",
       "    this.ws = websocket;\n",
       "\n",
       "    this.supports_binary = (this.ws.binaryType != undefined);\n",
       "\n",
       "    if (!this.supports_binary) {\n",
       "        var warnings = document.getElementById(\"mpl-warnings\");\n",
       "        if (warnings) {\n",
       "            warnings.style.display = 'block';\n",
       "            warnings.textContent = (\n",
       "                \"This browser does not support binary websocket messages. \" +\n",
       "                    \"Performance may be slow.\");\n",
       "        }\n",
       "    }\n",
       "\n",
       "    this.imageObj = new Image();\n",
       "\n",
       "    this.context = undefined;\n",
       "    this.message = undefined;\n",
       "    this.canvas = undefined;\n",
       "    this.rubberband_canvas = undefined;\n",
       "    this.rubberband_context = undefined;\n",
       "    this.format_dropdown = undefined;\n",
       "\n",
       "    this.image_mode = 'full';\n",
       "\n",
       "    this.root = $('<div/>');\n",
       "    this._root_extra_style(this.root)\n",
       "    this.root.attr('style', 'display: inline-block');\n",
       "\n",
       "    $(parent_element).append(this.root);\n",
       "\n",
       "    this._init_header(this);\n",
       "    this._init_canvas(this);\n",
       "    this._init_toolbar(this);\n",
       "\n",
       "    var fig = this;\n",
       "\n",
       "    this.waiting = false;\n",
       "\n",
       "    this.ws.onopen =  function () {\n",
       "            fig.send_message(\"supports_binary\", {value: fig.supports_binary});\n",
       "            fig.send_message(\"send_image_mode\", {});\n",
       "            if (mpl.ratio != 1) {\n",
       "                fig.send_message(\"set_dpi_ratio\", {'dpi_ratio': mpl.ratio});\n",
       "            }\n",
       "            fig.send_message(\"refresh\", {});\n",
       "        }\n",
       "\n",
       "    this.imageObj.onload = function() {\n",
       "            if (fig.image_mode == 'full') {\n",
       "                // Full images could contain transparency (where diff images\n",
       "                // almost always do), so we need to clear the canvas so that\n",
       "                // there is no ghosting.\n",
       "                fig.context.clearRect(0, 0, fig.canvas.width, fig.canvas.height);\n",
       "            }\n",
       "            fig.context.drawImage(fig.imageObj, 0, 0);\n",
       "        };\n",
       "\n",
       "    this.imageObj.onunload = function() {\n",
       "        this.ws.close();\n",
       "    }\n",
       "\n",
       "    this.ws.onmessage = this._make_on_message_function(this);\n",
       "\n",
       "    this.ondownload = ondownload;\n",
       "}\n",
       "\n",
       "mpl.figure.prototype._init_header = function() {\n",
       "    var titlebar = $(\n",
       "        '<div class=\"ui-dialog-titlebar ui-widget-header ui-corner-all ' +\n",
       "        'ui-helper-clearfix\"/>');\n",
       "    var titletext = $(\n",
       "        '<div class=\"ui-dialog-title\" style=\"width: 100%; ' +\n",
       "        'text-align: center; padding: 3px;\"/>');\n",
       "    titlebar.append(titletext)\n",
       "    this.root.append(titlebar);\n",
       "    this.header = titletext[0];\n",
       "}\n",
       "\n",
       "\n",
       "\n",
       "mpl.figure.prototype._canvas_extra_style = function(canvas_div) {\n",
       "\n",
       "}\n",
       "\n",
       "\n",
       "mpl.figure.prototype._root_extra_style = function(canvas_div) {\n",
       "\n",
       "}\n",
       "\n",
       "mpl.figure.prototype._init_canvas = function() {\n",
       "    var fig = this;\n",
       "\n",
       "    var canvas_div = $('<div/>');\n",
       "\n",
       "    canvas_div.attr('style', 'position: relative; clear: both; outline: 0');\n",
       "\n",
       "    function canvas_keyboard_event(event) {\n",
       "        return fig.key_event(event, event['data']);\n",
       "    }\n",
       "\n",
       "    canvas_div.keydown('key_press', canvas_keyboard_event);\n",
       "    canvas_div.keyup('key_release', canvas_keyboard_event);\n",
       "    this.canvas_div = canvas_div\n",
       "    this._canvas_extra_style(canvas_div)\n",
       "    this.root.append(canvas_div);\n",
       "\n",
       "    var canvas = $('<canvas/>');\n",
       "    canvas.addClass('mpl-canvas');\n",
       "    canvas.attr('style', \"left: 0; top: 0; z-index: 0; outline: 0\")\n",
       "\n",
       "    this.canvas = canvas[0];\n",
       "    this.context = canvas[0].getContext(\"2d\");\n",
       "\n",
       "    var backingStore = this.context.backingStorePixelRatio ||\n",
       "\tthis.context.webkitBackingStorePixelRatio ||\n",
       "\tthis.context.mozBackingStorePixelRatio ||\n",
       "\tthis.context.msBackingStorePixelRatio ||\n",
       "\tthis.context.oBackingStorePixelRatio ||\n",
       "\tthis.context.backingStorePixelRatio || 1;\n",
       "\n",
       "    mpl.ratio = (window.devicePixelRatio || 1) / backingStore;\n",
       "\n",
       "    var rubberband = $('<canvas/>');\n",
       "    rubberband.attr('style', \"position: absolute; left: 0; top: 0; z-index: 1;\")\n",
       "\n",
       "    var pass_mouse_events = true;\n",
       "\n",
       "    canvas_div.resizable({\n",
       "        start: function(event, ui) {\n",
       "            pass_mouse_events = false;\n",
       "        },\n",
       "        resize: function(event, ui) {\n",
       "            fig.request_resize(ui.size.width, ui.size.height);\n",
       "        },\n",
       "        stop: function(event, ui) {\n",
       "            pass_mouse_events = true;\n",
       "            fig.request_resize(ui.size.width, ui.size.height);\n",
       "        },\n",
       "    });\n",
       "\n",
       "    function mouse_event_fn(event) {\n",
       "        if (pass_mouse_events)\n",
       "            return fig.mouse_event(event, event['data']);\n",
       "    }\n",
       "\n",
       "    rubberband.mousedown('button_press', mouse_event_fn);\n",
       "    rubberband.mouseup('button_release', mouse_event_fn);\n",
       "    // Throttle sequential mouse events to 1 every 20ms.\n",
       "    rubberband.mousemove('motion_notify', mouse_event_fn);\n",
       "\n",
       "    rubberband.mouseenter('figure_enter', mouse_event_fn);\n",
       "    rubberband.mouseleave('figure_leave', mouse_event_fn);\n",
       "\n",
       "    canvas_div.on(\"wheel\", function (event) {\n",
       "        event = event.originalEvent;\n",
       "        event['data'] = 'scroll'\n",
       "        if (event.deltaY < 0) {\n",
       "            event.step = 1;\n",
       "        } else {\n",
       "            event.step = -1;\n",
       "        }\n",
       "        mouse_event_fn(event);\n",
       "    });\n",
       "\n",
       "    canvas_div.append(canvas);\n",
       "    canvas_div.append(rubberband);\n",
       "\n",
       "    this.rubberband = rubberband;\n",
       "    this.rubberband_canvas = rubberband[0];\n",
       "    this.rubberband_context = rubberband[0].getContext(\"2d\");\n",
       "    this.rubberband_context.strokeStyle = \"#000000\";\n",
       "\n",
       "    this._resize_canvas = function(width, height) {\n",
       "        // Keep the size of the canvas, canvas container, and rubber band\n",
       "        // canvas in synch.\n",
       "        canvas_div.css('width', width)\n",
       "        canvas_div.css('height', height)\n",
       "\n",
       "        canvas.attr('width', width * mpl.ratio);\n",
       "        canvas.attr('height', height * mpl.ratio);\n",
       "        canvas.attr('style', 'width: ' + width + 'px; height: ' + height + 'px;');\n",
       "\n",
       "        rubberband.attr('width', width);\n",
       "        rubberband.attr('height', height);\n",
       "    }\n",
       "\n",
       "    // Set the figure to an initial 600x600px, this will subsequently be updated\n",
       "    // upon first draw.\n",
       "    this._resize_canvas(600, 600);\n",
       "\n",
       "    // Disable right mouse context menu.\n",
       "    $(this.rubberband_canvas).bind(\"contextmenu\",function(e){\n",
       "        return false;\n",
       "    });\n",
       "\n",
       "    function set_focus () {\n",
       "        canvas.focus();\n",
       "        canvas_div.focus();\n",
       "    }\n",
       "\n",
       "    window.setTimeout(set_focus, 100);\n",
       "}\n",
       "\n",
       "mpl.figure.prototype._init_toolbar = function() {\n",
       "    var fig = this;\n",
       "\n",
       "    var nav_element = $('<div/>')\n",
       "    nav_element.attr('style', 'width: 100%');\n",
       "    this.root.append(nav_element);\n",
       "\n",
       "    // Define a callback function for later on.\n",
       "    function toolbar_event(event) {\n",
       "        return fig.toolbar_button_onclick(event['data']);\n",
       "    }\n",
       "    function toolbar_mouse_event(event) {\n",
       "        return fig.toolbar_button_onmouseover(event['data']);\n",
       "    }\n",
       "\n",
       "    for(var toolbar_ind in mpl.toolbar_items) {\n",
       "        var name = mpl.toolbar_items[toolbar_ind][0];\n",
       "        var tooltip = mpl.toolbar_items[toolbar_ind][1];\n",
       "        var image = mpl.toolbar_items[toolbar_ind][2];\n",
       "        var method_name = mpl.toolbar_items[toolbar_ind][3];\n",
       "\n",
       "        if (!name) {\n",
       "            // put a spacer in here.\n",
       "            continue;\n",
       "        }\n",
       "        var button = $('<button/>');\n",
       "        button.addClass('ui-button ui-widget ui-state-default ui-corner-all ' +\n",
       "                        'ui-button-icon-only');\n",
       "        button.attr('role', 'button');\n",
       "        button.attr('aria-disabled', 'false');\n",
       "        button.click(method_name, toolbar_event);\n",
       "        button.mouseover(tooltip, toolbar_mouse_event);\n",
       "\n",
       "        var icon_img = $('<span/>');\n",
       "        icon_img.addClass('ui-button-icon-primary ui-icon');\n",
       "        icon_img.addClass(image);\n",
       "        icon_img.addClass('ui-corner-all');\n",
       "\n",
       "        var tooltip_span = $('<span/>');\n",
       "        tooltip_span.addClass('ui-button-text');\n",
       "        tooltip_span.html(tooltip);\n",
       "\n",
       "        button.append(icon_img);\n",
       "        button.append(tooltip_span);\n",
       "\n",
       "        nav_element.append(button);\n",
       "    }\n",
       "\n",
       "    var fmt_picker_span = $('<span/>');\n",
       "\n",
       "    var fmt_picker = $('<select/>');\n",
       "    fmt_picker.addClass('mpl-toolbar-option ui-widget ui-widget-content');\n",
       "    fmt_picker_span.append(fmt_picker);\n",
       "    nav_element.append(fmt_picker_span);\n",
       "    this.format_dropdown = fmt_picker[0];\n",
       "\n",
       "    for (var ind in mpl.extensions) {\n",
       "        var fmt = mpl.extensions[ind];\n",
       "        var option = $(\n",
       "            '<option/>', {selected: fmt === mpl.default_extension}).html(fmt);\n",
       "        fmt_picker.append(option)\n",
       "    }\n",
       "\n",
       "    // Add hover states to the ui-buttons\n",
       "    $( \".ui-button\" ).hover(\n",
       "        function() { $(this).addClass(\"ui-state-hover\");},\n",
       "        function() { $(this).removeClass(\"ui-state-hover\");}\n",
       "    );\n",
       "\n",
       "    var status_bar = $('<span class=\"mpl-message\"/>');\n",
       "    nav_element.append(status_bar);\n",
       "    this.message = status_bar[0];\n",
       "}\n",
       "\n",
       "mpl.figure.prototype.request_resize = function(x_pixels, y_pixels) {\n",
       "    // Request matplotlib to resize the figure. Matplotlib will then trigger a resize in the client,\n",
       "    // which will in turn request a refresh of the image.\n",
       "    this.send_message('resize', {'width': x_pixels, 'height': y_pixels});\n",
       "}\n",
       "\n",
       "mpl.figure.prototype.send_message = function(type, properties) {\n",
       "    properties['type'] = type;\n",
       "    properties['figure_id'] = this.id;\n",
       "    this.ws.send(JSON.stringify(properties));\n",
       "}\n",
       "\n",
       "mpl.figure.prototype.send_draw_message = function() {\n",
       "    if (!this.waiting) {\n",
       "        this.waiting = true;\n",
       "        this.ws.send(JSON.stringify({type: \"draw\", figure_id: this.id}));\n",
       "    }\n",
       "}\n",
       "\n",
       "\n",
       "mpl.figure.prototype.handle_save = function(fig, msg) {\n",
       "    var format_dropdown = fig.format_dropdown;\n",
       "    var format = format_dropdown.options[format_dropdown.selectedIndex].value;\n",
       "    fig.ondownload(fig, format);\n",
       "}\n",
       "\n",
       "\n",
       "mpl.figure.prototype.handle_resize = function(fig, msg) {\n",
       "    var size = msg['size'];\n",
       "    if (size[0] != fig.canvas.width || size[1] != fig.canvas.height) {\n",
       "        fig._resize_canvas(size[0], size[1]);\n",
       "        fig.send_message(\"refresh\", {});\n",
       "    };\n",
       "}\n",
       "\n",
       "mpl.figure.prototype.handle_rubberband = function(fig, msg) {\n",
       "    var x0 = msg['x0'] / mpl.ratio;\n",
       "    var y0 = (fig.canvas.height - msg['y0']) / mpl.ratio;\n",
       "    var x1 = msg['x1'] / mpl.ratio;\n",
       "    var y1 = (fig.canvas.height - msg['y1']) / mpl.ratio;\n",
       "    x0 = Math.floor(x0) + 0.5;\n",
       "    y0 = Math.floor(y0) + 0.5;\n",
       "    x1 = Math.floor(x1) + 0.5;\n",
       "    y1 = Math.floor(y1) + 0.5;\n",
       "    var min_x = Math.min(x0, x1);\n",
       "    var min_y = Math.min(y0, y1);\n",
       "    var width = Math.abs(x1 - x0);\n",
       "    var height = Math.abs(y1 - y0);\n",
       "\n",
       "    fig.rubberband_context.clearRect(\n",
       "        0, 0, fig.canvas.width, fig.canvas.height);\n",
       "\n",
       "    fig.rubberband_context.strokeRect(min_x, min_y, width, height);\n",
       "}\n",
       "\n",
       "mpl.figure.prototype.handle_figure_label = function(fig, msg) {\n",
       "    // Updates the figure title.\n",
       "    fig.header.textContent = msg['label'];\n",
       "}\n",
       "\n",
       "mpl.figure.prototype.handle_cursor = function(fig, msg) {\n",
       "    var cursor = msg['cursor'];\n",
       "    switch(cursor)\n",
       "    {\n",
       "    case 0:\n",
       "        cursor = 'pointer';\n",
       "        break;\n",
       "    case 1:\n",
       "        cursor = 'default';\n",
       "        break;\n",
       "    case 2:\n",
       "        cursor = 'crosshair';\n",
       "        break;\n",
       "    case 3:\n",
       "        cursor = 'move';\n",
       "        break;\n",
       "    }\n",
       "    fig.rubberband_canvas.style.cursor = cursor;\n",
       "}\n",
       "\n",
       "mpl.figure.prototype.handle_message = function(fig, msg) {\n",
       "    fig.message.textContent = msg['message'];\n",
       "}\n",
       "\n",
       "mpl.figure.prototype.handle_draw = function(fig, msg) {\n",
       "    // Request the server to send over a new figure.\n",
       "    fig.send_draw_message();\n",
       "}\n",
       "\n",
       "mpl.figure.prototype.handle_image_mode = function(fig, msg) {\n",
       "    fig.image_mode = msg['mode'];\n",
       "}\n",
       "\n",
       "mpl.figure.prototype.updated_canvas_event = function() {\n",
       "    // Called whenever the canvas gets updated.\n",
       "    this.send_message(\"ack\", {});\n",
       "}\n",
       "\n",
       "// A function to construct a web socket function for onmessage handling.\n",
       "// Called in the figure constructor.\n",
       "mpl.figure.prototype._make_on_message_function = function(fig) {\n",
       "    return function socket_on_message(evt) {\n",
       "        if (evt.data instanceof Blob) {\n",
       "            /* FIXME: We get \"Resource interpreted as Image but\n",
       "             * transferred with MIME type text/plain:\" errors on\n",
       "             * Chrome.  But how to set the MIME type?  It doesn't seem\n",
       "             * to be part of the websocket stream */\n",
       "            evt.data.type = \"image/png\";\n",
       "\n",
       "            /* Free the memory for the previous frames */\n",
       "            if (fig.imageObj.src) {\n",
       "                (window.URL || window.webkitURL).revokeObjectURL(\n",
       "                    fig.imageObj.src);\n",
       "            }\n",
       "\n",
       "            fig.imageObj.src = (window.URL || window.webkitURL).createObjectURL(\n",
       "                evt.data);\n",
       "            fig.updated_canvas_event();\n",
       "            fig.waiting = false;\n",
       "            return;\n",
       "        }\n",
       "        else if (typeof evt.data === 'string' && evt.data.slice(0, 21) == \"data:image/png;base64\") {\n",
       "            fig.imageObj.src = evt.data;\n",
       "            fig.updated_canvas_event();\n",
       "            fig.waiting = false;\n",
       "            return;\n",
       "        }\n",
       "\n",
       "        var msg = JSON.parse(evt.data);\n",
       "        var msg_type = msg['type'];\n",
       "\n",
       "        // Call the  \"handle_{type}\" callback, which takes\n",
       "        // the figure and JSON message as its only arguments.\n",
       "        try {\n",
       "            var callback = fig[\"handle_\" + msg_type];\n",
       "        } catch (e) {\n",
       "            console.log(\"No handler for the '\" + msg_type + \"' message type: \", msg);\n",
       "            return;\n",
       "        }\n",
       "\n",
       "        if (callback) {\n",
       "            try {\n",
       "                // console.log(\"Handling '\" + msg_type + \"' message: \", msg);\n",
       "                callback(fig, msg);\n",
       "            } catch (e) {\n",
       "                console.log(\"Exception inside the 'handler_\" + msg_type + \"' callback:\", e, e.stack, msg);\n",
       "            }\n",
       "        }\n",
       "    };\n",
       "}\n",
       "\n",
       "// from http://stackoverflow.com/questions/1114465/getting-mouse-location-in-canvas\n",
       "mpl.findpos = function(e) {\n",
       "    //this section is from http://www.quirksmode.org/js/events_properties.html\n",
       "    var targ;\n",
       "    if (!e)\n",
       "        e = window.event;\n",
       "    if (e.target)\n",
       "        targ = e.target;\n",
       "    else if (e.srcElement)\n",
       "        targ = e.srcElement;\n",
       "    if (targ.nodeType == 3) // defeat Safari bug\n",
       "        targ = targ.parentNode;\n",
       "\n",
       "    // jQuery normalizes the pageX and pageY\n",
       "    // pageX,Y are the mouse positions relative to the document\n",
       "    // offset() returns the position of the element relative to the document\n",
       "    var x = e.pageX - $(targ).offset().left;\n",
       "    var y = e.pageY - $(targ).offset().top;\n",
       "\n",
       "    return {\"x\": x, \"y\": y};\n",
       "};\n",
       "\n",
       "/*\n",
       " * return a copy of an object with only non-object keys\n",
       " * we need this to avoid circular references\n",
       " * http://stackoverflow.com/a/24161582/3208463\n",
       " */\n",
       "function simpleKeys (original) {\n",
       "  return Object.keys(original).reduce(function (obj, key) {\n",
       "    if (typeof original[key] !== 'object')\n",
       "        obj[key] = original[key]\n",
       "    return obj;\n",
       "  }, {});\n",
       "}\n",
       "\n",
       "mpl.figure.prototype.mouse_event = function(event, name) {\n",
       "    var canvas_pos = mpl.findpos(event)\n",
       "\n",
       "    if (name === 'button_press')\n",
       "    {\n",
       "        this.canvas.focus();\n",
       "        this.canvas_div.focus();\n",
       "    }\n",
       "\n",
       "    var x = canvas_pos.x * mpl.ratio;\n",
       "    var y = canvas_pos.y * mpl.ratio;\n",
       "\n",
       "    this.send_message(name, {x: x, y: y, button: event.button,\n",
       "                             step: event.step,\n",
       "                             guiEvent: simpleKeys(event)});\n",
       "\n",
       "    /* This prevents the web browser from automatically changing to\n",
       "     * the text insertion cursor when the button is pressed.  We want\n",
       "     * to control all of the cursor setting manually through the\n",
       "     * 'cursor' event from matplotlib */\n",
       "    event.preventDefault();\n",
       "    return false;\n",
       "}\n",
       "\n",
       "mpl.figure.prototype._key_event_extra = function(event, name) {\n",
       "    // Handle any extra behaviour associated with a key event\n",
       "}\n",
       "\n",
       "mpl.figure.prototype.key_event = function(event, name) {\n",
       "\n",
       "    // Prevent repeat events\n",
       "    if (name == 'key_press')\n",
       "    {\n",
       "        if (event.which === this._key)\n",
       "            return;\n",
       "        else\n",
       "            this._key = event.which;\n",
       "    }\n",
       "    if (name == 'key_release')\n",
       "        this._key = null;\n",
       "\n",
       "    var value = '';\n",
       "    if (event.ctrlKey && event.which != 17)\n",
       "        value += \"ctrl+\";\n",
       "    if (event.altKey && event.which != 18)\n",
       "        value += \"alt+\";\n",
       "    if (event.shiftKey && event.which != 16)\n",
       "        value += \"shift+\";\n",
       "\n",
       "    value += 'k';\n",
       "    value += event.which.toString();\n",
       "\n",
       "    this._key_event_extra(event, name);\n",
       "\n",
       "    this.send_message(name, {key: value,\n",
       "                             guiEvent: simpleKeys(event)});\n",
       "    return false;\n",
       "}\n",
       "\n",
       "mpl.figure.prototype.toolbar_button_onclick = function(name) {\n",
       "    if (name == 'download') {\n",
       "        this.handle_save(this, null);\n",
       "    } else {\n",
       "        this.send_message(\"toolbar_button\", {name: name});\n",
       "    }\n",
       "};\n",
       "\n",
       "mpl.figure.prototype.toolbar_button_onmouseover = function(tooltip) {\n",
       "    this.message.textContent = tooltip;\n",
       "};\n",
       "mpl.toolbar_items = [[\"Home\", \"Reset original view\", \"fa fa-home icon-home\", \"home\"], [\"Back\", \"Back to  previous view\", \"fa fa-arrow-left icon-arrow-left\", \"back\"], [\"Forward\", \"Forward to next view\", \"fa fa-arrow-right icon-arrow-right\", \"forward\"], [\"\", \"\", \"\", \"\"], [\"Pan\", \"Pan axes with left mouse, zoom with right\", \"fa fa-arrows icon-move\", \"pan\"], [\"Zoom\", \"Zoom to rectangle\", \"fa fa-square-o icon-check-empty\", \"zoom\"], [\"\", \"\", \"\", \"\"], [\"Download\", \"Download plot\", \"fa fa-floppy-o icon-save\", \"download\"]];\n",
       "\n",
       "mpl.extensions = [\"eps\", \"pdf\", \"png\", \"ps\", \"raw\", \"svg\"];\n",
       "\n",
       "mpl.default_extension = \"png\";var comm_websocket_adapter = function(comm) {\n",
       "    // Create a \"websocket\"-like object which calls the given IPython comm\n",
       "    // object with the appropriate methods. Currently this is a non binary\n",
       "    // socket, so there is still some room for performance tuning.\n",
       "    var ws = {};\n",
       "\n",
       "    ws.close = function() {\n",
       "        comm.close()\n",
       "    };\n",
       "    ws.send = function(m) {\n",
       "        //console.log('sending', m);\n",
       "        comm.send(m);\n",
       "    };\n",
       "    // Register the callback with on_msg.\n",
       "    comm.on_msg(function(msg) {\n",
       "        //console.log('receiving', msg['content']['data'], msg);\n",
       "        // Pass the mpl event to the overriden (by mpl) onmessage function.\n",
       "        ws.onmessage(msg['content']['data'])\n",
       "    });\n",
       "    return ws;\n",
       "}\n",
       "\n",
       "mpl.mpl_figure_comm = function(comm, msg) {\n",
       "    // This is the function which gets called when the mpl process\n",
       "    // starts-up an IPython Comm through the \"matplotlib\" channel.\n",
       "\n",
       "    var id = msg.content.data.id;\n",
       "    // Get hold of the div created by the display call when the Comm\n",
       "    // socket was opened in Python.\n",
       "    var element = $(\"#\" + id);\n",
       "    var ws_proxy = comm_websocket_adapter(comm)\n",
       "\n",
       "    function ondownload(figure, format) {\n",
       "        window.open(figure.imageObj.src);\n",
       "    }\n",
       "\n",
       "    var fig = new mpl.figure(id, ws_proxy,\n",
       "                           ondownload,\n",
       "                           element.get(0));\n",
       "\n",
       "    // Call onopen now - mpl needs it, as it is assuming we've passed it a real\n",
       "    // web socket which is closed, not our websocket->open comm proxy.\n",
       "    ws_proxy.onopen();\n",
       "\n",
       "    fig.parent_element = element.get(0);\n",
       "    fig.cell_info = mpl.find_output_cell(\"<div id='\" + id + \"'></div>\");\n",
       "    if (!fig.cell_info) {\n",
       "        console.error(\"Failed to find cell for figure\", id, fig);\n",
       "        return;\n",
       "    }\n",
       "\n",
       "    var output_index = fig.cell_info[2]\n",
       "    var cell = fig.cell_info[0];\n",
       "\n",
       "};\n",
       "\n",
       "mpl.figure.prototype.handle_close = function(fig, msg) {\n",
       "    var width = fig.canvas.width/mpl.ratio\n",
       "    fig.root.unbind('remove')\n",
       "\n",
       "    // Update the output cell to use the data from the current canvas.\n",
       "    fig.push_to_output();\n",
       "    var dataURL = fig.canvas.toDataURL();\n",
       "    // Re-enable the keyboard manager in IPython - without this line, in FF,\n",
       "    // the notebook keyboard shortcuts fail.\n",
       "    IPython.keyboard_manager.enable()\n",
       "    $(fig.parent_element).html('<img src=\"' + dataURL + '\" width=\"' + width + '\">');\n",
       "    fig.close_ws(fig, msg);\n",
       "}\n",
       "\n",
       "mpl.figure.prototype.close_ws = function(fig, msg){\n",
       "    fig.send_message('closing', msg);\n",
       "    // fig.ws.close()\n",
       "}\n",
       "\n",
       "mpl.figure.prototype.push_to_output = function(remove_interactive) {\n",
       "    // Turn the data on the canvas into data in the output cell.\n",
       "    var width = this.canvas.width/mpl.ratio\n",
       "    var dataURL = this.canvas.toDataURL();\n",
       "    this.cell_info[1]['text/html'] = '<img src=\"' + dataURL + '\" width=\"' + width + '\">';\n",
       "}\n",
       "\n",
       "mpl.figure.prototype.updated_canvas_event = function() {\n",
       "    // Tell IPython that the notebook contents must change.\n",
       "    IPython.notebook.set_dirty(true);\n",
       "    this.send_message(\"ack\", {});\n",
       "    var fig = this;\n",
       "    // Wait a second, then push the new image to the DOM so\n",
       "    // that it is saved nicely (might be nice to debounce this).\n",
       "    setTimeout(function () { fig.push_to_output() }, 1000);\n",
       "}\n",
       "\n",
       "mpl.figure.prototype._init_toolbar = function() {\n",
       "    var fig = this;\n",
       "\n",
       "    var nav_element = $('<div/>')\n",
       "    nav_element.attr('style', 'width: 100%');\n",
       "    this.root.append(nav_element);\n",
       "\n",
       "    // Define a callback function for later on.\n",
       "    function toolbar_event(event) {\n",
       "        return fig.toolbar_button_onclick(event['data']);\n",
       "    }\n",
       "    function toolbar_mouse_event(event) {\n",
       "        return fig.toolbar_button_onmouseover(event['data']);\n",
       "    }\n",
       "\n",
       "    for(var toolbar_ind in mpl.toolbar_items){\n",
       "        var name = mpl.toolbar_items[toolbar_ind][0];\n",
       "        var tooltip = mpl.toolbar_items[toolbar_ind][1];\n",
       "        var image = mpl.toolbar_items[toolbar_ind][2];\n",
       "        var method_name = mpl.toolbar_items[toolbar_ind][3];\n",
       "\n",
       "        if (!name) { continue; };\n",
       "\n",
       "        var button = $('<button class=\"btn btn-default\" href=\"#\" title=\"' + name + '\"><i class=\"fa ' + image + ' fa-lg\"></i></button>');\n",
       "        button.click(method_name, toolbar_event);\n",
       "        button.mouseover(tooltip, toolbar_mouse_event);\n",
       "        nav_element.append(button);\n",
       "    }\n",
       "\n",
       "    // Add the status bar.\n",
       "    var status_bar = $('<span class=\"mpl-message\" style=\"text-align:right; float: right;\"/>');\n",
       "    nav_element.append(status_bar);\n",
       "    this.message = status_bar[0];\n",
       "\n",
       "    // Add the close button to the window.\n",
       "    var buttongrp = $('<div class=\"btn-group inline pull-right\"></div>');\n",
       "    var button = $('<button class=\"btn btn-mini btn-primary\" href=\"#\" title=\"Stop Interaction\"><i class=\"fa fa-power-off icon-remove icon-large\"></i></button>');\n",
       "    button.click(function (evt) { fig.handle_close(fig, {}); } );\n",
       "    button.mouseover('Stop Interaction', toolbar_mouse_event);\n",
       "    buttongrp.append(button);\n",
       "    var titlebar = this.root.find($('.ui-dialog-titlebar'));\n",
       "    titlebar.prepend(buttongrp);\n",
       "}\n",
       "\n",
       "mpl.figure.prototype._root_extra_style = function(el){\n",
       "    var fig = this\n",
       "    el.on(\"remove\", function(){\n",
       "\tfig.close_ws(fig, {});\n",
       "    });\n",
       "}\n",
       "\n",
       "mpl.figure.prototype._canvas_extra_style = function(el){\n",
       "    // this is important to make the div 'focusable\n",
       "    el.attr('tabindex', 0)\n",
       "    // reach out to IPython and tell the keyboard manager to turn it's self\n",
       "    // off when our div gets focus\n",
       "\n",
       "    // location in version 3\n",
       "    if (IPython.notebook.keyboard_manager) {\n",
       "        IPython.notebook.keyboard_manager.register_events(el);\n",
       "    }\n",
       "    else {\n",
       "        // location in version 2\n",
       "        IPython.keyboard_manager.register_events(el);\n",
       "    }\n",
       "\n",
       "}\n",
       "\n",
       "mpl.figure.prototype._key_event_extra = function(event, name) {\n",
       "    var manager = IPython.notebook.keyboard_manager;\n",
       "    if (!manager)\n",
       "        manager = IPython.keyboard_manager;\n",
       "\n",
       "    // Check for shift+enter\n",
       "    if (event.shiftKey && event.which == 13) {\n",
       "        this.canvas_div.blur();\n",
       "        // select the cell after this one\n",
       "        var index = IPython.notebook.find_cell_index(this.cell_info[0]);\n",
       "        IPython.notebook.select(index + 1);\n",
       "    }\n",
       "}\n",
       "\n",
       "mpl.figure.prototype.handle_save = function(fig, msg) {\n",
       "    fig.ondownload(fig, null);\n",
       "}\n",
       "\n",
       "\n",
       "mpl.find_output_cell = function(html_output) {\n",
       "    // Return the cell and output element which can be found *uniquely* in the notebook.\n",
       "    // Note - this is a bit hacky, but it is done because the \"notebook_saving.Notebook\"\n",
       "    // IPython event is triggered only after the cells have been serialised, which for\n",
       "    // our purposes (turning an active figure into a static one), is too late.\n",
       "    var cells = IPython.notebook.get_cells();\n",
       "    var ncells = cells.length;\n",
       "    for (var i=0; i<ncells; i++) {\n",
       "        var cell = cells[i];\n",
       "        if (cell.cell_type === 'code'){\n",
       "            for (var j=0; j<cell.output_area.outputs.length; j++) {\n",
       "                var data = cell.output_area.outputs[j];\n",
       "                if (data.data) {\n",
       "                    // IPython >= 3 moved mimebundle to data attribute of output\n",
       "                    data = data.data;\n",
       "                }\n",
       "                if (data['text/html'] == html_output) {\n",
       "                    return [cell, data, j];\n",
       "                }\n",
       "            }\n",
       "        }\n",
       "    }\n",
       "}\n",
       "\n",
       "// Register the function which deals with the matplotlib target/channel.\n",
       "// The kernel may be null if the page has been refreshed.\n",
       "if (IPython.notebook.kernel != null) {\n",
       "    IPython.notebook.kernel.comm_manager.register_target('matplotlib', mpl.mpl_figure_comm);\n",
       "}\n"
      ],
      "text/plain": [
       "<IPython.core.display.Javascript object>"
      ]
     },
     "metadata": {},
     "output_type": "display_data"
    },
    {
     "data": {
      "text/html": [
       "<img src=\"data:image/png;base64,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\" width=\"639.6499809369451\">"
      ],
      "text/plain": [
       "<IPython.core.display.HTML object>"
      ]
     },
     "metadata": {},
     "output_type": "display_data"
    }
   ],
   "source": [
    "y = x.plot(sample_field='DAY', feature_field='taxonomy', yticklabels_max=20, gui='jupyter')"
   ]
  }
 ],
 "metadata": {
  "kernelspec": {
   "display_name": "Python 3",
   "language": "python",
   "name": "python3"
  },
  "language_info": {
   "codemirror_mode": {
    "name": "ipython",
    "version": 3
   },
   "file_extension": ".py",
   "mimetype": "text/x-python",
   "name": "python",
   "nbconvert_exporter": "python",
   "pygments_lexer": "ipython3",
   "version": "3.5.2"
  },
  "widgets": {
   "state": {
    "0458d4277bc141f8a55c10248d2ae211": {
     "views": [
      {
       "cell_index": 1
      }
     ]
    },
    "098c0a2d3d8f4669bc98599e9a4414d0": {
     "views": [
      {
       "cell_index": 1
      }
     ]
    },
    "0dfee22df701452bb04f14d0786e40c2": {
     "views": [
      {
       "cell_index": 1
      }
     ]
    },
    "1017573d3e23439a810798d0d142c961": {
     "views": [
      {
       "cell_index": 6
      }
     ]
    },
    "1150f9cc6595462ca8d1244345885fcb": {
     "views": [
      {
       "cell_index": 1
      }
     ]
    },
    "130084c51f98442b89172d95876c6182": {
     "views": [
      {
       "cell_index": 1
      }
     ]
    },
    "1a76b62c488443f982ccd7e146172590": {
     "views": [
      {
       "cell_index": 7
      }
     ]
    },
    "1a986498bcea40f196daf6d38ef18e46": {
     "views": [
      {
       "cell_index": 1
      }
     ]
    },
    "1f03720738d44f6a9dbe408328a56ab7": {
     "views": [
      {
       "cell_index": 1
      }
     ]
    },
    "205e3044a009465bb9c6f02a0d05ccac": {
     "views": [
      {
       "cell_index": 1
      }
     ]
    },
    "22db72ee4e5c4820b17fdb30560963e3": {
     "views": [
      {
       "cell_index": 1
      }
     ]
    },
    "278aa49c79b540ca9a076fbae447136d": {
     "views": [
      {
       "cell_index": 1
      }
     ]
    },
    "2f527697e89642db936562c7dbd0ca39": {
     "views": [
      {
       "cell_index": 6
      }
     ]
    },
    "322a937094654cb0951bdc4759455250": {
     "views": [
      {
       "cell_index": 6
      }
     ]
    },
    "324cca335b55449a85a352d4f56d3495": {
     "views": [
      {
       "cell_index": 1
      }
     ]
    },
    "32f9762992854ea48b324105bce0cf55": {
     "views": [
      {
       "cell_index": 1
      }
     ]
    },
    "330669546ead43b5bfab56b3fe415750": {
     "views": [
      {
       "cell_index": 1
      }
     ]
    },
    "37bb064a3c774c5ba8478ec810521183": {
     "views": [
      {
       "cell_index": 9
      }
     ]
    },
    "37c247b26ce74963805362b13285cc02": {
     "views": [
      {
       "cell_index": 7
      }
     ]
    },
    "38abf1c051b1440598ce8ec728ae736d": {
     "views": [
      {
       "cell_index": 6
      }
     ]
    },
    "3ab309d062d14f408384d4519eef687f": {
     "views": [
      {
       "cell_index": 8
      }
     ]
    },
    "3cc3a961b926440e8db69e26f55cf203": {
     "views": [
      {
       "cell_index": 1
      }
     ]
    },
    "41ffcaf717704e768a57c51d638f0c7b": {
     "views": [
      {
       "cell_index": 9
      }
     ]
    },
    "428da753448e4d0b83ee9e1022027a30": {
     "views": [
      {
       "cell_index": 9
      }
     ]
    },
    "4372d6232e564548b7f632d5e407d57c": {
     "views": [
      {
       "cell_index": 9
      }
     ]
    },
    "4625ab37f86f461487501d95b9627765": {
     "views": [
      {
       "cell_index": 1
      }
     ]
    },
    "47ddb19d9df948c8b00ddd9216e0faf9": {
     "views": [
      {
       "cell_index": 6
      }
     ]
    },
    "4c9c471a88db4317b228a3b2e6984f38": {
     "views": [
      {
       "cell_index": 1
      }
     ]
    },
    "4d613ed913514ead9589b23e28230bd7": {
     "views": [
      {
       "cell_index": 1
      }
     ]
    },
    "4d809242f94445808ef933e9c0f362df": {
     "views": [
      {
       "cell_index": 4
      }
     ]
    },
    "4ed238c5b41e45d5a5d1ee90992556b9": {
     "views": [
      {
       "cell_index": 1
      }
     ]
    },
    "530eb416e91f4521886ee5b186206dfd": {
     "views": [
      {
       "cell_index": 1
      }
     ]
    },
    "55bb7058c1cd4041a20800fd7cd6f38c": {
     "views": [
      {
       "cell_index": 1
      }
     ]
    },
    "59392896d4ba4a199efa86289bcfa5b7": {
     "views": [
      {
       "cell_index": 9
      }
     ]
    },
    "5a47c45207dc4e6aaa9dc10763e4dbfb": {
     "views": [
      {
       "cell_index": 9
      }
     ]
    },
    "5d5a6325095448e3bf75d60b114511d6": {
     "views": [
      {
       "cell_index": 6
      }
     ]
    },
    "5ec97a0af021460db91d5b51d70d6f24": {
     "views": [
      {
       "cell_index": 1
      }
     ]
    },
    "5ee1335c135148e3b6a05f7af26d7bfc": {
     "views": [
      {
       "cell_index": 1
      }
     ]
    },
    "600bd04c50af4a69a6285b0cb78b9165": {
     "views": [
      {
       "cell_index": 8
      }
     ]
    },
    "61fb856be6a9439c955d88c3582e10fe": {
     "views": [
      {
       "cell_index": 1
      }
     ]
    },
    "66d1873641da471e88ce9891c19262ab": {
     "views": [
      {
       "cell_index": 1
      }
     ]
    },
    "67876db066d14054a45a4e81ecbd0f2f": {
     "views": [
      {
       "cell_index": 1
      }
     ]
    },
    "6bae6c1b2cb64a8db500ed1c4d016d1c": {
     "views": [
      {
       "cell_index": 1
      }
     ]
    },
    "6d2279f359a342d8b9a52a18905dfbfe": {
     "views": [
      {
       "cell_index": 1
      }
     ]
    },
    "7142d5b1116c495398e358dd61209a9f": {
     "views": [
      {
       "cell_index": 9
      }
     ]
    },
    "71fa78daf2b64abeb11b652125618ef6": {
     "views": [
      {
       "cell_index": 1
      }
     ]
    },
    "7241d22ec91e4901b87e2c2d0b1d757e": {
     "views": [
      {
       "cell_index": 1
      }
     ]
    },
    "72e036dcaa804b2abbfd94cb8c4020f2": {
     "views": [
      {
       "cell_index": 1
      }
     ]
    },
    "77203a404975429398cf44ffb8ccedec": {
     "views": [
      {
       "cell_index": 1
      }
     ]
    },
    "793d3cfcc6aa4331befc83861e2f8a72": {
     "views": [
      {
       "cell_index": 1
      }
     ]
    },
    "79fec317e541468c9993e3eb4b9484fa": {
     "views": [
      {
       "cell_index": 9
      }
     ]
    },
    "7bce554c0f044a91853c97a873458395": {
     "views": [
      {
       "cell_index": 6
      }
     ]
    },
    "7cd896dd32f34cff9873d4e3ad49992b": {
     "views": [
      {
       "cell_index": 1
      }
     ]
    },
    "8406d3d2d7524b6e8402a0d03863b165": {
     "views": [
      {
       "cell_index": 4
      }
     ]
    },
    "84883937289142d189e93f14aa9f6a52": {
     "views": [
      {
       "cell_index": 1
      }
     ]
    },
    "85218b758c284f279fc30c4e020f9f3d": {
     "views": [
      {
       "cell_index": 1
      }
     ]
    },
    "8f9001d291aa4c799d9843296c205637": {
     "views": [
      {
       "cell_index": 1
      }
     ]
    },
    "90eba3a0e91843dcbd2e49c20bbc2426": {
     "views": [
      {
       "cell_index": 10
      }
     ]
    },
    "917948086a69441a99d0579b8be5e9b5": {
     "views": [
      {
       "cell_index": 8
      }
     ]
    },
    "92926b3bd9af4adb9f6b0b479744d6b4": {
     "views": [
      {
       "cell_index": 1
      }
     ]
    },
    "93ee93a6f554444fa1aa4ec525f35141": {
     "views": [
      {
       "cell_index": 1
      }
     ]
    },
    "9520a0dab30f411091806b1a9cfff8c1": {
     "views": [
      {
       "cell_index": 1
      }
     ]
    },
    "96618a77f5e540c3a84cf643b9624526": {
     "views": [
      {
       "cell_index": 4
      }
     ]
    },
    "96bf37b69e2b436c91ec1ee1e4f303ca": {
     "views": [
      {
       "cell_index": 1
      }
     ]
    },
    "978982a00f2846bba15651174bede8b7": {
     "views": [
      {
       "cell_index": 6
      }
     ]
    },
    "9989d5fe9561443d8c1838ca7844392e": {
     "views": [
      {
       "cell_index": 1
      }
     ]
    },
    "9be23a54731045338e42f264c16d0e6f": {
     "views": [
      {
       "cell_index": 1
      }
     ]
    },
    "9ec6f8107f974506b23b2f05c0b5e62c": {
     "views": [
      {
       "cell_index": 1
      }
     ]
    },
    "a1a3a6706585464b9b9df5170069d9b2": {
     "views": [
      {
       "cell_index": 5
      }
     ]
    },
    "a494d0922aff430ca66219d76919d843": {
     "views": [
      {
       "cell_index": 1
      }
     ]
    },
    "a4c9f630367540a59774e48c42490d1f": {
     "views": [
      {
       "cell_index": 5
      }
     ]
    },
    "a6997bfa7f0a4f6da48a6088de3ff7d7": {
     "views": [
      {
       "cell_index": 4
      }
     ]
    },
    "aef9e7a9296349ada9df92bd94f00efe": {
     "views": [
      {
       "cell_index": 4
      }
     ]
    },
    "b04b9eb7f6cb42698b9072bb3d046772": {
     "views": [
      {
       "cell_index": 9
      }
     ]
    },
    "b0ac311243424d78bb070f99aad1c9da": {
     "views": [
      {
       "cell_index": 1
      }
     ]
    },
    "b1f047aea891479790e9f36c8e584cbb": {
     "views": [
      {
       "cell_index": 1
      }
     ]
    },
    "b30d40d4f3e64a538af72321934a10c2": {
     "views": [
      {
       "cell_index": 6
      }
     ]
    },
    "b4aa0256f6284a92b4af37bf0c6c7544": {
     "views": [
      {
       "cell_index": 1
      }
     ]
    },
    "b4cb5a306dac4dd0a94bd19c5c51b5a0": {
     "views": [
      {
       "cell_index": 1
      }
     ]
    },
    "b7d57998dc264f1abba00aa1faa9fe0a": {
     "views": [
      {
       "cell_index": 1
      }
     ]
    },
    "bac89b555cb44ff685f21f20c369a598": {
     "views": [
      {
       "cell_index": 1
      }
     ]
    },
    "c08bf8d579ba47729d105bdc71e592e6": {
     "views": [
      {
       "cell_index": 1
      }
     ]
    },
    "c4417d2d4d9e4eaf9e690d2a65c030ae": {
     "views": [
      {
       "cell_index": 1
      }
     ]
    },
    "c57750e3f0ce4f74b58ee547b0eb52db": {
     "views": [
      {
       "cell_index": 1
      }
     ]
    },
    "c742194c1bc9420ca323082cf14b72b5": {
     "views": [
      {
       "cell_index": 8
      }
     ]
    },
    "c913d0513acf421d9812946601e296ae": {
     "views": [
      {
       "cell_index": 9
      }
     ]
    },
    "cb6c0a5d85264c29b200c5db44f4c2b1": {
     "views": [
      {
       "cell_index": 1
      }
     ]
    },
    "ccd0b7951a0a4518a0c02fea23e4ef7b": {
     "views": [
      {
       "cell_index": 1
      }
     ]
    },
    "d1b027b13d6c45a18329ce4699d6b735": {
     "views": [
      {
       "cell_index": 1
      }
     ]
    },
    "d1b764abf41c4cd484da36e1936b4548": {
     "views": [
      {
       "cell_index": 1
      }
     ]
    },
    "d1e4fe8dc74d4f7ba7b85db46c6edbc1": {
     "views": [
      {
       "cell_index": 5
      }
     ]
    },
    "d243578faf5c4254b39e6217decbf0cc": {
     "views": [
      {
       "cell_index": 1
      }
     ]
    },
    "d280e1b18bf042b9806b0a4b2db0196d": {
     "views": [
      {
       "cell_index": 1
      }
     ]
    },
    "d61d027a581d4378a5977d0964477b79": {
     "views": [
      {
       "cell_index": 6
      }
     ]
    },
    "d78465881f22429c8f194533f140ca87": {
     "views": [
      {
       "cell_index": 10
      }
     ]
    },
    "dd5485c378354d99a9a5b52e8bd33d6d": {
     "views": [
      {
       "cell_index": 6
      }
     ]
    },
    "de02655d26ce489caa628716c1763dd8": {
     "views": [
      {
       "cell_index": 1
      }
     ]
    },
    "de438954a4d34930a89733795455c2b2": {
     "views": [
      {
       "cell_index": 1
      }
     ]
    },
    "deaf8f68c830405582165d148d3f5225": {
     "views": [
      {
       "cell_index": 1
      }
     ]
    },
    "df312448f1664529ad8f7bb6ed0ec320": {
     "views": [
      {
       "cell_index": 1
      }
     ]
    },
    "e4311d5b32104ae8b07beb6380ed5913": {
     "views": [
      {
       "cell_index": 8
      }
     ]
    },
    "e705304122c04a4cadf12fdbd6f56607": {
     "views": [
      {
       "cell_index": 4
      }
     ]
    },
    "e76620314824494ab310e52ae0fbec4e": {
     "views": [
      {
       "cell_index": 1
      }
     ]
    },
    "e789975b05044aab8765a9921b6cac89": {
     "views": [
      {
       "cell_index": 1
      }
     ]
    },
    "e7e32e7c3cfa47e3ae1379b90625e95f": {
     "views": [
      {
       "cell_index": 1
      }
     ]
    },
    "e7ebeca8dff7462cba02a17c2d53184b": {
     "views": [
      {
       "cell_index": 1
      }
     ]
    },
    "e8d9e88da1584d3fabf8600611f14c90": {
     "views": [
      {
       "cell_index": 1
      }
     ]
    },
    "efb9b8c62ba74a5ba2732810ba57b6df": {
     "views": [
      {
       "cell_index": 1
      }
     ]
    },
    "f1f962f9b1cb426f92d826eb0e11826d": {
     "views": [
      {
       "cell_index": 1
      }
     ]
    },
    "f2623ed562514e4f90a2999f128b4bc2": {
     "views": [
      {
       "cell_index": 1
      }
     ]
    },
    "f61504cd2e1249bfbdbea7f2e0b1cc9d": {
     "views": [
      {
       "cell_index": 1
      }
     ]
    },
    "f84121f7f13a4bfbae804704fac0b0ad": {
     "views": [
      {
       "cell_index": 6
      }
     ]
    },
    "f968be6b1b33446dad7fa1e1455b5886": {
     "views": [
      {
       "cell_index": 5
      }
     ]
    },
    "fa76332337574f13a68d1367860e68c1": {
     "views": [
      {
       "cell_index": 8
      }
     ]
    },
    "fb51d95c266c485bb11ccd7c924d02da": {
     "views": [
      {
       "cell_index": 1
      }
     ]
    },
    "fccc292071b94f7a9f7db51f1a6bb796": {
     "views": [
      {
       "cell_index": 9
      }
     ]
    },
    "fd19ee8b8fe147c1bd176bc890ce9689": {
     "views": [
      {
       "cell_index": 1
      }
     ]
    },
    "ff01839b950940c581f92778efd7791f": {
     "views": [
      {
       "cell_index": 1
      }
     ]
    }
   },
   "version": "1.2.0"
  }
 },
 "nbformat": 4,
 "nbformat_minor": 1
}
