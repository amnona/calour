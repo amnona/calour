{
 "cells": [
  {
   "cell_type": "code",
   "execution_count": 17,
   "metadata": {
    "collapsed": false
   },
   "outputs": [],
   "source": [
    "%matplotlib notebook\n",
    "import calour as ca\n",
    "from calour import Experiment"
   ]
  },
  {
   "cell_type": "markdown",
   "metadata": {},
   "source": [
    "# Simple Cases"
   ]
  },
  {
   "cell_type": "code",
   "execution_count": 20,
   "metadata": {
    "collapsed": false
   },
   "outputs": [],
   "source": [
    "xx = Experiment.read('../calour/tests/data/test2.biom', '../calour/tests/data/test2.sample', '../calour/tests/data/test2.feature')"
   ]
  },
  {
   "cell_type": "code",
   "execution_count": 26,
   "metadata": {
    "collapsed": false
   },
   "outputs": [],
   "source": [
    "xx.sparse=False\n",
    "a=xx.normalize()\n",
    "b=xx.rescale()"
   ]
  },
  {
   "cell_type": "code",
   "execution_count": 35,
   "metadata": {
    "collapsed": false
   },
   "outputs": [
    {
     "data": {
      "text/plain": [
       "array([   600.,   1200.,    300.,    960.,    160.,   6000.,  50780.,\n",
       "        30000.])"
      ]
     },
     "execution_count": 35,
     "metadata": {},
     "output_type": "execute_result"
    }
   ],
   "source": [
    "b.data.sum(axis=0)"
   ]
  },
  {
   "cell_type": "code",
   "execution_count": 32,
   "metadata": {
    "collapsed": false
   },
   "outputs": [
    {
     "data": {
      "text/plain": [
       "array([ 10000.,  10000.,  10000.,  10000.,  10000.,  10000.,  10000.,\n",
       "        10000.,  10000.])"
      ]
     },
     "execution_count": 32,
     "metadata": {},
     "output_type": "execute_result"
    }
   ],
   "source": [
    "a.data.sum(axis=1)"
   ]
  },
  {
   "cell_type": "code",
   "execution_count": 13,
   "metadata": {
    "collapsed": false
   },
   "outputs": [
    {
     "data": {
      "text/plain": [
       "matrix([[ 1100.],\n",
       "        [ 1200.],\n",
       "        [ 1300.],\n",
       "        [ 1400.],\n",
       "        [ 1500.],\n",
       "        [ 1600.],\n",
       "        [ 1700.],\n",
       "        [ 1800.],\n",
       "        [ 1900.]])"
      ]
     },
     "execution_count": 13,
     "metadata": {},
     "output_type": "execute_result"
    }
   ],
   "source": [
    "a.data.sum(axis=1)"
   ]
  },
  {
   "cell_type": "code",
   "execution_count": null,
   "metadata": {
    "collapsed": true
   },
   "outputs": [],
   "source": []
  },
  {
   "cell_type": "code",
   "execution_count": 16,
   "metadata": {
    "collapsed": false
   },
   "outputs": [
    {
     "ename": "TypeError",
     "evalue": "unorderable types: numpy.ndarray() >= str()",
     "output_type": "error",
     "traceback": [
      "\u001b[0;31m---------------------------------------------------------------------------\u001b[0m",
      "\u001b[0;31mTypeError\u001b[0m                                 Traceback (most recent call last)",
      "\u001b[0;32m<ipython-input-16-8d9159b4cadf>\u001b[0m in \u001b[0;36m<module>\u001b[0;34m()\u001b[0m\n\u001b[0;32m----> 1\u001b[0;31m \u001b[0ma\u001b[0m \u001b[0;34m=\u001b[0m \u001b[0mca\u001b[0m\u001b[0;34m.\u001b[0m\u001b[0mread_taxa\u001b[0m\u001b[0;34m(\u001b[0m\u001b[0;34m'../calour/tests/data/test2.biom'\u001b[0m\u001b[0;34m,\u001b[0m \u001b[0;34m'../calour/tests/data/test2.sample'\u001b[0m\u001b[0;34m,\u001b[0m \u001b[0;34m'../calour/tests/data/test2.feature'\u001b[0m\u001b[0;34m)\u001b[0m\u001b[0;34m\u001b[0m\u001b[0m\n\u001b[0m\u001b[1;32m      2\u001b[0m \u001b[0mb\u001b[0m \u001b[0;34m=\u001b[0m \u001b[0ma\u001b[0m\u001b[0;34m.\u001b[0m\u001b[0mplot\u001b[0m\u001b[0;34m(\u001b[0m\u001b[0msample_field\u001b[0m\u001b[0;34m=\u001b[0m\u001b[0;34m'group'\u001b[0m\u001b[0;34m,\u001b[0m \u001b[0mfeature_field\u001b[0m\u001b[0;34m=\u001b[0m\u001b[0;34m'taxonomy'\u001b[0m\u001b[0;34m,\u001b[0m \u001b[0mgui\u001b[0m\u001b[0;34m=\u001b[0m\u001b[0;34m'jupyter'\u001b[0m\u001b[0;34m)\u001b[0m\u001b[0;34m\u001b[0m\u001b[0m\n",
      "\u001b[0;32m/Users/zech/Dropbox/git/calour/calour/io.py\u001b[0m in \u001b[0;36mread_taxa\u001b[0;34m(data_file, sample_metadata_file, filter_orig_reads, normalize, sparse, **kwargs)\u001b[0m\n\u001b[1;32m    226\u001b[0m \u001b[0;34m\u001b[0m\u001b[0m\n\u001b[1;32m    227\u001b[0m     \u001b[0;32mif\u001b[0m \u001b[0mfilter_orig_reads\u001b[0m \u001b[0;32mis\u001b[0m \u001b[0;32mnot\u001b[0m \u001b[0;32mNone\u001b[0m\u001b[0;34m:\u001b[0m\u001b[0;34m\u001b[0m\u001b[0m\n\u001b[0;32m--> 228\u001b[0;31m         \u001b[0mexp\u001b[0m\u001b[0;34m.\u001b[0m\u001b[0mfilter_by_data\u001b[0m\u001b[0;34m(\u001b[0m\u001b[0;34m'sum_abundance'\u001b[0m\u001b[0;34m,\u001b[0m \u001b[0mcutoff\u001b[0m\u001b[0;34m=\u001b[0m\u001b[0mfilter_orig_reads\u001b[0m\u001b[0;34m,\u001b[0m \u001b[0minplace\u001b[0m\u001b[0;34m=\u001b[0m\u001b[0;32mTrue\u001b[0m\u001b[0;34m)\u001b[0m\u001b[0;34m\u001b[0m\u001b[0m\n\u001b[0m\u001b[1;32m    229\u001b[0m     \u001b[0;32mif\u001b[0m \u001b[0mnormalize\u001b[0m\u001b[0;34m:\u001b[0m\u001b[0;34m\u001b[0m\u001b[0m\n\u001b[1;32m    230\u001b[0m         \u001b[0;31m# record the original total read count into sample metadata\u001b[0m\u001b[0;34m\u001b[0m\u001b[0;34m\u001b[0m\u001b[0m\n",
      "\u001b[0;32m/Users/zech/Dropbox/git/calour/calour/experiment.py\u001b[0m in \u001b[0;36minner\u001b[0;34m(*args, **kwargs)\u001b[0m\n\u001b[1;32m    180\u001b[0m             \u001b[0mlog\u001b[0m \u001b[0;34m=\u001b[0m \u001b[0mexp\u001b[0m\u001b[0;34m.\u001b[0m\u001b[0m_log\u001b[0m\u001b[0;34m\u001b[0m\u001b[0m\n\u001b[1;32m    181\u001b[0m             \u001b[0;32mtry\u001b[0m\u001b[0;34m:\u001b[0m\u001b[0;34m\u001b[0m\u001b[0m\n\u001b[0;32m--> 182\u001b[0;31m                 \u001b[0mnew_exp\u001b[0m \u001b[0;34m=\u001b[0m \u001b[0mfunc\u001b[0m\u001b[0;34m(\u001b[0m\u001b[0;34m*\u001b[0m\u001b[0margs\u001b[0m\u001b[0;34m,\u001b[0m \u001b[0;34m**\u001b[0m\u001b[0mkwargs\u001b[0m\u001b[0;34m)\u001b[0m\u001b[0;34m\u001b[0m\u001b[0m\n\u001b[0m\u001b[1;32m    183\u001b[0m                 \u001b[0;32mif\u001b[0m \u001b[0mexp\u001b[0m\u001b[0;34m.\u001b[0m\u001b[0m_log\u001b[0m \u001b[0;32mis\u001b[0m \u001b[0;32mTrue\u001b[0m\u001b[0;34m:\u001b[0m\u001b[0;34m\u001b[0m\u001b[0m\n\u001b[1;32m    184\u001b[0m                     \u001b[0mparam\u001b[0m \u001b[0;34m=\u001b[0m \u001b[0;34m[\u001b[0m\u001b[0;34m'%r'\u001b[0m \u001b[0;34m%\u001b[0m \u001b[0mi\u001b[0m \u001b[0;32mfor\u001b[0m \u001b[0mi\u001b[0m \u001b[0;32min\u001b[0m \u001b[0margs\u001b[0m\u001b[0;34m[\u001b[0m\u001b[0;36m1\u001b[0m\u001b[0;34m:\u001b[0m\u001b[0;34m]\u001b[0m\u001b[0;34m]\u001b[0m \u001b[0;34m+\u001b[0m \u001b[0;34m[\u001b[0m\u001b[0;34m'%s=%r'\u001b[0m \u001b[0;34m%\u001b[0m \u001b[0;34m(\u001b[0m\u001b[0mk\u001b[0m\u001b[0;34m,\u001b[0m \u001b[0mv\u001b[0m\u001b[0;34m)\u001b[0m \u001b[0;32mfor\u001b[0m \u001b[0mk\u001b[0m\u001b[0;34m,\u001b[0m \u001b[0mv\u001b[0m \u001b[0;32min\u001b[0m \u001b[0mkwargs\u001b[0m\u001b[0;34m.\u001b[0m\u001b[0mitems\u001b[0m\u001b[0;34m(\u001b[0m\u001b[0;34m)\u001b[0m\u001b[0;34m]\u001b[0m\u001b[0;34m\u001b[0m\u001b[0m\n",
      "\u001b[0;32m/Users/zech/Dropbox/git/calour/calour/filtering.py\u001b[0m in \u001b[0;36mfilter_by_data\u001b[0;34m(exp, predicate, axis, negate, inplace, **kwargs)\u001b[0m\n\u001b[1;32m    163\u001b[0m             \u001b[0;32mfor\u001b[0m \u001b[0mrow\u001b[0m \u001b[0;32min\u001b[0m \u001b[0mrange\u001b[0m\u001b[0;34m(\u001b[0m\u001b[0mn\u001b[0m\u001b[0;34m)\u001b[0m\u001b[0;34m:\u001b[0m\u001b[0;34m\u001b[0m\u001b[0m\n\u001b[1;32m    164\u001b[0m                 \u001b[0;31m# convert the row from sparse to dense, and cast to 1d array\u001b[0m\u001b[0;34m\u001b[0m\u001b[0;34m\u001b[0m\u001b[0m\n\u001b[0;32m--> 165\u001b[0;31m                 \u001b[0mselect\u001b[0m\u001b[0;34m[\u001b[0m\u001b[0mrow\u001b[0m\u001b[0;34m]\u001b[0m \u001b[0;34m=\u001b[0m \u001b[0mpredicate\u001b[0m\u001b[0;34m(\u001b[0m\u001b[0mexp\u001b[0m\u001b[0;34m.\u001b[0m\u001b[0mdata\u001b[0m\u001b[0;34m[\u001b[0m\u001b[0mrow\u001b[0m\u001b[0;34m,\u001b[0m \u001b[0;34m:\u001b[0m\u001b[0;34m]\u001b[0m\u001b[0;34m.\u001b[0m\u001b[0mtodense\u001b[0m\u001b[0;34m(\u001b[0m\u001b[0;34m)\u001b[0m\u001b[0;34m.\u001b[0m\u001b[0mA1\u001b[0m\u001b[0;34m,\u001b[0m \u001b[0;34m**\u001b[0m\u001b[0mkwargs\u001b[0m\u001b[0;34m)\u001b[0m\u001b[0;34m\u001b[0m\u001b[0m\n\u001b[0m\u001b[1;32m    166\u001b[0m         \u001b[0;32melif\u001b[0m \u001b[0maxis\u001b[0m \u001b[0;34m==\u001b[0m \u001b[0;36m1\u001b[0m\u001b[0;34m:\u001b[0m\u001b[0;34m\u001b[0m\u001b[0m\n\u001b[1;32m    167\u001b[0m             \u001b[0;32mfor\u001b[0m \u001b[0mcol\u001b[0m \u001b[0;32min\u001b[0m \u001b[0mrange\u001b[0m\u001b[0;34m(\u001b[0m\u001b[0mn\u001b[0m\u001b[0;34m)\u001b[0m\u001b[0;34m:\u001b[0m\u001b[0;34m\u001b[0m\u001b[0m\n",
      "\u001b[0;32m/Users/zech/Dropbox/git/calour/calour/filtering.py\u001b[0m in \u001b[0;36m_sum_abundance\u001b[0;34m(x, cutoff)\u001b[0m\n\u001b[1;32m    194\u001b[0m \u001b[0;34m\u001b[0m\u001b[0m\n\u001b[1;32m    195\u001b[0m     '''\n\u001b[0;32m--> 196\u001b[0;31m     \u001b[0;32mreturn\u001b[0m \u001b[0mx\u001b[0m\u001b[0;34m.\u001b[0m\u001b[0msum\u001b[0m\u001b[0;34m(\u001b[0m\u001b[0;34m)\u001b[0m \u001b[0;34m>=\u001b[0m \u001b[0mcutoff\u001b[0m\u001b[0;34m\u001b[0m\u001b[0m\n\u001b[0m\u001b[1;32m    197\u001b[0m \u001b[0;34m\u001b[0m\u001b[0m\n\u001b[1;32m    198\u001b[0m \u001b[0;34m\u001b[0m\u001b[0m\n",
      "\u001b[0;31mTypeError\u001b[0m: unorderable types: numpy.ndarray() >= str()"
     ]
    }
   ],
   "source": [
    "a = ca.read_taxa('../calour/tests/data/test2.biom', '../calour/tests/data/test2.sample', '../calour/tests/data/test2.feature')\n",
    "b = a.plot(sample_field='group', feature_field='taxonomy', gui='jupyter')"
   ]
  },
  {
   "cell_type": "code",
   "execution_count": 3,
   "metadata": {
    "collapsed": false
   },
   "outputs": [],
   "source": [
    "x = ca.read('../calour/tests/data/timeseries.biom', '../calour/tests/data/timeseries.sample')"
   ]
  },
  {
   "cell_type": "code",
   "execution_count": 4,
   "metadata": {
    "collapsed": false
   },
   "outputs": [
    {
     "data": {
      "text/plain": [
       "Experiment timeseries.biom with 95 samples, 4788 features"
      ]
     },
     "execution_count": 4,
     "metadata": {},
     "output_type": "execute_result"
    }
   ],
   "source": [
    "# sort feature by abundance\n",
    "x.sort_by_data(axis=1, key=np.sum, inplace=True)"
   ]
  },
  {
   "cell_type": "code",
   "execution_count": 5,
   "metadata": {
    "collapsed": false
   },
   "outputs": [
    {
     "data": {
      "text/plain": [
       "Index(['#SampleID', 'AGE', 'AGE_UNIT', 'ALTITUDE', 'ANONYMIZED_NAME',\n",
       "       'ASSIGNED_FROM_GEO', 'Activity', 'BODY_HABITAT', 'BODY_MASS_INDEX',\n",
       "       'BODY_PRODUCT', 'BODY_SITE', 'BarcodeSequence', 'COLLECTION_DATE',\n",
       "       'COMMENTS', 'COUNTRY', 'DAY', 'DEPTH', 'DIET', 'Description',\n",
       "       'ELEVATION', 'ENV_BIOME', 'ENV_FEATURE', 'ENV_MATTER',\n",
       "       'EXPERIMENT_CENTER', 'EXPERIMENT_DESIGN_DESCRIPTION',\n",
       "       'EXPERIMENT_TITLE', 'EXTRACTIONKIT_LOT', 'EXTRACTION_ROBOT',\n",
       "       'HEIGHT_OR_LENGTH', 'HOST_COMMON_NAME', 'HOST_SUBJECT_ID', 'HOST_TAXID',\n",
       "       'HOUR', 'KEY_SEQ', 'LATITUDE', 'LIBRARY_CONSTRUCTION_PROTOCOL',\n",
       "       'LIFE_STAGE', 'LONGITUDE', 'LinkerPrimerSequence', 'MASTERMIX_LOT',\n",
       "       'MF_SAMPLE_NUMBER', 'MINUTES', 'PCR_PRIMERS', 'PLATFORM', 'PLATING',\n",
       "       'PRIMER_DATE', 'PRIMER_PLATE', 'PROCESSING_ROBOT', 'PUBLIC', 'REGION',\n",
       "       'RUN_CENTER', 'RUN_DATE', 'RUN_PREFIX', 'SAMPLE_CENTER', 'SAMPLE_PLATE',\n",
       "       'SAMP_SIZE', 'SEQUENCING_METH', 'SEX', 'SMOKER', 'STUDY_CENTER',\n",
       "       'STUDY_ID', 'TARGET_GENE', 'TARGET_SUBFRAGMENT', 'TAXON_ID', 'TITLE',\n",
       "       'TM1000_8_TOOL', 'TM300_8_TOOL', 'TM50_8_TOOL', 'TOT_MASS', 'WATER_LOT',\n",
       "       'WEIGHT_LOSS_3_MONTH', 'WELL_ID', '_calour_original_abundance'],\n",
       "      dtype='object')"
      ]
     },
     "execution_count": 5,
     "metadata": {},
     "output_type": "execute_result"
    }
   ],
   "source": [
    "x.sample_metadata.columns.sort_values()"
   ]
  },
  {
   "cell_type": "code",
   "execution_count": 6,
   "metadata": {
    "collapsed": false
   },
   "outputs": [
    {
     "data": {
      "text/plain": [
       "Index(['taxonomy', 'id'], dtype='object')"
      ]
     },
     "execution_count": 6,
     "metadata": {},
     "output_type": "execute_result"
    }
   ],
   "source": [
    "x.feature_metadata.columns"
   ]
  },
  {
   "cell_type": "code",
   "execution_count": 7,
   "metadata": {
    "collapsed": false
   },
   "outputs": [
    {
     "data": {
      "text/html": [
       "<div>\n",
       "<table border=\"1\" class=\"dataframe\">\n",
       "  <thead>\n",
       "    <tr style=\"text-align: right;\">\n",
       "      <th></th>\n",
       "      <th>DAY</th>\n",
       "      <th>HOUR</th>\n",
       "      <th>MINUTES</th>\n",
       "    </tr>\n",
       "    <tr>\n",
       "      <th>#SampleID</th>\n",
       "      <th></th>\n",
       "      <th></th>\n",
       "      <th></th>\n",
       "    </tr>\n",
       "  </thead>\n",
       "  <tbody>\n",
       "    <tr>\n",
       "      <th>40.M11.saliva.1168503</th>\n",
       "      <td>1</td>\n",
       "      <td>17</td>\n",
       "      <td>17</td>\n",
       "    </tr>\n",
       "    <tr>\n",
       "      <th>46.M11.saliva.1168574</th>\n",
       "      <td>1</td>\n",
       "      <td>18</td>\n",
       "      <td>49</td>\n",
       "    </tr>\n",
       "    <tr>\n",
       "      <th>7.M11.saliva.1168517</th>\n",
       "      <td>1</td>\n",
       "      <td>9</td>\n",
       "      <td>33</td>\n",
       "    </tr>\n",
       "    <tr>\n",
       "      <th>60.M11.saliva.1168546</th>\n",
       "      <td>1</td>\n",
       "      <td>22</td>\n",
       "      <td>19</td>\n",
       "    </tr>\n",
       "    <tr>\n",
       "      <th>85.M11.saliva.1168506</th>\n",
       "      <td>2</td>\n",
       "      <td>11</td>\n",
       "      <td>19</td>\n",
       "    </tr>\n",
       "    <tr>\n",
       "      <th>41.M11.saliva.1168551</th>\n",
       "      <td>1</td>\n",
       "      <td>17</td>\n",
       "      <td>32</td>\n",
       "    </tr>\n",
       "    <tr>\n",
       "      <th>69.M11.saliva.1168557</th>\n",
       "      <td>2</td>\n",
       "      <td>7</td>\n",
       "      <td>0</td>\n",
       "    </tr>\n",
       "    <tr>\n",
       "      <th>38.M11.saliva.1168521</th>\n",
       "      <td>1</td>\n",
       "      <td>16</td>\n",
       "      <td>46</td>\n",
       "    </tr>\n",
       "    <tr>\n",
       "      <th>73.M11.saliva.1168533</th>\n",
       "      <td>2</td>\n",
       "      <td>8</td>\n",
       "      <td>15</td>\n",
       "    </tr>\n",
       "    <tr>\n",
       "      <th>88.M11.saliva.1168591</th>\n",
       "      <td>2</td>\n",
       "      <td>12</td>\n",
       "      <td>5</td>\n",
       "    </tr>\n",
       "    <tr>\n",
       "      <th>71.M11.saliva.1168595</th>\n",
       "      <td>2</td>\n",
       "      <td>7</td>\n",
       "      <td>45</td>\n",
       "    </tr>\n",
       "    <tr>\n",
       "      <th>59.M11.saliva.1168535</th>\n",
       "      <td>1</td>\n",
       "      <td>22</td>\n",
       "      <td>5</td>\n",
       "    </tr>\n",
       "    <tr>\n",
       "      <th>2.M11.saliva.1168561</th>\n",
       "      <td>1</td>\n",
       "      <td>8</td>\n",
       "      <td>38</td>\n",
       "    </tr>\n",
       "    <tr>\n",
       "      <th>67.M11.saliva.1168593</th>\n",
       "      <td>2</td>\n",
       "      <td>2</td>\n",
       "      <td>20</td>\n",
       "    </tr>\n",
       "    <tr>\n",
       "      <th>1.M11.saliva.1168567</th>\n",
       "      <td>1</td>\n",
       "      <td>8</td>\n",
       "      <td>25</td>\n",
       "    </tr>\n",
       "    <tr>\n",
       "      <th>3.M11.saliva.1168562</th>\n",
       "      <td>1</td>\n",
       "      <td>9</td>\n",
       "      <td>17</td>\n",
       "    </tr>\n",
       "    <tr>\n",
       "      <th>65.M11.saliva.1168597</th>\n",
       "      <td>1</td>\n",
       "      <td>23</td>\n",
       "      <td>35</td>\n",
       "    </tr>\n",
       "    <tr>\n",
       "      <th>53.M11.saliva.1168508</th>\n",
       "      <td>1</td>\n",
       "      <td>20</td>\n",
       "      <td>49</td>\n",
       "    </tr>\n",
       "    <tr>\n",
       "      <th>10.M11.saliva.1168573</th>\n",
       "      <td>1</td>\n",
       "      <td>10</td>\n",
       "      <td>4</td>\n",
       "    </tr>\n",
       "    <tr>\n",
       "      <th>28.M11.saliva.1168583</th>\n",
       "      <td>1</td>\n",
       "      <td>14</td>\n",
       "      <td>32</td>\n",
       "    </tr>\n",
       "    <tr>\n",
       "      <th>79.M11.saliva.1168578</th>\n",
       "      <td>2</td>\n",
       "      <td>9</td>\n",
       "      <td>49</td>\n",
       "    </tr>\n",
       "    <tr>\n",
       "      <th>15.M11.saliva.1168584</th>\n",
       "      <td>1</td>\n",
       "      <td>11</td>\n",
       "      <td>18</td>\n",
       "    </tr>\n",
       "    <tr>\n",
       "      <th>54.M11.saliva.1168582</th>\n",
       "      <td>1</td>\n",
       "      <td>21</td>\n",
       "      <td>5</td>\n",
       "    </tr>\n",
       "    <tr>\n",
       "      <th>82.M11.saliva.1168589</th>\n",
       "      <td>2</td>\n",
       "      <td>10</td>\n",
       "      <td>34</td>\n",
       "    </tr>\n",
       "    <tr>\n",
       "      <th>22.M11.saliva.1168530</th>\n",
       "      <td>1</td>\n",
       "      <td>13</td>\n",
       "      <td>2</td>\n",
       "    </tr>\n",
       "    <tr>\n",
       "      <th>57.M11.saliva.1168522</th>\n",
       "      <td>1</td>\n",
       "      <td>21</td>\n",
       "      <td>45</td>\n",
       "    </tr>\n",
       "    <tr>\n",
       "      <th>50.M11.saliva.1168588</th>\n",
       "      <td>1</td>\n",
       "      <td>19</td>\n",
       "      <td>58</td>\n",
       "    </tr>\n",
       "    <tr>\n",
       "      <th>35.M11.saliva.1168534</th>\n",
       "      <td>1</td>\n",
       "      <td>16</td>\n",
       "      <td>0</td>\n",
       "    </tr>\n",
       "    <tr>\n",
       "      <th>27.M11.saliva.1168540</th>\n",
       "      <td>1</td>\n",
       "      <td>14</td>\n",
       "      <td>17</td>\n",
       "    </tr>\n",
       "    <tr>\n",
       "      <th>95.M11.saliva.1168579</th>\n",
       "      <td>2</td>\n",
       "      <td>12</td>\n",
       "      <td>56</td>\n",
       "    </tr>\n",
       "    <tr>\n",
       "      <th>...</th>\n",
       "      <td>...</td>\n",
       "      <td>...</td>\n",
       "      <td>...</td>\n",
       "    </tr>\n",
       "    <tr>\n",
       "      <th>19.M11.saliva.1168553</th>\n",
       "      <td>1</td>\n",
       "      <td>12</td>\n",
       "      <td>18</td>\n",
       "    </tr>\n",
       "    <tr>\n",
       "      <th>42.M11.saliva.1168518</th>\n",
       "      <td>1</td>\n",
       "      <td>17</td>\n",
       "      <td>48</td>\n",
       "    </tr>\n",
       "    <tr>\n",
       "      <th>61.M11.saliva.1168585</th>\n",
       "      <td>1</td>\n",
       "      <td>22</td>\n",
       "      <td>34</td>\n",
       "    </tr>\n",
       "    <tr>\n",
       "      <th>18.M11.saliva.1168552</th>\n",
       "      <td>1</td>\n",
       "      <td>12</td>\n",
       "      <td>3</td>\n",
       "    </tr>\n",
       "    <tr>\n",
       "      <th>20.M11.saliva.1168525</th>\n",
       "      <td>1</td>\n",
       "      <td>12</td>\n",
       "      <td>32</td>\n",
       "    </tr>\n",
       "    <tr>\n",
       "      <th>23.M11.saliva.1168571</th>\n",
       "      <td>1</td>\n",
       "      <td>13</td>\n",
       "      <td>17</td>\n",
       "    </tr>\n",
       "    <tr>\n",
       "      <th>39.M11.saliva.1168566</th>\n",
       "      <td>1</td>\n",
       "      <td>17</td>\n",
       "      <td>2</td>\n",
       "    </tr>\n",
       "    <tr>\n",
       "      <th>51.M11.saliva.1168537</th>\n",
       "      <td>1</td>\n",
       "      <td>20</td>\n",
       "      <td>16</td>\n",
       "    </tr>\n",
       "    <tr>\n",
       "      <th>5.M11.saliva.1168507</th>\n",
       "      <td>1</td>\n",
       "      <td>9</td>\n",
       "      <td>30</td>\n",
       "    </tr>\n",
       "    <tr>\n",
       "      <th>21.M11.saliva.1168555</th>\n",
       "      <td>1</td>\n",
       "      <td>12</td>\n",
       "      <td>48</td>\n",
       "    </tr>\n",
       "    <tr>\n",
       "      <th>68.M11.saliva.1168510</th>\n",
       "      <td>2</td>\n",
       "      <td>4</td>\n",
       "      <td>29</td>\n",
       "    </tr>\n",
       "    <tr>\n",
       "      <th>56.M11.saliva.1168538</th>\n",
       "      <td>1</td>\n",
       "      <td>21</td>\n",
       "      <td>35</td>\n",
       "    </tr>\n",
       "    <tr>\n",
       "      <th>24.M11.saliva.1168580</th>\n",
       "      <td>1</td>\n",
       "      <td>13</td>\n",
       "      <td>32</td>\n",
       "    </tr>\n",
       "    <tr>\n",
       "      <th>29.M11.saliva.1168547</th>\n",
       "      <td>1</td>\n",
       "      <td>14</td>\n",
       "      <td>47</td>\n",
       "    </tr>\n",
       "    <tr>\n",
       "      <th>78.M11.saliva.1168563</th>\n",
       "      <td>2</td>\n",
       "      <td>9</td>\n",
       "      <td>33</td>\n",
       "    </tr>\n",
       "    <tr>\n",
       "      <th>6.M11.saliva.1168502</th>\n",
       "      <td>1</td>\n",
       "      <td>9</td>\n",
       "      <td>31</td>\n",
       "    </tr>\n",
       "    <tr>\n",
       "      <th>12.M11.saliva.1168590</th>\n",
       "      <td>1</td>\n",
       "      <td>10</td>\n",
       "      <td>33</td>\n",
       "    </tr>\n",
       "    <tr>\n",
       "      <th>89.M11.saliva.1168572</th>\n",
       "      <td>2</td>\n",
       "      <td>12</td>\n",
       "      <td>20</td>\n",
       "    </tr>\n",
       "    <tr>\n",
       "      <th>62.M11.saliva.1168528</th>\n",
       "      <td>1</td>\n",
       "      <td>22</td>\n",
       "      <td>49</td>\n",
       "    </tr>\n",
       "    <tr>\n",
       "      <th>72.M11.saliva.1168586</th>\n",
       "      <td>2</td>\n",
       "      <td>8</td>\n",
       "      <td>0</td>\n",
       "    </tr>\n",
       "    <tr>\n",
       "      <th>45.M11.saliva.1168519</th>\n",
       "      <td>1</td>\n",
       "      <td>18</td>\n",
       "      <td>33</td>\n",
       "    </tr>\n",
       "    <tr>\n",
       "      <th>32.M11.saliva.1168576</th>\n",
       "      <td>1</td>\n",
       "      <td>15</td>\n",
       "      <td>25</td>\n",
       "    </tr>\n",
       "    <tr>\n",
       "      <th>26.M11.saliva.1168526</th>\n",
       "      <td>1</td>\n",
       "      <td>14</td>\n",
       "      <td>2</td>\n",
       "    </tr>\n",
       "    <tr>\n",
       "      <th>43.M11.saliva.1168545</th>\n",
       "      <td>1</td>\n",
       "      <td>18</td>\n",
       "      <td>2</td>\n",
       "    </tr>\n",
       "    <tr>\n",
       "      <th>17.M11.saliva.1168511</th>\n",
       "      <td>1</td>\n",
       "      <td>11</td>\n",
       "      <td>48</td>\n",
       "    </tr>\n",
       "    <tr>\n",
       "      <th>16.M11.saliva.1168539</th>\n",
       "      <td>1</td>\n",
       "      <td>11</td>\n",
       "      <td>33</td>\n",
       "    </tr>\n",
       "    <tr>\n",
       "      <th>96.M11.saliva.1168594</th>\n",
       "      <td>2</td>\n",
       "      <td>13</td>\n",
       "      <td>54</td>\n",
       "    </tr>\n",
       "    <tr>\n",
       "      <th>94.M11.saliva.1168565</th>\n",
       "      <td>2</td>\n",
       "      <td>12</td>\n",
       "      <td>53</td>\n",
       "    </tr>\n",
       "    <tr>\n",
       "      <th>36.M11.saliva.1168554</th>\n",
       "      <td>1</td>\n",
       "      <td>16</td>\n",
       "      <td>15</td>\n",
       "    </tr>\n",
       "    <tr>\n",
       "      <th>81.M11.saliva.1168564</th>\n",
       "      <td>2</td>\n",
       "      <td>10</td>\n",
       "      <td>19</td>\n",
       "    </tr>\n",
       "  </tbody>\n",
       "</table>\n",
       "<p>95 rows × 3 columns</p>\n",
       "</div>"
      ],
      "text/plain": [
       "                      DAY HOUR MINUTES\n",
       "#SampleID                             \n",
       "40.M11.saliva.1168503   1   17      17\n",
       "46.M11.saliva.1168574   1   18      49\n",
       "7.M11.saliva.1168517    1    9      33\n",
       "60.M11.saliva.1168546   1   22      19\n",
       "85.M11.saliva.1168506   2   11      19\n",
       "41.M11.saliva.1168551   1   17      32\n",
       "69.M11.saliva.1168557   2    7       0\n",
       "38.M11.saliva.1168521   1   16      46\n",
       "73.M11.saliva.1168533   2    8      15\n",
       "88.M11.saliva.1168591   2   12       5\n",
       "71.M11.saliva.1168595   2    7      45\n",
       "59.M11.saliva.1168535   1   22       5\n",
       "2.M11.saliva.1168561    1    8      38\n",
       "67.M11.saliva.1168593   2    2      20\n",
       "1.M11.saliva.1168567    1    8      25\n",
       "3.M11.saliva.1168562    1    9      17\n",
       "65.M11.saliva.1168597   1   23      35\n",
       "53.M11.saliva.1168508   1   20      49\n",
       "10.M11.saliva.1168573   1   10       4\n",
       "28.M11.saliva.1168583   1   14      32\n",
       "79.M11.saliva.1168578   2    9      49\n",
       "15.M11.saliva.1168584   1   11      18\n",
       "54.M11.saliva.1168582   1   21       5\n",
       "82.M11.saliva.1168589   2   10      34\n",
       "22.M11.saliva.1168530   1   13       2\n",
       "57.M11.saliva.1168522   1   21      45\n",
       "50.M11.saliva.1168588   1   19      58\n",
       "35.M11.saliva.1168534   1   16       0\n",
       "27.M11.saliva.1168540   1   14      17\n",
       "95.M11.saliva.1168579   2   12      56\n",
       "...                    ..  ...     ...\n",
       "19.M11.saliva.1168553   1   12      18\n",
       "42.M11.saliva.1168518   1   17      48\n",
       "61.M11.saliva.1168585   1   22      34\n",
       "18.M11.saliva.1168552   1   12       3\n",
       "20.M11.saliva.1168525   1   12      32\n",
       "23.M11.saliva.1168571   1   13      17\n",
       "39.M11.saliva.1168566   1   17       2\n",
       "51.M11.saliva.1168537   1   20      16\n",
       "5.M11.saliva.1168507    1    9      30\n",
       "21.M11.saliva.1168555   1   12      48\n",
       "68.M11.saliva.1168510   2    4      29\n",
       "56.M11.saliva.1168538   1   21      35\n",
       "24.M11.saliva.1168580   1   13      32\n",
       "29.M11.saliva.1168547   1   14      47\n",
       "78.M11.saliva.1168563   2    9      33\n",
       "6.M11.saliva.1168502    1    9      31\n",
       "12.M11.saliva.1168590   1   10      33\n",
       "89.M11.saliva.1168572   2   12      20\n",
       "62.M11.saliva.1168528   1   22      49\n",
       "72.M11.saliva.1168586   2    8       0\n",
       "45.M11.saliva.1168519   1   18      33\n",
       "32.M11.saliva.1168576   1   15      25\n",
       "26.M11.saliva.1168526   1   14       2\n",
       "43.M11.saliva.1168545   1   18       2\n",
       "17.M11.saliva.1168511   1   11      48\n",
       "16.M11.saliva.1168539   1   11      33\n",
       "96.M11.saliva.1168594   2   13      54\n",
       "94.M11.saliva.1168565   2   12      53\n",
       "36.M11.saliva.1168554   1   16      15\n",
       "81.M11.saliva.1168564   2   10      19\n",
       "\n",
       "[95 rows x 3 columns]"
      ]
     },
     "execution_count": 7,
     "metadata": {},
     "output_type": "execute_result"
    }
   ],
   "source": [
    "x.sample_metadata[['DAY', 'HOUR', 'MINUTES']]"
   ]
  },
  {
   "cell_type": "code",
   "execution_count": 8,
   "metadata": {
    "collapsed": false
   },
   "outputs": [],
   "source": [
    "for field in ['MINUTES', 'HOUR', 'DAY']:\n",
    "    x.sort_by_metadata(field, axis=0, inplace=True)"
   ]
  },
  {
   "cell_type": "code",
   "execution_count": 9,
   "metadata": {
    "collapsed": false
   },
   "outputs": [
    {
     "data": {
      "text/html": [
       "<div>\n",
       "<table border=\"1\" class=\"dataframe\">\n",
       "  <thead>\n",
       "    <tr style=\"text-align: right;\">\n",
       "      <th></th>\n",
       "      <th>DAY</th>\n",
       "      <th>HOUR</th>\n",
       "      <th>MINUTES</th>\n",
       "    </tr>\n",
       "    <tr>\n",
       "      <th>#SampleID</th>\n",
       "      <th></th>\n",
       "      <th></th>\n",
       "      <th></th>\n",
       "    </tr>\n",
       "  </thead>\n",
       "  <tbody>\n",
       "    <tr>\n",
       "      <th>1.M11.saliva.1168567</th>\n",
       "      <td>1</td>\n",
       "      <td>8</td>\n",
       "      <td>25</td>\n",
       "    </tr>\n",
       "    <tr>\n",
       "      <th>2.M11.saliva.1168561</th>\n",
       "      <td>1</td>\n",
       "      <td>8</td>\n",
       "      <td>38</td>\n",
       "    </tr>\n",
       "    <tr>\n",
       "      <th>3.M11.saliva.1168562</th>\n",
       "      <td>1</td>\n",
       "      <td>9</td>\n",
       "      <td>17</td>\n",
       "    </tr>\n",
       "    <tr>\n",
       "      <th>4.M11.saliva.1168558</th>\n",
       "      <td>1</td>\n",
       "      <td>9</td>\n",
       "      <td>29</td>\n",
       "    </tr>\n",
       "    <tr>\n",
       "      <th>5.M11.saliva.1168507</th>\n",
       "      <td>1</td>\n",
       "      <td>9</td>\n",
       "      <td>30</td>\n",
       "    </tr>\n",
       "    <tr>\n",
       "      <th>6.M11.saliva.1168502</th>\n",
       "      <td>1</td>\n",
       "      <td>9</td>\n",
       "      <td>31</td>\n",
       "    </tr>\n",
       "    <tr>\n",
       "      <th>7.M11.saliva.1168517</th>\n",
       "      <td>1</td>\n",
       "      <td>9</td>\n",
       "      <td>33</td>\n",
       "    </tr>\n",
       "    <tr>\n",
       "      <th>8.M11.saliva.1168543</th>\n",
       "      <td>1</td>\n",
       "      <td>9</td>\n",
       "      <td>34</td>\n",
       "    </tr>\n",
       "    <tr>\n",
       "      <th>9.M11.saliva.1168569</th>\n",
       "      <td>1</td>\n",
       "      <td>9</td>\n",
       "      <td>49</td>\n",
       "    </tr>\n",
       "    <tr>\n",
       "      <th>10.M11.saliva.1168573</th>\n",
       "      <td>1</td>\n",
       "      <td>10</td>\n",
       "      <td>4</td>\n",
       "    </tr>\n",
       "    <tr>\n",
       "      <th>11.M11.saliva.1168556</th>\n",
       "      <td>1</td>\n",
       "      <td>10</td>\n",
       "      <td>19</td>\n",
       "    </tr>\n",
       "    <tr>\n",
       "      <th>12.M11.saliva.1168590</th>\n",
       "      <td>1</td>\n",
       "      <td>10</td>\n",
       "      <td>33</td>\n",
       "    </tr>\n",
       "    <tr>\n",
       "      <th>13.M11.saliva.1168512</th>\n",
       "      <td>1</td>\n",
       "      <td>10</td>\n",
       "      <td>48</td>\n",
       "    </tr>\n",
       "    <tr>\n",
       "      <th>14.M11.saliva.1168536</th>\n",
       "      <td>1</td>\n",
       "      <td>11</td>\n",
       "      <td>3</td>\n",
       "    </tr>\n",
       "    <tr>\n",
       "      <th>15.M11.saliva.1168584</th>\n",
       "      <td>1</td>\n",
       "      <td>11</td>\n",
       "      <td>18</td>\n",
       "    </tr>\n",
       "    <tr>\n",
       "      <th>16.M11.saliva.1168539</th>\n",
       "      <td>1</td>\n",
       "      <td>11</td>\n",
       "      <td>33</td>\n",
       "    </tr>\n",
       "    <tr>\n",
       "      <th>17.M11.saliva.1168511</th>\n",
       "      <td>1</td>\n",
       "      <td>11</td>\n",
       "      <td>48</td>\n",
       "    </tr>\n",
       "    <tr>\n",
       "      <th>18.M11.saliva.1168552</th>\n",
       "      <td>1</td>\n",
       "      <td>12</td>\n",
       "      <td>3</td>\n",
       "    </tr>\n",
       "    <tr>\n",
       "      <th>19.M11.saliva.1168553</th>\n",
       "      <td>1</td>\n",
       "      <td>12</td>\n",
       "      <td>18</td>\n",
       "    </tr>\n",
       "    <tr>\n",
       "      <th>20.M11.saliva.1168525</th>\n",
       "      <td>1</td>\n",
       "      <td>12</td>\n",
       "      <td>32</td>\n",
       "    </tr>\n",
       "    <tr>\n",
       "      <th>21.M11.saliva.1168555</th>\n",
       "      <td>1</td>\n",
       "      <td>12</td>\n",
       "      <td>48</td>\n",
       "    </tr>\n",
       "    <tr>\n",
       "      <th>22.M11.saliva.1168530</th>\n",
       "      <td>1</td>\n",
       "      <td>13</td>\n",
       "      <td>2</td>\n",
       "    </tr>\n",
       "    <tr>\n",
       "      <th>23.M11.saliva.1168571</th>\n",
       "      <td>1</td>\n",
       "      <td>13</td>\n",
       "      <td>17</td>\n",
       "    </tr>\n",
       "    <tr>\n",
       "      <th>24.M11.saliva.1168580</th>\n",
       "      <td>1</td>\n",
       "      <td>13</td>\n",
       "      <td>32</td>\n",
       "    </tr>\n",
       "    <tr>\n",
       "      <th>25.M11.saliva.1168514</th>\n",
       "      <td>1</td>\n",
       "      <td>13</td>\n",
       "      <td>47</td>\n",
       "    </tr>\n",
       "    <tr>\n",
       "      <th>26.M11.saliva.1168526</th>\n",
       "      <td>1</td>\n",
       "      <td>14</td>\n",
       "      <td>2</td>\n",
       "    </tr>\n",
       "    <tr>\n",
       "      <th>27.M11.saliva.1168540</th>\n",
       "      <td>1</td>\n",
       "      <td>14</td>\n",
       "      <td>17</td>\n",
       "    </tr>\n",
       "    <tr>\n",
       "      <th>28.M11.saliva.1168583</th>\n",
       "      <td>1</td>\n",
       "      <td>14</td>\n",
       "      <td>32</td>\n",
       "    </tr>\n",
       "    <tr>\n",
       "      <th>29.M11.saliva.1168547</th>\n",
       "      <td>1</td>\n",
       "      <td>14</td>\n",
       "      <td>47</td>\n",
       "    </tr>\n",
       "    <tr>\n",
       "      <th>30.M11.saliva.1168505</th>\n",
       "      <td>1</td>\n",
       "      <td>15</td>\n",
       "      <td>4</td>\n",
       "    </tr>\n",
       "    <tr>\n",
       "      <th>...</th>\n",
       "      <td>...</td>\n",
       "      <td>...</td>\n",
       "      <td>...</td>\n",
       "    </tr>\n",
       "    <tr>\n",
       "      <th>67.M11.saliva.1168593</th>\n",
       "      <td>2</td>\n",
       "      <td>2</td>\n",
       "      <td>20</td>\n",
       "    </tr>\n",
       "    <tr>\n",
       "      <th>68.M11.saliva.1168510</th>\n",
       "      <td>2</td>\n",
       "      <td>4</td>\n",
       "      <td>29</td>\n",
       "    </tr>\n",
       "    <tr>\n",
       "      <th>69.M11.saliva.1168557</th>\n",
       "      <td>2</td>\n",
       "      <td>7</td>\n",
       "      <td>0</td>\n",
       "    </tr>\n",
       "    <tr>\n",
       "      <th>70.M11.saliva.1168568</th>\n",
       "      <td>2</td>\n",
       "      <td>7</td>\n",
       "      <td>30</td>\n",
       "    </tr>\n",
       "    <tr>\n",
       "      <th>71.M11.saliva.1168595</th>\n",
       "      <td>2</td>\n",
       "      <td>7</td>\n",
       "      <td>45</td>\n",
       "    </tr>\n",
       "    <tr>\n",
       "      <th>72.M11.saliva.1168586</th>\n",
       "      <td>2</td>\n",
       "      <td>8</td>\n",
       "      <td>0</td>\n",
       "    </tr>\n",
       "    <tr>\n",
       "      <th>73.M11.saliva.1168533</th>\n",
       "      <td>2</td>\n",
       "      <td>8</td>\n",
       "      <td>15</td>\n",
       "    </tr>\n",
       "    <tr>\n",
       "      <th>74.M11.saliva.1168592</th>\n",
       "      <td>2</td>\n",
       "      <td>8</td>\n",
       "      <td>30</td>\n",
       "    </tr>\n",
       "    <tr>\n",
       "      <th>75.M11.saliva.1168524</th>\n",
       "      <td>2</td>\n",
       "      <td>8</td>\n",
       "      <td>47</td>\n",
       "    </tr>\n",
       "    <tr>\n",
       "      <th>76.M11.saliva.1168549</th>\n",
       "      <td>2</td>\n",
       "      <td>9</td>\n",
       "      <td>4</td>\n",
       "    </tr>\n",
       "    <tr>\n",
       "      <th>77.M11.saliva.1168548</th>\n",
       "      <td>2</td>\n",
       "      <td>9</td>\n",
       "      <td>18</td>\n",
       "    </tr>\n",
       "    <tr>\n",
       "      <th>78.M11.saliva.1168563</th>\n",
       "      <td>2</td>\n",
       "      <td>9</td>\n",
       "      <td>33</td>\n",
       "    </tr>\n",
       "    <tr>\n",
       "      <th>79.M11.saliva.1168578</th>\n",
       "      <td>2</td>\n",
       "      <td>9</td>\n",
       "      <td>49</td>\n",
       "    </tr>\n",
       "    <tr>\n",
       "      <th>80.M11.saliva.1168513</th>\n",
       "      <td>2</td>\n",
       "      <td>10</td>\n",
       "      <td>4</td>\n",
       "    </tr>\n",
       "    <tr>\n",
       "      <th>81.M11.saliva.1168564</th>\n",
       "      <td>2</td>\n",
       "      <td>10</td>\n",
       "      <td>19</td>\n",
       "    </tr>\n",
       "    <tr>\n",
       "      <th>82.M11.saliva.1168589</th>\n",
       "      <td>2</td>\n",
       "      <td>10</td>\n",
       "      <td>34</td>\n",
       "    </tr>\n",
       "    <tr>\n",
       "      <th>83.M11.saliva.1168504</th>\n",
       "      <td>2</td>\n",
       "      <td>10</td>\n",
       "      <td>48</td>\n",
       "    </tr>\n",
       "    <tr>\n",
       "      <th>84.M11.saliva.1168577</th>\n",
       "      <td>2</td>\n",
       "      <td>11</td>\n",
       "      <td>4</td>\n",
       "    </tr>\n",
       "    <tr>\n",
       "      <th>85.M11.saliva.1168506</th>\n",
       "      <td>2</td>\n",
       "      <td>11</td>\n",
       "      <td>19</td>\n",
       "    </tr>\n",
       "    <tr>\n",
       "      <th>86.M11.saliva.1168570</th>\n",
       "      <td>2</td>\n",
       "      <td>11</td>\n",
       "      <td>34</td>\n",
       "    </tr>\n",
       "    <tr>\n",
       "      <th>87.M11.saliva.1168587</th>\n",
       "      <td>2</td>\n",
       "      <td>11</td>\n",
       "      <td>49</td>\n",
       "    </tr>\n",
       "    <tr>\n",
       "      <th>88.M11.saliva.1168591</th>\n",
       "      <td>2</td>\n",
       "      <td>12</td>\n",
       "      <td>5</td>\n",
       "    </tr>\n",
       "    <tr>\n",
       "      <th>89.M11.saliva.1168572</th>\n",
       "      <td>2</td>\n",
       "      <td>12</td>\n",
       "      <td>20</td>\n",
       "    </tr>\n",
       "    <tr>\n",
       "      <th>90.M11.saliva.1168575</th>\n",
       "      <td>2</td>\n",
       "      <td>12</td>\n",
       "      <td>35</td>\n",
       "    </tr>\n",
       "    <tr>\n",
       "      <th>91.M11.saliva.1168527</th>\n",
       "      <td>2</td>\n",
       "      <td>12</td>\n",
       "      <td>49</td>\n",
       "    </tr>\n",
       "    <tr>\n",
       "      <th>92.M11.saliva.1168523</th>\n",
       "      <td>2</td>\n",
       "      <td>12</td>\n",
       "      <td>50</td>\n",
       "    </tr>\n",
       "    <tr>\n",
       "      <th>93.M11.saliva.1168531</th>\n",
       "      <td>2</td>\n",
       "      <td>12</td>\n",
       "      <td>51</td>\n",
       "    </tr>\n",
       "    <tr>\n",
       "      <th>94.M11.saliva.1168565</th>\n",
       "      <td>2</td>\n",
       "      <td>12</td>\n",
       "      <td>53</td>\n",
       "    </tr>\n",
       "    <tr>\n",
       "      <th>95.M11.saliva.1168579</th>\n",
       "      <td>2</td>\n",
       "      <td>12</td>\n",
       "      <td>56</td>\n",
       "    </tr>\n",
       "    <tr>\n",
       "      <th>96.M11.saliva.1168594</th>\n",
       "      <td>2</td>\n",
       "      <td>13</td>\n",
       "      <td>54</td>\n",
       "    </tr>\n",
       "  </tbody>\n",
       "</table>\n",
       "<p>95 rows × 3 columns</p>\n",
       "</div>"
      ],
      "text/plain": [
       "                      DAY HOUR MINUTES\n",
       "#SampleID                             \n",
       "1.M11.saliva.1168567    1    8      25\n",
       "2.M11.saliva.1168561    1    8      38\n",
       "3.M11.saliva.1168562    1    9      17\n",
       "4.M11.saliva.1168558    1    9      29\n",
       "5.M11.saliva.1168507    1    9      30\n",
       "6.M11.saliva.1168502    1    9      31\n",
       "7.M11.saliva.1168517    1    9      33\n",
       "8.M11.saliva.1168543    1    9      34\n",
       "9.M11.saliva.1168569    1    9      49\n",
       "10.M11.saliva.1168573   1   10       4\n",
       "11.M11.saliva.1168556   1   10      19\n",
       "12.M11.saliva.1168590   1   10      33\n",
       "13.M11.saliva.1168512   1   10      48\n",
       "14.M11.saliva.1168536   1   11       3\n",
       "15.M11.saliva.1168584   1   11      18\n",
       "16.M11.saliva.1168539   1   11      33\n",
       "17.M11.saliva.1168511   1   11      48\n",
       "18.M11.saliva.1168552   1   12       3\n",
       "19.M11.saliva.1168553   1   12      18\n",
       "20.M11.saliva.1168525   1   12      32\n",
       "21.M11.saliva.1168555   1   12      48\n",
       "22.M11.saliva.1168530   1   13       2\n",
       "23.M11.saliva.1168571   1   13      17\n",
       "24.M11.saliva.1168580   1   13      32\n",
       "25.M11.saliva.1168514   1   13      47\n",
       "26.M11.saliva.1168526   1   14       2\n",
       "27.M11.saliva.1168540   1   14      17\n",
       "28.M11.saliva.1168583   1   14      32\n",
       "29.M11.saliva.1168547   1   14      47\n",
       "30.M11.saliva.1168505   1   15       4\n",
       "...                    ..  ...     ...\n",
       "67.M11.saliva.1168593   2    2      20\n",
       "68.M11.saliva.1168510   2    4      29\n",
       "69.M11.saliva.1168557   2    7       0\n",
       "70.M11.saliva.1168568   2    7      30\n",
       "71.M11.saliva.1168595   2    7      45\n",
       "72.M11.saliva.1168586   2    8       0\n",
       "73.M11.saliva.1168533   2    8      15\n",
       "74.M11.saliva.1168592   2    8      30\n",
       "75.M11.saliva.1168524   2    8      47\n",
       "76.M11.saliva.1168549   2    9       4\n",
       "77.M11.saliva.1168548   2    9      18\n",
       "78.M11.saliva.1168563   2    9      33\n",
       "79.M11.saliva.1168578   2    9      49\n",
       "80.M11.saliva.1168513   2   10       4\n",
       "81.M11.saliva.1168564   2   10      19\n",
       "82.M11.saliva.1168589   2   10      34\n",
       "83.M11.saliva.1168504   2   10      48\n",
       "84.M11.saliva.1168577   2   11       4\n",
       "85.M11.saliva.1168506   2   11      19\n",
       "86.M11.saliva.1168570   2   11      34\n",
       "87.M11.saliva.1168587   2   11      49\n",
       "88.M11.saliva.1168591   2   12       5\n",
       "89.M11.saliva.1168572   2   12      20\n",
       "90.M11.saliva.1168575   2   12      35\n",
       "91.M11.saliva.1168527   2   12      49\n",
       "92.M11.saliva.1168523   2   12      50\n",
       "93.M11.saliva.1168531   2   12      51\n",
       "94.M11.saliva.1168565   2   12      53\n",
       "95.M11.saliva.1168579   2   12      56\n",
       "96.M11.saliva.1168594   2   13      54\n",
       "\n",
       "[95 rows x 3 columns]"
      ]
     },
     "execution_count": 9,
     "metadata": {},
     "output_type": "execute_result"
    }
   ],
   "source": [
    "x.sample_metadata[['DAY', 'HOUR', 'MINUTES']]"
   ]
  },
  {
   "cell_type": "code",
   "execution_count": 10,
   "metadata": {
    "collapsed": false
   },
   "outputs": [
    {
     "data": {
      "application/javascript": [
       "/* Put everything inside the global mpl namespace */\n",
       "window.mpl = {};\n",
       "\n",
       "\n",
       "mpl.get_websocket_type = function() {\n",
       "    if (typeof(WebSocket) !== 'undefined') {\n",
       "        return WebSocket;\n",
       "    } else if (typeof(MozWebSocket) !== 'undefined') {\n",
       "        return MozWebSocket;\n",
       "    } else {\n",
       "        alert('Your browser does not have WebSocket support.' +\n",
       "              'Please try Chrome, Safari or Firefox ≥ 6. ' +\n",
       "              'Firefox 4 and 5 are also supported but you ' +\n",
       "              'have to enable WebSockets in about:config.');\n",
       "    };\n",
       "}\n",
       "\n",
       "mpl.figure = function(figure_id, websocket, ondownload, parent_element) {\n",
       "    this.id = figure_id;\n",
       "\n",
       "    this.ws = websocket;\n",
       "\n",
       "    this.supports_binary = (this.ws.binaryType != undefined);\n",
       "\n",
       "    if (!this.supports_binary) {\n",
       "        var warnings = document.getElementById(\"mpl-warnings\");\n",
       "        if (warnings) {\n",
       "            warnings.style.display = 'block';\n",
       "            warnings.textContent = (\n",
       "                \"This browser does not support binary websocket messages. \" +\n",
       "                    \"Performance may be slow.\");\n",
       "        }\n",
       "    }\n",
       "\n",
       "    this.imageObj = new Image();\n",
       "\n",
       "    this.context = undefined;\n",
       "    this.message = undefined;\n",
       "    this.canvas = undefined;\n",
       "    this.rubberband_canvas = undefined;\n",
       "    this.rubberband_context = undefined;\n",
       "    this.format_dropdown = undefined;\n",
       "\n",
       "    this.image_mode = 'full';\n",
       "\n",
       "    this.root = $('<div/>');\n",
       "    this._root_extra_style(this.root)\n",
       "    this.root.attr('style', 'display: inline-block');\n",
       "\n",
       "    $(parent_element).append(this.root);\n",
       "\n",
       "    this._init_header(this);\n",
       "    this._init_canvas(this);\n",
       "    this._init_toolbar(this);\n",
       "\n",
       "    var fig = this;\n",
       "\n",
       "    this.waiting = false;\n",
       "\n",
       "    this.ws.onopen =  function () {\n",
       "            fig.send_message(\"supports_binary\", {value: fig.supports_binary});\n",
       "            fig.send_message(\"send_image_mode\", {});\n",
       "            if (mpl.ratio != 1) {\n",
       "                fig.send_message(\"set_dpi_ratio\", {'dpi_ratio': mpl.ratio});\n",
       "            }\n",
       "            fig.send_message(\"refresh\", {});\n",
       "        }\n",
       "\n",
       "    this.imageObj.onload = function() {\n",
       "            if (fig.image_mode == 'full') {\n",
       "                // Full images could contain transparency (where diff images\n",
       "                // almost always do), so we need to clear the canvas so that\n",
       "                // there is no ghosting.\n",
       "                fig.context.clearRect(0, 0, fig.canvas.width, fig.canvas.height);\n",
       "            }\n",
       "            fig.context.drawImage(fig.imageObj, 0, 0);\n",
       "        };\n",
       "\n",
       "    this.imageObj.onunload = function() {\n",
       "        this.ws.close();\n",
       "    }\n",
       "\n",
       "    this.ws.onmessage = this._make_on_message_function(this);\n",
       "\n",
       "    this.ondownload = ondownload;\n",
       "}\n",
       "\n",
       "mpl.figure.prototype._init_header = function() {\n",
       "    var titlebar = $(\n",
       "        '<div class=\"ui-dialog-titlebar ui-widget-header ui-corner-all ' +\n",
       "        'ui-helper-clearfix\"/>');\n",
       "    var titletext = $(\n",
       "        '<div class=\"ui-dialog-title\" style=\"width: 100%; ' +\n",
       "        'text-align: center; padding: 3px;\"/>');\n",
       "    titlebar.append(titletext)\n",
       "    this.root.append(titlebar);\n",
       "    this.header = titletext[0];\n",
       "}\n",
       "\n",
       "\n",
       "\n",
       "mpl.figure.prototype._canvas_extra_style = function(canvas_div) {\n",
       "\n",
       "}\n",
       "\n",
       "\n",
       "mpl.figure.prototype._root_extra_style = function(canvas_div) {\n",
       "\n",
       "}\n",
       "\n",
       "mpl.figure.prototype._init_canvas = function() {\n",
       "    var fig = this;\n",
       "\n",
       "    var canvas_div = $('<div/>');\n",
       "\n",
       "    canvas_div.attr('style', 'position: relative; clear: both; outline: 0');\n",
       "\n",
       "    function canvas_keyboard_event(event) {\n",
       "        return fig.key_event(event, event['data']);\n",
       "    }\n",
       "\n",
       "    canvas_div.keydown('key_press', canvas_keyboard_event);\n",
       "    canvas_div.keyup('key_release', canvas_keyboard_event);\n",
       "    this.canvas_div = canvas_div\n",
       "    this._canvas_extra_style(canvas_div)\n",
       "    this.root.append(canvas_div);\n",
       "\n",
       "    var canvas = $('<canvas/>');\n",
       "    canvas.addClass('mpl-canvas');\n",
       "    canvas.attr('style', \"left: 0; top: 0; z-index: 0; outline: 0\")\n",
       "\n",
       "    this.canvas = canvas[0];\n",
       "    this.context = canvas[0].getContext(\"2d\");\n",
       "\n",
       "    var backingStore = this.context.backingStorePixelRatio ||\n",
       "\tthis.context.webkitBackingStorePixelRatio ||\n",
       "\tthis.context.mozBackingStorePixelRatio ||\n",
       "\tthis.context.msBackingStorePixelRatio ||\n",
       "\tthis.context.oBackingStorePixelRatio ||\n",
       "\tthis.context.backingStorePixelRatio || 1;\n",
       "\n",
       "    mpl.ratio = (window.devicePixelRatio || 1) / backingStore;\n",
       "\n",
       "    var rubberband = $('<canvas/>');\n",
       "    rubberband.attr('style', \"position: absolute; left: 0; top: 0; z-index: 1;\")\n",
       "\n",
       "    var pass_mouse_events = true;\n",
       "\n",
       "    canvas_div.resizable({\n",
       "        start: function(event, ui) {\n",
       "            pass_mouse_events = false;\n",
       "        },\n",
       "        resize: function(event, ui) {\n",
       "            fig.request_resize(ui.size.width, ui.size.height);\n",
       "        },\n",
       "        stop: function(event, ui) {\n",
       "            pass_mouse_events = true;\n",
       "            fig.request_resize(ui.size.width, ui.size.height);\n",
       "        },\n",
       "    });\n",
       "\n",
       "    function mouse_event_fn(event) {\n",
       "        if (pass_mouse_events)\n",
       "            return fig.mouse_event(event, event['data']);\n",
       "    }\n",
       "\n",
       "    rubberband.mousedown('button_press', mouse_event_fn);\n",
       "    rubberband.mouseup('button_release', mouse_event_fn);\n",
       "    // Throttle sequential mouse events to 1 every 20ms.\n",
       "    rubberband.mousemove('motion_notify', mouse_event_fn);\n",
       "\n",
       "    rubberband.mouseenter('figure_enter', mouse_event_fn);\n",
       "    rubberband.mouseleave('figure_leave', mouse_event_fn);\n",
       "\n",
       "    canvas_div.on(\"wheel\", function (event) {\n",
       "        event = event.originalEvent;\n",
       "        event['data'] = 'scroll'\n",
       "        if (event.deltaY < 0) {\n",
       "            event.step = 1;\n",
       "        } else {\n",
       "            event.step = -1;\n",
       "        }\n",
       "        mouse_event_fn(event);\n",
       "    });\n",
       "\n",
       "    canvas_div.append(canvas);\n",
       "    canvas_div.append(rubberband);\n",
       "\n",
       "    this.rubberband = rubberband;\n",
       "    this.rubberband_canvas = rubberband[0];\n",
       "    this.rubberband_context = rubberband[0].getContext(\"2d\");\n",
       "    this.rubberband_context.strokeStyle = \"#000000\";\n",
       "\n",
       "    this._resize_canvas = function(width, height) {\n",
       "        // Keep the size of the canvas, canvas container, and rubber band\n",
       "        // canvas in synch.\n",
       "        canvas_div.css('width', width)\n",
       "        canvas_div.css('height', height)\n",
       "\n",
       "        canvas.attr('width', width * mpl.ratio);\n",
       "        canvas.attr('height', height * mpl.ratio);\n",
       "        canvas.attr('style', 'width: ' + width + 'px; height: ' + height + 'px;');\n",
       "\n",
       "        rubberband.attr('width', width);\n",
       "        rubberband.attr('height', height);\n",
       "    }\n",
       "\n",
       "    // Set the figure to an initial 600x600px, this will subsequently be updated\n",
       "    // upon first draw.\n",
       "    this._resize_canvas(600, 600);\n",
       "\n",
       "    // Disable right mouse context menu.\n",
       "    $(this.rubberband_canvas).bind(\"contextmenu\",function(e){\n",
       "        return false;\n",
       "    });\n",
       "\n",
       "    function set_focus () {\n",
       "        canvas.focus();\n",
       "        canvas_div.focus();\n",
       "    }\n",
       "\n",
       "    window.setTimeout(set_focus, 100);\n",
       "}\n",
       "\n",
       "mpl.figure.prototype._init_toolbar = function() {\n",
       "    var fig = this;\n",
       "\n",
       "    var nav_element = $('<div/>')\n",
       "    nav_element.attr('style', 'width: 100%');\n",
       "    this.root.append(nav_element);\n",
       "\n",
       "    // Define a callback function for later on.\n",
       "    function toolbar_event(event) {\n",
       "        return fig.toolbar_button_onclick(event['data']);\n",
       "    }\n",
       "    function toolbar_mouse_event(event) {\n",
       "        return fig.toolbar_button_onmouseover(event['data']);\n",
       "    }\n",
       "\n",
       "    for(var toolbar_ind in mpl.toolbar_items) {\n",
       "        var name = mpl.toolbar_items[toolbar_ind][0];\n",
       "        var tooltip = mpl.toolbar_items[toolbar_ind][1];\n",
       "        var image = mpl.toolbar_items[toolbar_ind][2];\n",
       "        var method_name = mpl.toolbar_items[toolbar_ind][3];\n",
       "\n",
       "        if (!name) {\n",
       "            // put a spacer in here.\n",
       "            continue;\n",
       "        }\n",
       "        var button = $('<button/>');\n",
       "        button.addClass('ui-button ui-widget ui-state-default ui-corner-all ' +\n",
       "                        'ui-button-icon-only');\n",
       "        button.attr('role', 'button');\n",
       "        button.attr('aria-disabled', 'false');\n",
       "        button.click(method_name, toolbar_event);\n",
       "        button.mouseover(tooltip, toolbar_mouse_event);\n",
       "\n",
       "        var icon_img = $('<span/>');\n",
       "        icon_img.addClass('ui-button-icon-primary ui-icon');\n",
       "        icon_img.addClass(image);\n",
       "        icon_img.addClass('ui-corner-all');\n",
       "\n",
       "        var tooltip_span = $('<span/>');\n",
       "        tooltip_span.addClass('ui-button-text');\n",
       "        tooltip_span.html(tooltip);\n",
       "\n",
       "        button.append(icon_img);\n",
       "        button.append(tooltip_span);\n",
       "\n",
       "        nav_element.append(button);\n",
       "    }\n",
       "\n",
       "    var fmt_picker_span = $('<span/>');\n",
       "\n",
       "    var fmt_picker = $('<select/>');\n",
       "    fmt_picker.addClass('mpl-toolbar-option ui-widget ui-widget-content');\n",
       "    fmt_picker_span.append(fmt_picker);\n",
       "    nav_element.append(fmt_picker_span);\n",
       "    this.format_dropdown = fmt_picker[0];\n",
       "\n",
       "    for (var ind in mpl.extensions) {\n",
       "        var fmt = mpl.extensions[ind];\n",
       "        var option = $(\n",
       "            '<option/>', {selected: fmt === mpl.default_extension}).html(fmt);\n",
       "        fmt_picker.append(option)\n",
       "    }\n",
       "\n",
       "    // Add hover states to the ui-buttons\n",
       "    $( \".ui-button\" ).hover(\n",
       "        function() { $(this).addClass(\"ui-state-hover\");},\n",
       "        function() { $(this).removeClass(\"ui-state-hover\");}\n",
       "    );\n",
       "\n",
       "    var status_bar = $('<span class=\"mpl-message\"/>');\n",
       "    nav_element.append(status_bar);\n",
       "    this.message = status_bar[0];\n",
       "}\n",
       "\n",
       "mpl.figure.prototype.request_resize = function(x_pixels, y_pixels) {\n",
       "    // Request matplotlib to resize the figure. Matplotlib will then trigger a resize in the client,\n",
       "    // which will in turn request a refresh of the image.\n",
       "    this.send_message('resize', {'width': x_pixels, 'height': y_pixels});\n",
       "}\n",
       "\n",
       "mpl.figure.prototype.send_message = function(type, properties) {\n",
       "    properties['type'] = type;\n",
       "    properties['figure_id'] = this.id;\n",
       "    this.ws.send(JSON.stringify(properties));\n",
       "}\n",
       "\n",
       "mpl.figure.prototype.send_draw_message = function() {\n",
       "    if (!this.waiting) {\n",
       "        this.waiting = true;\n",
       "        this.ws.send(JSON.stringify({type: \"draw\", figure_id: this.id}));\n",
       "    }\n",
       "}\n",
       "\n",
       "\n",
       "mpl.figure.prototype.handle_save = function(fig, msg) {\n",
       "    var format_dropdown = fig.format_dropdown;\n",
       "    var format = format_dropdown.options[format_dropdown.selectedIndex].value;\n",
       "    fig.ondownload(fig, format);\n",
       "}\n",
       "\n",
       "\n",
       "mpl.figure.prototype.handle_resize = function(fig, msg) {\n",
       "    var size = msg['size'];\n",
       "    if (size[0] != fig.canvas.width || size[1] != fig.canvas.height) {\n",
       "        fig._resize_canvas(size[0], size[1]);\n",
       "        fig.send_message(\"refresh\", {});\n",
       "    };\n",
       "}\n",
       "\n",
       "mpl.figure.prototype.handle_rubberband = function(fig, msg) {\n",
       "    var x0 = msg['x0'] / mpl.ratio;\n",
       "    var y0 = (fig.canvas.height - msg['y0']) / mpl.ratio;\n",
       "    var x1 = msg['x1'] / mpl.ratio;\n",
       "    var y1 = (fig.canvas.height - msg['y1']) / mpl.ratio;\n",
       "    x0 = Math.floor(x0) + 0.5;\n",
       "    y0 = Math.floor(y0) + 0.5;\n",
       "    x1 = Math.floor(x1) + 0.5;\n",
       "    y1 = Math.floor(y1) + 0.5;\n",
       "    var min_x = Math.min(x0, x1);\n",
       "    var min_y = Math.min(y0, y1);\n",
       "    var width = Math.abs(x1 - x0);\n",
       "    var height = Math.abs(y1 - y0);\n",
       "\n",
       "    fig.rubberband_context.clearRect(\n",
       "        0, 0, fig.canvas.width, fig.canvas.height);\n",
       "\n",
       "    fig.rubberband_context.strokeRect(min_x, min_y, width, height);\n",
       "}\n",
       "\n",
       "mpl.figure.prototype.handle_figure_label = function(fig, msg) {\n",
       "    // Updates the figure title.\n",
       "    fig.header.textContent = msg['label'];\n",
       "}\n",
       "\n",
       "mpl.figure.prototype.handle_cursor = function(fig, msg) {\n",
       "    var cursor = msg['cursor'];\n",
       "    switch(cursor)\n",
       "    {\n",
       "    case 0:\n",
       "        cursor = 'pointer';\n",
       "        break;\n",
       "    case 1:\n",
       "        cursor = 'default';\n",
       "        break;\n",
       "    case 2:\n",
       "        cursor = 'crosshair';\n",
       "        break;\n",
       "    case 3:\n",
       "        cursor = 'move';\n",
       "        break;\n",
       "    }\n",
       "    fig.rubberband_canvas.style.cursor = cursor;\n",
       "}\n",
       "\n",
       "mpl.figure.prototype.handle_message = function(fig, msg) {\n",
       "    fig.message.textContent = msg['message'];\n",
       "}\n",
       "\n",
       "mpl.figure.prototype.handle_draw = function(fig, msg) {\n",
       "    // Request the server to send over a new figure.\n",
       "    fig.send_draw_message();\n",
       "}\n",
       "\n",
       "mpl.figure.prototype.handle_image_mode = function(fig, msg) {\n",
       "    fig.image_mode = msg['mode'];\n",
       "}\n",
       "\n",
       "mpl.figure.prototype.updated_canvas_event = function() {\n",
       "    // Called whenever the canvas gets updated.\n",
       "    this.send_message(\"ack\", {});\n",
       "}\n",
       "\n",
       "// A function to construct a web socket function for onmessage handling.\n",
       "// Called in the figure constructor.\n",
       "mpl.figure.prototype._make_on_message_function = function(fig) {\n",
       "    return function socket_on_message(evt) {\n",
       "        if (evt.data instanceof Blob) {\n",
       "            /* FIXME: We get \"Resource interpreted as Image but\n",
       "             * transferred with MIME type text/plain:\" errors on\n",
       "             * Chrome.  But how to set the MIME type?  It doesn't seem\n",
       "             * to be part of the websocket stream */\n",
       "            evt.data.type = \"image/png\";\n",
       "\n",
       "            /* Free the memory for the previous frames */\n",
       "            if (fig.imageObj.src) {\n",
       "                (window.URL || window.webkitURL).revokeObjectURL(\n",
       "                    fig.imageObj.src);\n",
       "            }\n",
       "\n",
       "            fig.imageObj.src = (window.URL || window.webkitURL).createObjectURL(\n",
       "                evt.data);\n",
       "            fig.updated_canvas_event();\n",
       "            fig.waiting = false;\n",
       "            return;\n",
       "        }\n",
       "        else if (typeof evt.data === 'string' && evt.data.slice(0, 21) == \"data:image/png;base64\") {\n",
       "            fig.imageObj.src = evt.data;\n",
       "            fig.updated_canvas_event();\n",
       "            fig.waiting = false;\n",
       "            return;\n",
       "        }\n",
       "\n",
       "        var msg = JSON.parse(evt.data);\n",
       "        var msg_type = msg['type'];\n",
       "\n",
       "        // Call the  \"handle_{type}\" callback, which takes\n",
       "        // the figure and JSON message as its only arguments.\n",
       "        try {\n",
       "            var callback = fig[\"handle_\" + msg_type];\n",
       "        } catch (e) {\n",
       "            console.log(\"No handler for the '\" + msg_type + \"' message type: \", msg);\n",
       "            return;\n",
       "        }\n",
       "\n",
       "        if (callback) {\n",
       "            try {\n",
       "                // console.log(\"Handling '\" + msg_type + \"' message: \", msg);\n",
       "                callback(fig, msg);\n",
       "            } catch (e) {\n",
       "                console.log(\"Exception inside the 'handler_\" + msg_type + \"' callback:\", e, e.stack, msg);\n",
       "            }\n",
       "        }\n",
       "    };\n",
       "}\n",
       "\n",
       "// from http://stackoverflow.com/questions/1114465/getting-mouse-location-in-canvas\n",
       "mpl.findpos = function(e) {\n",
       "    //this section is from http://www.quirksmode.org/js/events_properties.html\n",
       "    var targ;\n",
       "    if (!e)\n",
       "        e = window.event;\n",
       "    if (e.target)\n",
       "        targ = e.target;\n",
       "    else if (e.srcElement)\n",
       "        targ = e.srcElement;\n",
       "    if (targ.nodeType == 3) // defeat Safari bug\n",
       "        targ = targ.parentNode;\n",
       "\n",
       "    // jQuery normalizes the pageX and pageY\n",
       "    // pageX,Y are the mouse positions relative to the document\n",
       "    // offset() returns the position of the element relative to the document\n",
       "    var x = e.pageX - $(targ).offset().left;\n",
       "    var y = e.pageY - $(targ).offset().top;\n",
       "\n",
       "    return {\"x\": x, \"y\": y};\n",
       "};\n",
       "\n",
       "/*\n",
       " * return a copy of an object with only non-object keys\n",
       " * we need this to avoid circular references\n",
       " * http://stackoverflow.com/a/24161582/3208463\n",
       " */\n",
       "function simpleKeys (original) {\n",
       "  return Object.keys(original).reduce(function (obj, key) {\n",
       "    if (typeof original[key] !== 'object')\n",
       "        obj[key] = original[key]\n",
       "    return obj;\n",
       "  }, {});\n",
       "}\n",
       "\n",
       "mpl.figure.prototype.mouse_event = function(event, name) {\n",
       "    var canvas_pos = mpl.findpos(event)\n",
       "\n",
       "    if (name === 'button_press')\n",
       "    {\n",
       "        this.canvas.focus();\n",
       "        this.canvas_div.focus();\n",
       "    }\n",
       "\n",
       "    var x = canvas_pos.x * mpl.ratio;\n",
       "    var y = canvas_pos.y * mpl.ratio;\n",
       "\n",
       "    this.send_message(name, {x: x, y: y, button: event.button,\n",
       "                             step: event.step,\n",
       "                             guiEvent: simpleKeys(event)});\n",
       "\n",
       "    /* This prevents the web browser from automatically changing to\n",
       "     * the text insertion cursor when the button is pressed.  We want\n",
       "     * to control all of the cursor setting manually through the\n",
       "     * 'cursor' event from matplotlib */\n",
       "    event.preventDefault();\n",
       "    return false;\n",
       "}\n",
       "\n",
       "mpl.figure.prototype._key_event_extra = function(event, name) {\n",
       "    // Handle any extra behaviour associated with a key event\n",
       "}\n",
       "\n",
       "mpl.figure.prototype.key_event = function(event, name) {\n",
       "\n",
       "    // Prevent repeat events\n",
       "    if (name == 'key_press')\n",
       "    {\n",
       "        if (event.which === this._key)\n",
       "            return;\n",
       "        else\n",
       "            this._key = event.which;\n",
       "    }\n",
       "    if (name == 'key_release')\n",
       "        this._key = null;\n",
       "\n",
       "    var value = '';\n",
       "    if (event.ctrlKey && event.which != 17)\n",
       "        value += \"ctrl+\";\n",
       "    if (event.altKey && event.which != 18)\n",
       "        value += \"alt+\";\n",
       "    if (event.shiftKey && event.which != 16)\n",
       "        value += \"shift+\";\n",
       "\n",
       "    value += 'k';\n",
       "    value += event.which.toString();\n",
       "\n",
       "    this._key_event_extra(event, name);\n",
       "\n",
       "    this.send_message(name, {key: value,\n",
       "                             guiEvent: simpleKeys(event)});\n",
       "    return false;\n",
       "}\n",
       "\n",
       "mpl.figure.prototype.toolbar_button_onclick = function(name) {\n",
       "    if (name == 'download') {\n",
       "        this.handle_save(this, null);\n",
       "    } else {\n",
       "        this.send_message(\"toolbar_button\", {name: name});\n",
       "    }\n",
       "};\n",
       "\n",
       "mpl.figure.prototype.toolbar_button_onmouseover = function(tooltip) {\n",
       "    this.message.textContent = tooltip;\n",
       "};\n",
       "mpl.toolbar_items = [[\"Home\", \"Reset original view\", \"fa fa-home icon-home\", \"home\"], [\"Back\", \"Back to  previous view\", \"fa fa-arrow-left icon-arrow-left\", \"back\"], [\"Forward\", \"Forward to next view\", \"fa fa-arrow-right icon-arrow-right\", \"forward\"], [\"\", \"\", \"\", \"\"], [\"Pan\", \"Pan axes with left mouse, zoom with right\", \"fa fa-arrows icon-move\", \"pan\"], [\"Zoom\", \"Zoom to rectangle\", \"fa fa-square-o icon-check-empty\", \"zoom\"], [\"\", \"\", \"\", \"\"], [\"Download\", \"Download plot\", \"fa fa-floppy-o icon-save\", \"download\"]];\n",
       "\n",
       "mpl.extensions = [\"eps\", \"pdf\", \"png\", \"ps\", \"raw\", \"svg\"];\n",
       "\n",
       "mpl.default_extension = \"png\";var comm_websocket_adapter = function(comm) {\n",
       "    // Create a \"websocket\"-like object which calls the given IPython comm\n",
       "    // object with the appropriate methods. Currently this is a non binary\n",
       "    // socket, so there is still some room for performance tuning.\n",
       "    var ws = {};\n",
       "\n",
       "    ws.close = function() {\n",
       "        comm.close()\n",
       "    };\n",
       "    ws.send = function(m) {\n",
       "        //console.log('sending', m);\n",
       "        comm.send(m);\n",
       "    };\n",
       "    // Register the callback with on_msg.\n",
       "    comm.on_msg(function(msg) {\n",
       "        //console.log('receiving', msg['content']['data'], msg);\n",
       "        // Pass the mpl event to the overriden (by mpl) onmessage function.\n",
       "        ws.onmessage(msg['content']['data'])\n",
       "    });\n",
       "    return ws;\n",
       "}\n",
       "\n",
       "mpl.mpl_figure_comm = function(comm, msg) {\n",
       "    // This is the function which gets called when the mpl process\n",
       "    // starts-up an IPython Comm through the \"matplotlib\" channel.\n",
       "\n",
       "    var id = msg.content.data.id;\n",
       "    // Get hold of the div created by the display call when the Comm\n",
       "    // socket was opened in Python.\n",
       "    var element = $(\"#\" + id);\n",
       "    var ws_proxy = comm_websocket_adapter(comm)\n",
       "\n",
       "    function ondownload(figure, format) {\n",
       "        window.open(figure.imageObj.src);\n",
       "    }\n",
       "\n",
       "    var fig = new mpl.figure(id, ws_proxy,\n",
       "                           ondownload,\n",
       "                           element.get(0));\n",
       "\n",
       "    // Call onopen now - mpl needs it, as it is assuming we've passed it a real\n",
       "    // web socket which is closed, not our websocket->open comm proxy.\n",
       "    ws_proxy.onopen();\n",
       "\n",
       "    fig.parent_element = element.get(0);\n",
       "    fig.cell_info = mpl.find_output_cell(\"<div id='\" + id + \"'></div>\");\n",
       "    if (!fig.cell_info) {\n",
       "        console.error(\"Failed to find cell for figure\", id, fig);\n",
       "        return;\n",
       "    }\n",
       "\n",
       "    var output_index = fig.cell_info[2]\n",
       "    var cell = fig.cell_info[0];\n",
       "\n",
       "};\n",
       "\n",
       "mpl.figure.prototype.handle_close = function(fig, msg) {\n",
       "    var width = fig.canvas.width/mpl.ratio\n",
       "    fig.root.unbind('remove')\n",
       "\n",
       "    // Update the output cell to use the data from the current canvas.\n",
       "    fig.push_to_output();\n",
       "    var dataURL = fig.canvas.toDataURL();\n",
       "    // Re-enable the keyboard manager in IPython - without this line, in FF,\n",
       "    // the notebook keyboard shortcuts fail.\n",
       "    IPython.keyboard_manager.enable()\n",
       "    $(fig.parent_element).html('<img src=\"' + dataURL + '\" width=\"' + width + '\">');\n",
       "    fig.close_ws(fig, msg);\n",
       "}\n",
       "\n",
       "mpl.figure.prototype.close_ws = function(fig, msg){\n",
       "    fig.send_message('closing', msg);\n",
       "    // fig.ws.close()\n",
       "}\n",
       "\n",
       "mpl.figure.prototype.push_to_output = function(remove_interactive) {\n",
       "    // Turn the data on the canvas into data in the output cell.\n",
       "    var width = this.canvas.width/mpl.ratio\n",
       "    var dataURL = this.canvas.toDataURL();\n",
       "    this.cell_info[1]['text/html'] = '<img src=\"' + dataURL + '\" width=\"' + width + '\">';\n",
       "}\n",
       "\n",
       "mpl.figure.prototype.updated_canvas_event = function() {\n",
       "    // Tell IPython that the notebook contents must change.\n",
       "    IPython.notebook.set_dirty(true);\n",
       "    this.send_message(\"ack\", {});\n",
       "    var fig = this;\n",
       "    // Wait a second, then push the new image to the DOM so\n",
       "    // that it is saved nicely (might be nice to debounce this).\n",
       "    setTimeout(function () { fig.push_to_output() }, 1000);\n",
       "}\n",
       "\n",
       "mpl.figure.prototype._init_toolbar = function() {\n",
       "    var fig = this;\n",
       "\n",
       "    var nav_element = $('<div/>')\n",
       "    nav_element.attr('style', 'width: 100%');\n",
       "    this.root.append(nav_element);\n",
       "\n",
       "    // Define a callback function for later on.\n",
       "    function toolbar_event(event) {\n",
       "        return fig.toolbar_button_onclick(event['data']);\n",
       "    }\n",
       "    function toolbar_mouse_event(event) {\n",
       "        return fig.toolbar_button_onmouseover(event['data']);\n",
       "    }\n",
       "\n",
       "    for(var toolbar_ind in mpl.toolbar_items){\n",
       "        var name = mpl.toolbar_items[toolbar_ind][0];\n",
       "        var tooltip = mpl.toolbar_items[toolbar_ind][1];\n",
       "        var image = mpl.toolbar_items[toolbar_ind][2];\n",
       "        var method_name = mpl.toolbar_items[toolbar_ind][3];\n",
       "\n",
       "        if (!name) { continue; };\n",
       "\n",
       "        var button = $('<button class=\"btn btn-default\" href=\"#\" title=\"' + name + '\"><i class=\"fa ' + image + ' fa-lg\"></i></button>');\n",
       "        button.click(method_name, toolbar_event);\n",
       "        button.mouseover(tooltip, toolbar_mouse_event);\n",
       "        nav_element.append(button);\n",
       "    }\n",
       "\n",
       "    // Add the status bar.\n",
       "    var status_bar = $('<span class=\"mpl-message\" style=\"text-align:right; float: right;\"/>');\n",
       "    nav_element.append(status_bar);\n",
       "    this.message = status_bar[0];\n",
       "\n",
       "    // Add the close button to the window.\n",
       "    var buttongrp = $('<div class=\"btn-group inline pull-right\"></div>');\n",
       "    var button = $('<button class=\"btn btn-mini btn-primary\" href=\"#\" title=\"Stop Interaction\"><i class=\"fa fa-power-off icon-remove icon-large\"></i></button>');\n",
       "    button.click(function (evt) { fig.handle_close(fig, {}); } );\n",
       "    button.mouseover('Stop Interaction', toolbar_mouse_event);\n",
       "    buttongrp.append(button);\n",
       "    var titlebar = this.root.find($('.ui-dialog-titlebar'));\n",
       "    titlebar.prepend(buttongrp);\n",
       "}\n",
       "\n",
       "mpl.figure.prototype._root_extra_style = function(el){\n",
       "    var fig = this\n",
       "    el.on(\"remove\", function(){\n",
       "\tfig.close_ws(fig, {});\n",
       "    });\n",
       "}\n",
       "\n",
       "mpl.figure.prototype._canvas_extra_style = function(el){\n",
       "    // this is important to make the div 'focusable\n",
       "    el.attr('tabindex', 0)\n",
       "    // reach out to IPython and tell the keyboard manager to turn it's self\n",
       "    // off when our div gets focus\n",
       "\n",
       "    // location in version 3\n",
       "    if (IPython.notebook.keyboard_manager) {\n",
       "        IPython.notebook.keyboard_manager.register_events(el);\n",
       "    }\n",
       "    else {\n",
       "        // location in version 2\n",
       "        IPython.keyboard_manager.register_events(el);\n",
       "    }\n",
       "\n",
       "}\n",
       "\n",
       "mpl.figure.prototype._key_event_extra = function(event, name) {\n",
       "    var manager = IPython.notebook.keyboard_manager;\n",
       "    if (!manager)\n",
       "        manager = IPython.keyboard_manager;\n",
       "\n",
       "    // Check for shift+enter\n",
       "    if (event.shiftKey && event.which == 13) {\n",
       "        this.canvas_div.blur();\n",
       "        // select the cell after this one\n",
       "        var index = IPython.notebook.find_cell_index(this.cell_info[0]);\n",
       "        IPython.notebook.select(index + 1);\n",
       "    }\n",
       "}\n",
       "\n",
       "mpl.figure.prototype.handle_save = function(fig, msg) {\n",
       "    fig.ondownload(fig, null);\n",
       "}\n",
       "\n",
       "\n",
       "mpl.find_output_cell = function(html_output) {\n",
       "    // Return the cell and output element which can be found *uniquely* in the notebook.\n",
       "    // Note - this is a bit hacky, but it is done because the \"notebook_saving.Notebook\"\n",
       "    // IPython event is triggered only after the cells have been serialised, which for\n",
       "    // our purposes (turning an active figure into a static one), is too late.\n",
       "    var cells = IPython.notebook.get_cells();\n",
       "    var ncells = cells.length;\n",
       "    for (var i=0; i<ncells; i++) {\n",
       "        var cell = cells[i];\n",
       "        if (cell.cell_type === 'code'){\n",
       "            for (var j=0; j<cell.output_area.outputs.length; j++) {\n",
       "                var data = cell.output_area.outputs[j];\n",
       "                if (data.data) {\n",
       "                    // IPython >= 3 moved mimebundle to data attribute of output\n",
       "                    data = data.data;\n",
       "                }\n",
       "                if (data['text/html'] == html_output) {\n",
       "                    return [cell, data, j];\n",
       "                }\n",
       "            }\n",
       "        }\n",
       "    }\n",
       "}\n",
       "\n",
       "// Register the function which deals with the matplotlib target/channel.\n",
       "// The kernel may be null if the page has been refreshed.\n",
       "if (IPython.notebook.kernel != null) {\n",
       "    IPython.notebook.kernel.comm_manager.register_target('matplotlib', mpl.mpl_figure_comm);\n",
       "}\n"
      ],
      "text/plain": [
       "<IPython.core.display.Javascript object>"
      ]
     },
     "metadata": {},
     "output_type": "display_data"
    },
    {
     "data": {
      "text/html": [
       "<img src=\"data:image/png;base64,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\" width=\"639.6499809369451\">"
      ],
      "text/plain": [
       "<IPython.core.display.HTML object>"
      ]
     },
     "metadata": {},
     "output_type": "display_data"
    }
   ],
   "source": [
    "y = x.plot(sample_field='DAY', feature_field='taxonomy', yticklabels_max=20, gui='jupyter')"
   ]
  },
  {
   "cell_type": "markdown",
   "metadata": {},
   "source": [
    "# Decomposition"
   ]
  },
  {
   "cell_type": "markdown",
   "metadata": {},
   "source": [
    "# Moving Pictures"
   ]
  },
  {
   "cell_type": "code",
   "execution_count": 6,
   "metadata": {
    "collapsed": false,
    "scrolled": true
   },
   "outputs": [],
   "source": [
    "mov = ca.read('data/moving_pic.biom', 'data/moving_pic.sample.txt')"
   ]
  },
  {
   "cell_type": "code",
   "execution_count": 18,
   "metadata": {
    "collapsed": false
   },
   "outputs": [
    {
     "data": {
      "text/plain": [
       "Index(['#SampleID', '#SampleID.1', 'BarcodeSequence', 'LinkerPrimerSequence',\n",
       "       'DAYS_SINCE_EPOCH', 'TARGET_SUBFRAGMENT', 'ASSIGNED_FROM_GEO',\n",
       "       'EXPERIMENT_CENTER', 'TITLE', 'COMMON_SAMPLE_SITE', 'RUN_PREFIX',\n",
       "       'HOST_COMMON_NAME', 'DEPTH', 'COMMON_NAME', 'BODY_SITE', 'ELEVATION',\n",
       "       'RUN_DATE', 'DAYS_SINCE_EXPERIMENT_START', 'COLLECTION_DATE',\n",
       "       'ALTITUDE', 'ENV_BIOME', 'SEX', 'PLATFORM', 'STUDY_CENTER', 'COUNTRY',\n",
       "       'HOST_SUBJECT_ID', 'ANONYMIZED_NAME', 'TAXON_ID', 'SAMPLE_CENTER',\n",
       "       'SAMP_SIZE', 'MISLABELED', 'LONGITUDE', 'STUDY_ID',\n",
       "       'EXPERIMENT_DESIGN_DESCRIPTION', 'Description_duplicate',\n",
       "       'BODY_HABITAT', 'SEQUENCING_METH', 'ENV_MATTER', 'TARGET_GENE',\n",
       "       'ENV_FEATURE', 'KEY_SEQ', 'BODY_PRODUCT', 'AGE_IN_YEARS', 'RUN_CENTER',\n",
       "       'LIBRARY_CONSTRUCTION_PROTOCOL', 'LATITUDE', 'REGION',\n",
       "       'HOST_INDIVIDUAL', 'Description', '_calour_original_abundance'],\n",
       "      dtype='object')"
      ]
     },
     "execution_count": 18,
     "metadata": {},
     "output_type": "execute_result"
    }
   ],
   "source": [
    "mov.sample_metadata.columns"
   ]
  },
  {
   "cell_type": "code",
   "execution_count": 19,
   "metadata": {
    "collapsed": false
   },
   "outputs": [
    {
     "data": {
      "text/plain": [
       "#SampleID\n",
       "L2S137.273277     50\n",
       "L3S167.273782    353\n",
       "L4S102.275028    137\n",
       "L6S243.274842    334\n",
       "L3S240.274358      5\n",
       "L5S35.273321     372\n",
       "L2S88.273522     412\n",
       "L3S164.273576    350\n",
       "L6S85.273934     166\n",
       "L3S337.273573    143\n",
       "L1S86.273417     129\n",
       "L2S290.274503     66\n",
       "L3S256.274419     21\n",
       "L5S190.274768    135\n",
       "L2S129.273959     42\n",
       "L6S105.274914    187\n",
       "L1S383.274632    297\n",
       "L2S133.274795     46\n",
       "L2S344.274314    133\n",
       "L2S6.273637      306\n",
       "L2S138.274982     51\n",
       "L6S163.273624    251\n",
       "L2S243.274397     10\n",
       "L5S53.273832     391\n",
       "L3S121.273310    304\n",
       "L6S135.274645    219\n",
       "L3S364.274972    179\n",
       "L4S254.275097    300\n",
       "L6S2.273217       67\n",
       "L3S162.274021    348\n",
       "                ... \n",
       "L6S150.273688    237\n",
       "L1S3.273687        2\n",
       "L3S16.274675     192\n",
       "L4S86.274094     121\n",
       "L5S142.274549     56\n",
       "L2S74.275009     386\n",
       "L5S217.273689    170\n",
       "L6S30.273685     101\n",
       "L2S13.273885     315\n",
       "L2S323.273891    105\n",
       "L6S23.274229      94\n",
       "L3S330.274669    136\n",
       "L1S64.274666     100\n",
       "L3S31.274494     208\n",
       "L3S71.274456     253\n",
       "L1S159.273766     26\n",
       "L6S240.273413    331\n",
       "L3S10.273800     186\n",
       "L5S185.274764    130\n",
       "L3S42.273878     220\n",
       "L2S362.273633    152\n",
       "L4S21.273906      41\n",
       "L3S100.274551    282\n",
       "L6S223.273360    314\n",
       "L3S312.274058    118\n",
       "L4S12.275133      24\n",
       "L1S99.273974     141\n",
       "L2S305.273862     87\n",
       "L5S116.273963     19\n",
       "L6S216.274472    305\n",
       "Name: DAYS_SINCE_EXPERIMENT_START, dtype: int64"
      ]
     },
     "execution_count": 19,
     "metadata": {},
     "output_type": "execute_result"
    }
   ],
   "source": [
    "mov.sample_metadata.DAYS_SINCE_EXPERIMENT_START"
   ]
  },
  {
   "cell_type": "code",
   "execution_count": 12,
   "metadata": {
    "code_folding": [],
    "collapsed": false
   },
   "outputs": [
    {
     "data": {
      "text/html": [
       "<div>\n",
       "<table border=\"1\" class=\"dataframe\">\n",
       "  <thead>\n",
       "    <tr style=\"text-align: right;\">\n",
       "      <th>HOST_SUBJECT_ID</th>\n",
       "      <th>F4</th>\n",
       "      <th>M3</th>\n",
       "    </tr>\n",
       "    <tr>\n",
       "      <th>BODY_SITE</th>\n",
       "      <th></th>\n",
       "      <th></th>\n",
       "    </tr>\n",
       "  </thead>\n",
       "  <tbody>\n",
       "    <tr>\n",
       "      <th>UBERON:feces</th>\n",
       "      <td>131</td>\n",
       "      <td>336</td>\n",
       "    </tr>\n",
       "    <tr>\n",
       "      <th>UBERON:saliva</th>\n",
       "      <td>135</td>\n",
       "      <td>374</td>\n",
       "    </tr>\n",
       "    <tr>\n",
       "      <th>UBERON:sebum</th>\n",
       "      <td>268</td>\n",
       "      <td>724</td>\n",
       "    </tr>\n",
       "  </tbody>\n",
       "</table>\n",
       "</div>"
      ],
      "text/plain": [
       "HOST_SUBJECT_ID   F4   M3\n",
       "BODY_SITE                \n",
       "UBERON:feces     131  336\n",
       "UBERON:saliva    135  374\n",
       "UBERON:sebum     268  724"
      ]
     },
     "execution_count": 12,
     "metadata": {},
     "output_type": "execute_result"
    }
   ],
   "source": [
    "mov.sample_metadata.pivot_table(values='#SampleID', columns=['HOST_SUBJECT_ID'], index=['BODY_SITE'], aggfunc=len, fill_value=0)"
   ]
  },
  {
   "cell_type": "code",
   "execution_count": 17,
   "metadata": {
    "collapsed": false
   },
   "outputs": [
    {
     "data": {
      "text/plain": [
       "Experiment moving_pic.biom with 1968 samples, 2011 features"
      ]
     },
     "execution_count": 17,
     "metadata": {},
     "output_type": "execute_result"
    }
   ],
   "source": [
    "mov.sort_samples('DAYS_SINCE_EXPERIMENT_START', inplace=True).sort_samples('HOST_SUBJECT_ID', inplace=True).sort_samples('BODY_SITE', inplace=True)"
   ]
  },
  {
   "cell_type": "code",
   "execution_count": 7,
   "metadata": {
    "collapsed": false
   },
   "outputs": [
    {
     "data": {
      "text/plain": [
       "Experiment moving_pic.biom with 1968 samples, 2011 features"
      ]
     },
     "execution_count": 7,
     "metadata": {},
     "output_type": "execute_result"
    }
   ],
   "source": [
    "mov.filter_by_data('sum_abundance', axis=1, inplace=True)"
   ]
  },
  {
   "cell_type": "code",
   "execution_count": 11,
   "metadata": {
    "collapsed": true
   },
   "outputs": [],
   "source": [
    "mov2 = mov.cluster_features()"
   ]
  },
  {
   "cell_type": "code",
   "execution_count": 12,
   "metadata": {
    "collapsed": false
   },
   "outputs": [
    {
     "data": {
      "text/plain": [
       "Experiment moving_pic.biom with 1968 samples, 2011 features"
      ]
     },
     "execution_count": 12,
     "metadata": {},
     "output_type": "execute_result"
    }
   ],
   "source": [
    "mov2"
   ]
  },
  {
   "cell_type": "code",
   "execution_count": 18,
   "metadata": {
    "collapsed": false
   },
   "outputs": [
    {
     "data": {
      "application/javascript": [
       "/* Put everything inside the global mpl namespace */\n",
       "window.mpl = {};\n",
       "\n",
       "\n",
       "mpl.get_websocket_type = function() {\n",
       "    if (typeof(WebSocket) !== 'undefined') {\n",
       "        return WebSocket;\n",
       "    } else if (typeof(MozWebSocket) !== 'undefined') {\n",
       "        return MozWebSocket;\n",
       "    } else {\n",
       "        alert('Your browser does not have WebSocket support.' +\n",
       "              'Please try Chrome, Safari or Firefox ≥ 6. ' +\n",
       "              'Firefox 4 and 5 are also supported but you ' +\n",
       "              'have to enable WebSockets in about:config.');\n",
       "    };\n",
       "}\n",
       "\n",
       "mpl.figure = function(figure_id, websocket, ondownload, parent_element) {\n",
       "    this.id = figure_id;\n",
       "\n",
       "    this.ws = websocket;\n",
       "\n",
       "    this.supports_binary = (this.ws.binaryType != undefined);\n",
       "\n",
       "    if (!this.supports_binary) {\n",
       "        var warnings = document.getElementById(\"mpl-warnings\");\n",
       "        if (warnings) {\n",
       "            warnings.style.display = 'block';\n",
       "            warnings.textContent = (\n",
       "                \"This browser does not support binary websocket messages. \" +\n",
       "                    \"Performance may be slow.\");\n",
       "        }\n",
       "    }\n",
       "\n",
       "    this.imageObj = new Image();\n",
       "\n",
       "    this.context = undefined;\n",
       "    this.message = undefined;\n",
       "    this.canvas = undefined;\n",
       "    this.rubberband_canvas = undefined;\n",
       "    this.rubberband_context = undefined;\n",
       "    this.format_dropdown = undefined;\n",
       "\n",
       "    this.image_mode = 'full';\n",
       "\n",
       "    this.root = $('<div/>');\n",
       "    this._root_extra_style(this.root)\n",
       "    this.root.attr('style', 'display: inline-block');\n",
       "\n",
       "    $(parent_element).append(this.root);\n",
       "\n",
       "    this._init_header(this);\n",
       "    this._init_canvas(this);\n",
       "    this._init_toolbar(this);\n",
       "\n",
       "    var fig = this;\n",
       "\n",
       "    this.waiting = false;\n",
       "\n",
       "    this.ws.onopen =  function () {\n",
       "            fig.send_message(\"supports_binary\", {value: fig.supports_binary});\n",
       "            fig.send_message(\"send_image_mode\", {});\n",
       "            if (mpl.ratio != 1) {\n",
       "                fig.send_message(\"set_dpi_ratio\", {'dpi_ratio': mpl.ratio});\n",
       "            }\n",
       "            fig.send_message(\"refresh\", {});\n",
       "        }\n",
       "\n",
       "    this.imageObj.onload = function() {\n",
       "            if (fig.image_mode == 'full') {\n",
       "                // Full images could contain transparency (where diff images\n",
       "                // almost always do), so we need to clear the canvas so that\n",
       "                // there is no ghosting.\n",
       "                fig.context.clearRect(0, 0, fig.canvas.width, fig.canvas.height);\n",
       "            }\n",
       "            fig.context.drawImage(fig.imageObj, 0, 0);\n",
       "        };\n",
       "\n",
       "    this.imageObj.onunload = function() {\n",
       "        this.ws.close();\n",
       "    }\n",
       "\n",
       "    this.ws.onmessage = this._make_on_message_function(this);\n",
       "\n",
       "    this.ondownload = ondownload;\n",
       "}\n",
       "\n",
       "mpl.figure.prototype._init_header = function() {\n",
       "    var titlebar = $(\n",
       "        '<div class=\"ui-dialog-titlebar ui-widget-header ui-corner-all ' +\n",
       "        'ui-helper-clearfix\"/>');\n",
       "    var titletext = $(\n",
       "        '<div class=\"ui-dialog-title\" style=\"width: 100%; ' +\n",
       "        'text-align: center; padding: 3px;\"/>');\n",
       "    titlebar.append(titletext)\n",
       "    this.root.append(titlebar);\n",
       "    this.header = titletext[0];\n",
       "}\n",
       "\n",
       "\n",
       "\n",
       "mpl.figure.prototype._canvas_extra_style = function(canvas_div) {\n",
       "\n",
       "}\n",
       "\n",
       "\n",
       "mpl.figure.prototype._root_extra_style = function(canvas_div) {\n",
       "\n",
       "}\n",
       "\n",
       "mpl.figure.prototype._init_canvas = function() {\n",
       "    var fig = this;\n",
       "\n",
       "    var canvas_div = $('<div/>');\n",
       "\n",
       "    canvas_div.attr('style', 'position: relative; clear: both; outline: 0');\n",
       "\n",
       "    function canvas_keyboard_event(event) {\n",
       "        return fig.key_event(event, event['data']);\n",
       "    }\n",
       "\n",
       "    canvas_div.keydown('key_press', canvas_keyboard_event);\n",
       "    canvas_div.keyup('key_release', canvas_keyboard_event);\n",
       "    this.canvas_div = canvas_div\n",
       "    this._canvas_extra_style(canvas_div)\n",
       "    this.root.append(canvas_div);\n",
       "\n",
       "    var canvas = $('<canvas/>');\n",
       "    canvas.addClass('mpl-canvas');\n",
       "    canvas.attr('style', \"left: 0; top: 0; z-index: 0; outline: 0\")\n",
       "\n",
       "    this.canvas = canvas[0];\n",
       "    this.context = canvas[0].getContext(\"2d\");\n",
       "\n",
       "    var backingStore = this.context.backingStorePixelRatio ||\n",
       "\tthis.context.webkitBackingStorePixelRatio ||\n",
       "\tthis.context.mozBackingStorePixelRatio ||\n",
       "\tthis.context.msBackingStorePixelRatio ||\n",
       "\tthis.context.oBackingStorePixelRatio ||\n",
       "\tthis.context.backingStorePixelRatio || 1;\n",
       "\n",
       "    mpl.ratio = (window.devicePixelRatio || 1) / backingStore;\n",
       "\n",
       "    var rubberband = $('<canvas/>');\n",
       "    rubberband.attr('style', \"position: absolute; left: 0; top: 0; z-index: 1;\")\n",
       "\n",
       "    var pass_mouse_events = true;\n",
       "\n",
       "    canvas_div.resizable({\n",
       "        start: function(event, ui) {\n",
       "            pass_mouse_events = false;\n",
       "        },\n",
       "        resize: function(event, ui) {\n",
       "            fig.request_resize(ui.size.width, ui.size.height);\n",
       "        },\n",
       "        stop: function(event, ui) {\n",
       "            pass_mouse_events = true;\n",
       "            fig.request_resize(ui.size.width, ui.size.height);\n",
       "        },\n",
       "    });\n",
       "\n",
       "    function mouse_event_fn(event) {\n",
       "        if (pass_mouse_events)\n",
       "            return fig.mouse_event(event, event['data']);\n",
       "    }\n",
       "\n",
       "    rubberband.mousedown('button_press', mouse_event_fn);\n",
       "    rubberband.mouseup('button_release', mouse_event_fn);\n",
       "    // Throttle sequential mouse events to 1 every 20ms.\n",
       "    rubberband.mousemove('motion_notify', mouse_event_fn);\n",
       "\n",
       "    rubberband.mouseenter('figure_enter', mouse_event_fn);\n",
       "    rubberband.mouseleave('figure_leave', mouse_event_fn);\n",
       "\n",
       "    canvas_div.on(\"wheel\", function (event) {\n",
       "        event = event.originalEvent;\n",
       "        event['data'] = 'scroll'\n",
       "        if (event.deltaY < 0) {\n",
       "            event.step = 1;\n",
       "        } else {\n",
       "            event.step = -1;\n",
       "        }\n",
       "        mouse_event_fn(event);\n",
       "    });\n",
       "\n",
       "    canvas_div.append(canvas);\n",
       "    canvas_div.append(rubberband);\n",
       "\n",
       "    this.rubberband = rubberband;\n",
       "    this.rubberband_canvas = rubberband[0];\n",
       "    this.rubberband_context = rubberband[0].getContext(\"2d\");\n",
       "    this.rubberband_context.strokeStyle = \"#000000\";\n",
       "\n",
       "    this._resize_canvas = function(width, height) {\n",
       "        // Keep the size of the canvas, canvas container, and rubber band\n",
       "        // canvas in synch.\n",
       "        canvas_div.css('width', width)\n",
       "        canvas_div.css('height', height)\n",
       "\n",
       "        canvas.attr('width', width * mpl.ratio);\n",
       "        canvas.attr('height', height * mpl.ratio);\n",
       "        canvas.attr('style', 'width: ' + width + 'px; height: ' + height + 'px;');\n",
       "\n",
       "        rubberband.attr('width', width);\n",
       "        rubberband.attr('height', height);\n",
       "    }\n",
       "\n",
       "    // Set the figure to an initial 600x600px, this will subsequently be updated\n",
       "    // upon first draw.\n",
       "    this._resize_canvas(600, 600);\n",
       "\n",
       "    // Disable right mouse context menu.\n",
       "    $(this.rubberband_canvas).bind(\"contextmenu\",function(e){\n",
       "        return false;\n",
       "    });\n",
       "\n",
       "    function set_focus () {\n",
       "        canvas.focus();\n",
       "        canvas_div.focus();\n",
       "    }\n",
       "\n",
       "    window.setTimeout(set_focus, 100);\n",
       "}\n",
       "\n",
       "mpl.figure.prototype._init_toolbar = function() {\n",
       "    var fig = this;\n",
       "\n",
       "    var nav_element = $('<div/>')\n",
       "    nav_element.attr('style', 'width: 100%');\n",
       "    this.root.append(nav_element);\n",
       "\n",
       "    // Define a callback function for later on.\n",
       "    function toolbar_event(event) {\n",
       "        return fig.toolbar_button_onclick(event['data']);\n",
       "    }\n",
       "    function toolbar_mouse_event(event) {\n",
       "        return fig.toolbar_button_onmouseover(event['data']);\n",
       "    }\n",
       "\n",
       "    for(var toolbar_ind in mpl.toolbar_items) {\n",
       "        var name = mpl.toolbar_items[toolbar_ind][0];\n",
       "        var tooltip = mpl.toolbar_items[toolbar_ind][1];\n",
       "        var image = mpl.toolbar_items[toolbar_ind][2];\n",
       "        var method_name = mpl.toolbar_items[toolbar_ind][3];\n",
       "\n",
       "        if (!name) {\n",
       "            // put a spacer in here.\n",
       "            continue;\n",
       "        }\n",
       "        var button = $('<button/>');\n",
       "        button.addClass('ui-button ui-widget ui-state-default ui-corner-all ' +\n",
       "                        'ui-button-icon-only');\n",
       "        button.attr('role', 'button');\n",
       "        button.attr('aria-disabled', 'false');\n",
       "        button.click(method_name, toolbar_event);\n",
       "        button.mouseover(tooltip, toolbar_mouse_event);\n",
       "\n",
       "        var icon_img = $('<span/>');\n",
       "        icon_img.addClass('ui-button-icon-primary ui-icon');\n",
       "        icon_img.addClass(image);\n",
       "        icon_img.addClass('ui-corner-all');\n",
       "\n",
       "        var tooltip_span = $('<span/>');\n",
       "        tooltip_span.addClass('ui-button-text');\n",
       "        tooltip_span.html(tooltip);\n",
       "\n",
       "        button.append(icon_img);\n",
       "        button.append(tooltip_span);\n",
       "\n",
       "        nav_element.append(button);\n",
       "    }\n",
       "\n",
       "    var fmt_picker_span = $('<span/>');\n",
       "\n",
       "    var fmt_picker = $('<select/>');\n",
       "    fmt_picker.addClass('mpl-toolbar-option ui-widget ui-widget-content');\n",
       "    fmt_picker_span.append(fmt_picker);\n",
       "    nav_element.append(fmt_picker_span);\n",
       "    this.format_dropdown = fmt_picker[0];\n",
       "\n",
       "    for (var ind in mpl.extensions) {\n",
       "        var fmt = mpl.extensions[ind];\n",
       "        var option = $(\n",
       "            '<option/>', {selected: fmt === mpl.default_extension}).html(fmt);\n",
       "        fmt_picker.append(option)\n",
       "    }\n",
       "\n",
       "    // Add hover states to the ui-buttons\n",
       "    $( \".ui-button\" ).hover(\n",
       "        function() { $(this).addClass(\"ui-state-hover\");},\n",
       "        function() { $(this).removeClass(\"ui-state-hover\");}\n",
       "    );\n",
       "\n",
       "    var status_bar = $('<span class=\"mpl-message\"/>');\n",
       "    nav_element.append(status_bar);\n",
       "    this.message = status_bar[0];\n",
       "}\n",
       "\n",
       "mpl.figure.prototype.request_resize = function(x_pixels, y_pixels) {\n",
       "    // Request matplotlib to resize the figure. Matplotlib will then trigger a resize in the client,\n",
       "    // which will in turn request a refresh of the image.\n",
       "    this.send_message('resize', {'width': x_pixels, 'height': y_pixels});\n",
       "}\n",
       "\n",
       "mpl.figure.prototype.send_message = function(type, properties) {\n",
       "    properties['type'] = type;\n",
       "    properties['figure_id'] = this.id;\n",
       "    this.ws.send(JSON.stringify(properties));\n",
       "}\n",
       "\n",
       "mpl.figure.prototype.send_draw_message = function() {\n",
       "    if (!this.waiting) {\n",
       "        this.waiting = true;\n",
       "        this.ws.send(JSON.stringify({type: \"draw\", figure_id: this.id}));\n",
       "    }\n",
       "}\n",
       "\n",
       "\n",
       "mpl.figure.prototype.handle_save = function(fig, msg) {\n",
       "    var format_dropdown = fig.format_dropdown;\n",
       "    var format = format_dropdown.options[format_dropdown.selectedIndex].value;\n",
       "    fig.ondownload(fig, format);\n",
       "}\n",
       "\n",
       "\n",
       "mpl.figure.prototype.handle_resize = function(fig, msg) {\n",
       "    var size = msg['size'];\n",
       "    if (size[0] != fig.canvas.width || size[1] != fig.canvas.height) {\n",
       "        fig._resize_canvas(size[0], size[1]);\n",
       "        fig.send_message(\"refresh\", {});\n",
       "    };\n",
       "}\n",
       "\n",
       "mpl.figure.prototype.handle_rubberband = function(fig, msg) {\n",
       "    var x0 = msg['x0'] / mpl.ratio;\n",
       "    var y0 = (fig.canvas.height - msg['y0']) / mpl.ratio;\n",
       "    var x1 = msg['x1'] / mpl.ratio;\n",
       "    var y1 = (fig.canvas.height - msg['y1']) / mpl.ratio;\n",
       "    x0 = Math.floor(x0) + 0.5;\n",
       "    y0 = Math.floor(y0) + 0.5;\n",
       "    x1 = Math.floor(x1) + 0.5;\n",
       "    y1 = Math.floor(y1) + 0.5;\n",
       "    var min_x = Math.min(x0, x1);\n",
       "    var min_y = Math.min(y0, y1);\n",
       "    var width = Math.abs(x1 - x0);\n",
       "    var height = Math.abs(y1 - y0);\n",
       "\n",
       "    fig.rubberband_context.clearRect(\n",
       "        0, 0, fig.canvas.width, fig.canvas.height);\n",
       "\n",
       "    fig.rubberband_context.strokeRect(min_x, min_y, width, height);\n",
       "}\n",
       "\n",
       "mpl.figure.prototype.handle_figure_label = function(fig, msg) {\n",
       "    // Updates the figure title.\n",
       "    fig.header.textContent = msg['label'];\n",
       "}\n",
       "\n",
       "mpl.figure.prototype.handle_cursor = function(fig, msg) {\n",
       "    var cursor = msg['cursor'];\n",
       "    switch(cursor)\n",
       "    {\n",
       "    case 0:\n",
       "        cursor = 'pointer';\n",
       "        break;\n",
       "    case 1:\n",
       "        cursor = 'default';\n",
       "        break;\n",
       "    case 2:\n",
       "        cursor = 'crosshair';\n",
       "        break;\n",
       "    case 3:\n",
       "        cursor = 'move';\n",
       "        break;\n",
       "    }\n",
       "    fig.rubberband_canvas.style.cursor = cursor;\n",
       "}\n",
       "\n",
       "mpl.figure.prototype.handle_message = function(fig, msg) {\n",
       "    fig.message.textContent = msg['message'];\n",
       "}\n",
       "\n",
       "mpl.figure.prototype.handle_draw = function(fig, msg) {\n",
       "    // Request the server to send over a new figure.\n",
       "    fig.send_draw_message();\n",
       "}\n",
       "\n",
       "mpl.figure.prototype.handle_image_mode = function(fig, msg) {\n",
       "    fig.image_mode = msg['mode'];\n",
       "}\n",
       "\n",
       "mpl.figure.prototype.updated_canvas_event = function() {\n",
       "    // Called whenever the canvas gets updated.\n",
       "    this.send_message(\"ack\", {});\n",
       "}\n",
       "\n",
       "// A function to construct a web socket function for onmessage handling.\n",
       "// Called in the figure constructor.\n",
       "mpl.figure.prototype._make_on_message_function = function(fig) {\n",
       "    return function socket_on_message(evt) {\n",
       "        if (evt.data instanceof Blob) {\n",
       "            /* FIXME: We get \"Resource interpreted as Image but\n",
       "             * transferred with MIME type text/plain:\" errors on\n",
       "             * Chrome.  But how to set the MIME type?  It doesn't seem\n",
       "             * to be part of the websocket stream */\n",
       "            evt.data.type = \"image/png\";\n",
       "\n",
       "            /* Free the memory for the previous frames */\n",
       "            if (fig.imageObj.src) {\n",
       "                (window.URL || window.webkitURL).revokeObjectURL(\n",
       "                    fig.imageObj.src);\n",
       "            }\n",
       "\n",
       "            fig.imageObj.src = (window.URL || window.webkitURL).createObjectURL(\n",
       "                evt.data);\n",
       "            fig.updated_canvas_event();\n",
       "            fig.waiting = false;\n",
       "            return;\n",
       "        }\n",
       "        else if (typeof evt.data === 'string' && evt.data.slice(0, 21) == \"data:image/png;base64\") {\n",
       "            fig.imageObj.src = evt.data;\n",
       "            fig.updated_canvas_event();\n",
       "            fig.waiting = false;\n",
       "            return;\n",
       "        }\n",
       "\n",
       "        var msg = JSON.parse(evt.data);\n",
       "        var msg_type = msg['type'];\n",
       "\n",
       "        // Call the  \"handle_{type}\" callback, which takes\n",
       "        // the figure and JSON message as its only arguments.\n",
       "        try {\n",
       "            var callback = fig[\"handle_\" + msg_type];\n",
       "        } catch (e) {\n",
       "            console.log(\"No handler for the '\" + msg_type + \"' message type: \", msg);\n",
       "            return;\n",
       "        }\n",
       "\n",
       "        if (callback) {\n",
       "            try {\n",
       "                // console.log(\"Handling '\" + msg_type + \"' message: \", msg);\n",
       "                callback(fig, msg);\n",
       "            } catch (e) {\n",
       "                console.log(\"Exception inside the 'handler_\" + msg_type + \"' callback:\", e, e.stack, msg);\n",
       "            }\n",
       "        }\n",
       "    };\n",
       "}\n",
       "\n",
       "// from http://stackoverflow.com/questions/1114465/getting-mouse-location-in-canvas\n",
       "mpl.findpos = function(e) {\n",
       "    //this section is from http://www.quirksmode.org/js/events_properties.html\n",
       "    var targ;\n",
       "    if (!e)\n",
       "        e = window.event;\n",
       "    if (e.target)\n",
       "        targ = e.target;\n",
       "    else if (e.srcElement)\n",
       "        targ = e.srcElement;\n",
       "    if (targ.nodeType == 3) // defeat Safari bug\n",
       "        targ = targ.parentNode;\n",
       "\n",
       "    // jQuery normalizes the pageX and pageY\n",
       "    // pageX,Y are the mouse positions relative to the document\n",
       "    // offset() returns the position of the element relative to the document\n",
       "    var x = e.pageX - $(targ).offset().left;\n",
       "    var y = e.pageY - $(targ).offset().top;\n",
       "\n",
       "    return {\"x\": x, \"y\": y};\n",
       "};\n",
       "\n",
       "/*\n",
       " * return a copy of an object with only non-object keys\n",
       " * we need this to avoid circular references\n",
       " * http://stackoverflow.com/a/24161582/3208463\n",
       " */\n",
       "function simpleKeys (original) {\n",
       "  return Object.keys(original).reduce(function (obj, key) {\n",
       "    if (typeof original[key] !== 'object')\n",
       "        obj[key] = original[key]\n",
       "    return obj;\n",
       "  }, {});\n",
       "}\n",
       "\n",
       "mpl.figure.prototype.mouse_event = function(event, name) {\n",
       "    var canvas_pos = mpl.findpos(event)\n",
       "\n",
       "    if (name === 'button_press')\n",
       "    {\n",
       "        this.canvas.focus();\n",
       "        this.canvas_div.focus();\n",
       "    }\n",
       "\n",
       "    var x = canvas_pos.x * mpl.ratio;\n",
       "    var y = canvas_pos.y * mpl.ratio;\n",
       "\n",
       "    this.send_message(name, {x: x, y: y, button: event.button,\n",
       "                             step: event.step,\n",
       "                             guiEvent: simpleKeys(event)});\n",
       "\n",
       "    /* This prevents the web browser from automatically changing to\n",
       "     * the text insertion cursor when the button is pressed.  We want\n",
       "     * to control all of the cursor setting manually through the\n",
       "     * 'cursor' event from matplotlib */\n",
       "    event.preventDefault();\n",
       "    return false;\n",
       "}\n",
       "\n",
       "mpl.figure.prototype._key_event_extra = function(event, name) {\n",
       "    // Handle any extra behaviour associated with a key event\n",
       "}\n",
       "\n",
       "mpl.figure.prototype.key_event = function(event, name) {\n",
       "\n",
       "    // Prevent repeat events\n",
       "    if (name == 'key_press')\n",
       "    {\n",
       "        if (event.which === this._key)\n",
       "            return;\n",
       "        else\n",
       "            this._key = event.which;\n",
       "    }\n",
       "    if (name == 'key_release')\n",
       "        this._key = null;\n",
       "\n",
       "    var value = '';\n",
       "    if (event.ctrlKey && event.which != 17)\n",
       "        value += \"ctrl+\";\n",
       "    if (event.altKey && event.which != 18)\n",
       "        value += \"alt+\";\n",
       "    if (event.shiftKey && event.which != 16)\n",
       "        value += \"shift+\";\n",
       "\n",
       "    value += 'k';\n",
       "    value += event.which.toString();\n",
       "\n",
       "    this._key_event_extra(event, name);\n",
       "\n",
       "    this.send_message(name, {key: value,\n",
       "                             guiEvent: simpleKeys(event)});\n",
       "    return false;\n",
       "}\n",
       "\n",
       "mpl.figure.prototype.toolbar_button_onclick = function(name) {\n",
       "    if (name == 'download') {\n",
       "        this.handle_save(this, null);\n",
       "    } else {\n",
       "        this.send_message(\"toolbar_button\", {name: name});\n",
       "    }\n",
       "};\n",
       "\n",
       "mpl.figure.prototype.toolbar_button_onmouseover = function(tooltip) {\n",
       "    this.message.textContent = tooltip;\n",
       "};\n",
       "mpl.toolbar_items = [[\"Home\", \"Reset original view\", \"fa fa-home icon-home\", \"home\"], [\"Back\", \"Back to  previous view\", \"fa fa-arrow-left icon-arrow-left\", \"back\"], [\"Forward\", \"Forward to next view\", \"fa fa-arrow-right icon-arrow-right\", \"forward\"], [\"\", \"\", \"\", \"\"], [\"Pan\", \"Pan axes with left mouse, zoom with right\", \"fa fa-arrows icon-move\", \"pan\"], [\"Zoom\", \"Zoom to rectangle\", \"fa fa-square-o icon-check-empty\", \"zoom\"], [\"\", \"\", \"\", \"\"], [\"Download\", \"Download plot\", \"fa fa-floppy-o icon-save\", \"download\"]];\n",
       "\n",
       "mpl.extensions = [\"eps\", \"pdf\", \"png\", \"ps\", \"raw\", \"svg\"];\n",
       "\n",
       "mpl.default_extension = \"png\";var comm_websocket_adapter = function(comm) {\n",
       "    // Create a \"websocket\"-like object which calls the given IPython comm\n",
       "    // object with the appropriate methods. Currently this is a non binary\n",
       "    // socket, so there is still some room for performance tuning.\n",
       "    var ws = {};\n",
       "\n",
       "    ws.close = function() {\n",
       "        comm.close()\n",
       "    };\n",
       "    ws.send = function(m) {\n",
       "        //console.log('sending', m);\n",
       "        comm.send(m);\n",
       "    };\n",
       "    // Register the callback with on_msg.\n",
       "    comm.on_msg(function(msg) {\n",
       "        //console.log('receiving', msg['content']['data'], msg);\n",
       "        // Pass the mpl event to the overriden (by mpl) onmessage function.\n",
       "        ws.onmessage(msg['content']['data'])\n",
       "    });\n",
       "    return ws;\n",
       "}\n",
       "\n",
       "mpl.mpl_figure_comm = function(comm, msg) {\n",
       "    // This is the function which gets called when the mpl process\n",
       "    // starts-up an IPython Comm through the \"matplotlib\" channel.\n",
       "\n",
       "    var id = msg.content.data.id;\n",
       "    // Get hold of the div created by the display call when the Comm\n",
       "    // socket was opened in Python.\n",
       "    var element = $(\"#\" + id);\n",
       "    var ws_proxy = comm_websocket_adapter(comm)\n",
       "\n",
       "    function ondownload(figure, format) {\n",
       "        window.open(figure.imageObj.src);\n",
       "    }\n",
       "\n",
       "    var fig = new mpl.figure(id, ws_proxy,\n",
       "                           ondownload,\n",
       "                           element.get(0));\n",
       "\n",
       "    // Call onopen now - mpl needs it, as it is assuming we've passed it a real\n",
       "    // web socket which is closed, not our websocket->open comm proxy.\n",
       "    ws_proxy.onopen();\n",
       "\n",
       "    fig.parent_element = element.get(0);\n",
       "    fig.cell_info = mpl.find_output_cell(\"<div id='\" + id + \"'></div>\");\n",
       "    if (!fig.cell_info) {\n",
       "        console.error(\"Failed to find cell for figure\", id, fig);\n",
       "        return;\n",
       "    }\n",
       "\n",
       "    var output_index = fig.cell_info[2]\n",
       "    var cell = fig.cell_info[0];\n",
       "\n",
       "};\n",
       "\n",
       "mpl.figure.prototype.handle_close = function(fig, msg) {\n",
       "    var width = fig.canvas.width/mpl.ratio\n",
       "    fig.root.unbind('remove')\n",
       "\n",
       "    // Update the output cell to use the data from the current canvas.\n",
       "    fig.push_to_output();\n",
       "    var dataURL = fig.canvas.toDataURL();\n",
       "    // Re-enable the keyboard manager in IPython - without this line, in FF,\n",
       "    // the notebook keyboard shortcuts fail.\n",
       "    IPython.keyboard_manager.enable()\n",
       "    $(fig.parent_element).html('<img src=\"' + dataURL + '\" width=\"' + width + '\">');\n",
       "    fig.close_ws(fig, msg);\n",
       "}\n",
       "\n",
       "mpl.figure.prototype.close_ws = function(fig, msg){\n",
       "    fig.send_message('closing', msg);\n",
       "    // fig.ws.close()\n",
       "}\n",
       "\n",
       "mpl.figure.prototype.push_to_output = function(remove_interactive) {\n",
       "    // Turn the data on the canvas into data in the output cell.\n",
       "    var width = this.canvas.width/mpl.ratio\n",
       "    var dataURL = this.canvas.toDataURL();\n",
       "    this.cell_info[1]['text/html'] = '<img src=\"' + dataURL + '\" width=\"' + width + '\">';\n",
       "}\n",
       "\n",
       "mpl.figure.prototype.updated_canvas_event = function() {\n",
       "    // Tell IPython that the notebook contents must change.\n",
       "    IPython.notebook.set_dirty(true);\n",
       "    this.send_message(\"ack\", {});\n",
       "    var fig = this;\n",
       "    // Wait a second, then push the new image to the DOM so\n",
       "    // that it is saved nicely (might be nice to debounce this).\n",
       "    setTimeout(function () { fig.push_to_output() }, 1000);\n",
       "}\n",
       "\n",
       "mpl.figure.prototype._init_toolbar = function() {\n",
       "    var fig = this;\n",
       "\n",
       "    var nav_element = $('<div/>')\n",
       "    nav_element.attr('style', 'width: 100%');\n",
       "    this.root.append(nav_element);\n",
       "\n",
       "    // Define a callback function for later on.\n",
       "    function toolbar_event(event) {\n",
       "        return fig.toolbar_button_onclick(event['data']);\n",
       "    }\n",
       "    function toolbar_mouse_event(event) {\n",
       "        return fig.toolbar_button_onmouseover(event['data']);\n",
       "    }\n",
       "\n",
       "    for(var toolbar_ind in mpl.toolbar_items){\n",
       "        var name = mpl.toolbar_items[toolbar_ind][0];\n",
       "        var tooltip = mpl.toolbar_items[toolbar_ind][1];\n",
       "        var image = mpl.toolbar_items[toolbar_ind][2];\n",
       "        var method_name = mpl.toolbar_items[toolbar_ind][3];\n",
       "\n",
       "        if (!name) { continue; };\n",
       "\n",
       "        var button = $('<button class=\"btn btn-default\" href=\"#\" title=\"' + name + '\"><i class=\"fa ' + image + ' fa-lg\"></i></button>');\n",
       "        button.click(method_name, toolbar_event);\n",
       "        button.mouseover(tooltip, toolbar_mouse_event);\n",
       "        nav_element.append(button);\n",
       "    }\n",
       "\n",
       "    // Add the status bar.\n",
       "    var status_bar = $('<span class=\"mpl-message\" style=\"text-align:right; float: right;\"/>');\n",
       "    nav_element.append(status_bar);\n",
       "    this.message = status_bar[0];\n",
       "\n",
       "    // Add the close button to the window.\n",
       "    var buttongrp = $('<div class=\"btn-group inline pull-right\"></div>');\n",
       "    var button = $('<button class=\"btn btn-mini btn-primary\" href=\"#\" title=\"Stop Interaction\"><i class=\"fa fa-power-off icon-remove icon-large\"></i></button>');\n",
       "    button.click(function (evt) { fig.handle_close(fig, {}); } );\n",
       "    button.mouseover('Stop Interaction', toolbar_mouse_event);\n",
       "    buttongrp.append(button);\n",
       "    var titlebar = this.root.find($('.ui-dialog-titlebar'));\n",
       "    titlebar.prepend(buttongrp);\n",
       "}\n",
       "\n",
       "mpl.figure.prototype._root_extra_style = function(el){\n",
       "    var fig = this\n",
       "    el.on(\"remove\", function(){\n",
       "\tfig.close_ws(fig, {});\n",
       "    });\n",
       "}\n",
       "\n",
       "mpl.figure.prototype._canvas_extra_style = function(el){\n",
       "    // this is important to make the div 'focusable\n",
       "    el.attr('tabindex', 0)\n",
       "    // reach out to IPython and tell the keyboard manager to turn it's self\n",
       "    // off when our div gets focus\n",
       "\n",
       "    // location in version 3\n",
       "    if (IPython.notebook.keyboard_manager) {\n",
       "        IPython.notebook.keyboard_manager.register_events(el);\n",
       "    }\n",
       "    else {\n",
       "        // location in version 2\n",
       "        IPython.keyboard_manager.register_events(el);\n",
       "    }\n",
       "\n",
       "}\n",
       "\n",
       "mpl.figure.prototype._key_event_extra = function(event, name) {\n",
       "    var manager = IPython.notebook.keyboard_manager;\n",
       "    if (!manager)\n",
       "        manager = IPython.keyboard_manager;\n",
       "\n",
       "    // Check for shift+enter\n",
       "    if (event.shiftKey && event.which == 13) {\n",
       "        this.canvas_div.blur();\n",
       "        // select the cell after this one\n",
       "        var index = IPython.notebook.find_cell_index(this.cell_info[0]);\n",
       "        IPython.notebook.select(index + 1);\n",
       "    }\n",
       "}\n",
       "\n",
       "mpl.figure.prototype.handle_save = function(fig, msg) {\n",
       "    fig.ondownload(fig, null);\n",
       "}\n",
       "\n",
       "\n",
       "mpl.find_output_cell = function(html_output) {\n",
       "    // Return the cell and output element which can be found *uniquely* in the notebook.\n",
       "    // Note - this is a bit hacky, but it is done because the \"notebook_saving.Notebook\"\n",
       "    // IPython event is triggered only after the cells have been serialised, which for\n",
       "    // our purposes (turning an active figure into a static one), is too late.\n",
       "    var cells = IPython.notebook.get_cells();\n",
       "    var ncells = cells.length;\n",
       "    for (var i=0; i<ncells; i++) {\n",
       "        var cell = cells[i];\n",
       "        if (cell.cell_type === 'code'){\n",
       "            for (var j=0; j<cell.output_area.outputs.length; j++) {\n",
       "                var data = cell.output_area.outputs[j];\n",
       "                if (data.data) {\n",
       "                    // IPython >= 3 moved mimebundle to data attribute of output\n",
       "                    data = data.data;\n",
       "                }\n",
       "                if (data['text/html'] == html_output) {\n",
       "                    return [cell, data, j];\n",
       "                }\n",
       "            }\n",
       "        }\n",
       "    }\n",
       "}\n",
       "\n",
       "// Register the function which deals with the matplotlib target/channel.\n",
       "// The kernel may be null if the page has been refreshed.\n",
       "if (IPython.notebook.kernel != null) {\n",
       "    IPython.notebook.kernel.comm_manager.register_target('matplotlib', mpl.mpl_figure_comm);\n",
       "}\n"
      ],
      "text/plain": [
       "<IPython.core.display.Javascript object>"
      ]
     },
     "metadata": {},
     "output_type": "display_data"
    },
    {
     "data": {
      "text/html": [
       "<img src=\"data:image/png;base64,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\" width=\"639.6499809369451\">"
      ],
      "text/plain": [
       "<IPython.core.display.HTML object>"
      ]
     },
     "metadata": {},
     "output_type": "display_data"
    }
   ],
   "source": [
    "mov.plot(gui='jupyter', sample_field='HOST_SUBJECT_ID', clim=(0, 10))"
   ]
  }
 ],
 "metadata": {
  "anaconda-cloud": {},
  "kernelspec": {
   "display_name": "Python 3",
   "language": "python",
   "name": "python3"
  },
  "language_info": {
   "codemirror_mode": {
    "name": "ipython",
    "version": 3
   },
   "file_extension": ".py",
   "mimetype": "text/x-python",
   "name": "python",
   "nbconvert_exporter": "python",
   "pygments_lexer": "ipython3",
   "version": "3.5.2"
  },
  "notify_time": "30",
  "toc": {
   "colors": {
    "hover_highlight": "#DAA520",
    "running_highlight": "#FF0000",
    "selected_highlight": "#FFD700"
   },
   "moveMenuLeft": true,
   "nav_menu": {
    "height": "48px",
    "width": "251px"
   },
   "navigate_menu": true,
   "number_sections": true,
   "sideBar": true,
   "threshold": 4,
   "toc_cell": false,
   "toc_section_display": "block",
   "toc_window_display": true,
   "widenNotebook": false
  },
  "widgets": {
   "state": {
    "00b9de9dcf6246d8a65ec167cb1f5952": {
     "views": [
      {
       "cell_index": 2
      }
     ]
    },
    "00f37f3911c74c578de131aeb638dc01": {
     "views": [
      {
       "cell_index": 2
      }
     ]
    },
    "023ce9fa7ea743d0820132d571a6d1d6": {
     "views": [
      {
       "cell_index": 2
      }
     ]
    },
    "031424074aa047c0b57c2d087420d038": {
     "views": [
      {
       "cell_index": 2
      }
     ]
    },
    "04c244d552774bed9529864958ebe87f": {
     "views": [
      {
       "cell_index": 2
      }
     ]
    },
    "04e8b68456cf48b7ae803950e86f38e3": {
     "views": [
      {
       "cell_index": 2
      }
     ]
    },
    "05c7ace31f37459a8a5eef3680de3b85": {
     "views": [
      {
       "cell_index": 20
      }
     ]
    },
    "0639d01b57b248a0afde410cd5b72868": {
     "views": [
      {
       "cell_index": 2
      }
     ]
    },
    "07c3d8567b294c77907883317f429b17": {
     "views": [
      {
       "cell_index": 2
      }
     ]
    },
    "0c606a7003284eeeba06aa1ad5cb5943": {
     "views": [
      {
       "cell_index": 20
      }
     ]
    },
    "0d355e95de3241cd9046d6c230a40d65": {
     "views": [
      {
       "cell_index": 2
      }
     ]
    },
    "0f54f122c3fa417a92d798ef188dbcc6": {
     "views": [
      {
       "cell_index": 2
      }
     ]
    },
    "11664d74579248ddab607a8e0dfb15cf": {
     "views": [
      {
       "cell_index": 4
      }
     ]
    },
    "1368390b532b43368a430a0f6ea1f4e4": {
     "views": [
      {
       "cell_index": 2
      }
     ]
    },
    "1753ee2106a74db896624d6f551cfc08": {
     "views": [
      {
       "cell_index": 22
      }
     ]
    },
    "18580bbc678a435f96835728a91779e3": {
     "views": [
      {
       "cell_index": 2
      }
     ]
    },
    "18c678e9eecd49809de3e4cf49e63eca": {
     "views": [
      {
       "cell_index": 22
      }
     ]
    },
    "1d8330fd8cc34c4f9c9b7cf291975377": {
     "views": [
      {
       "cell_index": 2
      }
     ]
    },
    "1ff44431525548a1ba7be34838b56993": {
     "views": [
      {
       "cell_index": 2
      }
     ]
    },
    "2310cd768f9d4b6dabce2363668cdfcb": {
     "views": [
      {
       "cell_index": 2
      }
     ]
    },
    "24d8b187ba2e475fa6c642e7a12ca8dc": {
     "views": [
      {
       "cell_index": 2
      }
     ]
    },
    "28fe23b36d854126906364f73a848989": {
     "views": [
      {
       "cell_index": 4
      }
     ]
    },
    "2b8fb3e7ea6c45aeb5bdc1bb7b8130b3": {
     "views": [
      {
       "cell_index": 2
      }
     ]
    },
    "2c9831e69be840f19485e25099d80d1e": {
     "views": [
      {
       "cell_index": 2
      }
     ]
    },
    "2e8e870f84e14a85b1e91b84a6fc7177": {
     "views": [
      {
       "cell_index": 2
      }
     ]
    },
    "2ee9268cc2a848598236726cbe0a3402": {
     "views": [
      {
       "cell_index": 2
      }
     ]
    },
    "2ffa5e7522144f51aaa864a990508cd8": {
     "views": [
      {
       "cell_index": 22
      }
     ]
    },
    "307a46ec5016455cb389cae064c342ee": {
     "views": [
      {
       "cell_index": 2
      }
     ]
    },
    "32243dca2dcf49c59e3e6ded150d888a": {
     "views": [
      {
       "cell_index": 2
      }
     ]
    },
    "34c866eff8884272aa2932a221576e1b": {
     "views": [
      {
       "cell_index": 2
      }
     ]
    },
    "35ee0c44089347df895bf3f7e3a48a14": {
     "views": [
      {
       "cell_index": 22
      }
     ]
    },
    "361bb7b2a7924c14aff6e7063eff44b8": {
     "views": [
      {
       "cell_index": 2
      }
     ]
    },
    "377378491f19457e9942d2cf51d0afdc": {
     "views": [
      {
       "cell_index": 2
      }
     ]
    },
    "3a6676dba7784d5b93f16872e4846074": {
     "views": [
      {
       "cell_index": 2
      }
     ]
    },
    "3cbfc5cfe3ad4333aee422e3fa58f67d": {
     "views": [
      {
       "cell_index": 10
      }
     ]
    },
    "3f0e1758cbe143598c1f505903b9692c": {
     "views": [
      {
       "cell_index": 2
      }
     ]
    },
    "3fdcc1c331f04fd5913ca46cc28f4e3c": {
     "views": [
      {
       "cell_index": 2
      }
     ]
    },
    "45c5f9ad98ac403bb133504d8ce02ebc": {
     "views": [
      {
       "cell_index": 2
      }
     ]
    },
    "494d76d9d7cb42f08978a83b5e895805": {
     "views": [
      {
       "cell_index": 2
      }
     ]
    },
    "496c200375ed416db8d3555c3b94c91b": {
     "views": [
      {
       "cell_index": 2
      }
     ]
    },
    "4c0ecc3aef8d48c9b2a964818e2e068a": {
     "views": [
      {
       "cell_index": 2
      }
     ]
    },
    "4c4cfd356c0a41b8ae1ff812dae8dddd": {
     "views": [
      {
       "cell_index": 16
      }
     ]
    },
    "4d7ea34ededd44e4829779a44fc1969d": {
     "views": [
      {
       "cell_index": 4
      }
     ]
    },
    "4e10dbe3e4e847a597999b6e0e85b8d0": {
     "views": [
      {
       "cell_index": 2
      }
     ]
    },
    "4f029cd950564daf8b1b107a30e4dbc1": {
     "views": [
      {
       "cell_index": 2
      }
     ]
    },
    "5ecfc8dc1738437ea6980a5658e7adc5": {
     "views": [
      {
       "cell_index": 2
      }
     ]
    },
    "5f175e018c524068b7af25911ac579da": {
     "views": [
      {
       "cell_index": 2
      }
     ]
    },
    "647b76f14d8e462b8da06106c5f511d5": {
     "views": [
      {
       "cell_index": 2
      }
     ]
    },
    "64e3e5cdfe414dfca934a4d2314d6560": {
     "views": [
      {
       "cell_index": 2
      }
     ]
    },
    "665ed4a93f6646d2aaf98e76d46b96b4": {
     "views": [
      {
       "cell_index": 22
      }
     ]
    },
    "67a590afb93141aabec0ed4a79cf819a": {
     "views": [
      {
       "cell_index": 2
      }
     ]
    },
    "68456a53fc694c7e90ee33161b3c61da": {
     "views": [
      {
       "cell_index": 19
      }
     ]
    },
    "70ede05db6254fd2a902aeddb15633e5": {
     "views": [
      {
       "cell_index": 22
      }
     ]
    },
    "736d860ec01f4651930035e2a6ea3a5e": {
     "views": [
      {
       "cell_index": 2
      }
     ]
    },
    "759e04880d0142ab94fd26c93e261c5f": {
     "views": [
      {
       "cell_index": 2
      }
     ]
    },
    "75aac51d473644ea85e3700f65df2fba": {
     "views": [
      {
       "cell_index": 2
      }
     ]
    },
    "76ebc05b9c214fe9a8b95b470a8ba7d1": {
     "views": [
      {
       "cell_index": 19
      }
     ]
    },
    "7bfc3e3124b245a0acb1d19aca4b537d": {
     "views": [
      {
       "cell_index": 14
      }
     ]
    },
    "7e8b66c1236947feba2f497a9f4bdf0f": {
     "views": [
      {
       "cell_index": 2
      }
     ]
    },
    "80134aa85053401bb21f2298d2b59ab6": {
     "views": [
      {
       "cell_index": 2
      }
     ]
    },
    "809ea8f920f54199b5b3982710101e8a": {
     "views": [
      {
       "cell_index": 2
      }
     ]
    },
    "8161b6594b384bd197cb3753dd6ba4d9": {
     "views": [
      {
       "cell_index": 14
      }
     ]
    },
    "84715e18d25946e8a7db52cc97e2915f": {
     "views": [
      {
       "cell_index": 2
      }
     ]
    },
    "850f70d8073447feaa408bf12261ffec": {
     "views": [
      {
       "cell_index": 2
      }
     ]
    },
    "85627ec39adb483fa0e1cb1500ff8471": {
     "views": [
      {
       "cell_index": 22
      }
     ]
    },
    "8898a56d4ef8421b97b47ab81f665fa4": {
     "views": [
      {
       "cell_index": 2
      }
     ]
    },
    "8b8dd3194dce4e0da63e4d49701f896d": {
     "views": [
      {
       "cell_index": 2
      }
     ]
    },
    "8c6ac0d095334547986fc16e0afe32cc": {
     "views": [
      {
       "cell_index": 2
      }
     ]
    },
    "8d34171c09974a21886c036ce7a2a6dd": {
     "views": [
      {
       "cell_index": 2
      }
     ]
    },
    "8e204a1f29054bfcb8c567a131ad28ac": {
     "views": [
      {
       "cell_index": 2
      }
     ]
    },
    "913f43a7c19144149480e9da2dbe6d9a": {
     "views": [
      {
       "cell_index": 2
      }
     ]
    },
    "918657f169d842f1a56d8b5bf32ce766": {
     "views": [
      {
       "cell_index": 22
      }
     ]
    },
    "93397fcb63f54568a4322848a61cd747": {
     "views": [
      {
       "cell_index": 2
      }
     ]
    },
    "99496b95f0c449d083731f7272cd5a46": {
     "views": [
      {
       "cell_index": 2
      }
     ]
    },
    "9b3b93e5551647589729dbac74b6d610": {
     "views": [
      {
       "cell_index": 10
      }
     ]
    },
    "9f0958909c04405a98b5b75ead680c6d": {
     "views": [
      {
       "cell_index": 10
      }
     ]
    },
    "9fbb4df1f39247729d4a469c839ccab9": {
     "views": [
      {
       "cell_index": 2
      }
     ]
    },
    "a315b167274b4de29d497858d13e17df": {
     "views": [
      {
       "cell_index": 2
      }
     ]
    },
    "a37598606f7143cfb389286a805ad4d3": {
     "views": [
      {
       "cell_index": 2
      }
     ]
    },
    "aad48cb2607b48cb88e37b047e38b30f": {
     "views": [
      {
       "cell_index": 2
      }
     ]
    },
    "abf8c304d20c4bc09a07d4d2c4c7a496": {
     "views": [
      {
       "cell_index": 22
      }
     ]
    },
    "ac67c4f96e43489c8df6db558a06b715": {
     "views": [
      {
       "cell_index": 14
      }
     ]
    },
    "aecdf9e734004e99b50fd8e751a8361e": {
     "views": [
      {
       "cell_index": 10
      }
     ]
    },
    "af70c0de612f4587900ffe52cf7cd9dc": {
     "views": [
      {
       "cell_index": 2
      }
     ]
    },
    "af7c506a9a2944ac94158ecd8a975e65": {
     "views": [
      {
       "cell_index": 2
      }
     ]
    },
    "b9d8fd3a9630435b94274abc722f9714": {
     "views": [
      {
       "cell_index": 2
      }
     ]
    },
    "ba9582da861d411c99570af019be5fa8": {
     "views": [
      {
       "cell_index": 16
      }
     ]
    },
    "bd5f9d62f1e2484abe8c7d7b83f7ba6d": {
     "views": [
      {
       "cell_index": 2
      }
     ]
    },
    "c47f0bdc7b83473abc494723d213db43": {
     "views": [
      {
       "cell_index": 2
      }
     ]
    },
    "c47fa99096d8411f950584d20c5cdb54": {
     "views": [
      {
       "cell_index": 2
      }
     ]
    },
    "c4df36f319ae4697b9f0dffb804a0de5": {
     "views": [
      {
       "cell_index": 2
      }
     ]
    },
    "c641a2e52a7d42a9b439fe20484e5f06": {
     "views": [
      {
       "cell_index": 2
      }
     ]
    },
    "c6b153f9ed6d4674a5ea3205a69db71b": {
     "views": [
      {
       "cell_index": 2
      }
     ]
    },
    "c731e0d1dc584aa8a14f61e90a45f8d4": {
     "views": [
      {
       "cell_index": 2
      }
     ]
    },
    "c79a20d7d7b44a8f959b5df6b36998ec": {
     "views": [
      {
       "cell_index": 10
      }
     ]
    },
    "cadc51cd25164806b9e0ce33d6c0e005": {
     "views": [
      {
       "cell_index": 2
      }
     ]
    },
    "cd3c38285d5d4b27af6c93635a4af08f": {
     "views": [
      {
       "cell_index": 2
      }
     ]
    },
    "ce3a7ab35df74b7c80b9c2eb809c21c4": {
     "views": [
      {
       "cell_index": 2
      }
     ]
    },
    "ce78a8d2a3934ea09300b7331090d422": {
     "views": [
      {
       "cell_index": 2
      }
     ]
    },
    "d329e054e13e4406ab245d213c55f018": {
     "views": [
      {
       "cell_index": 14
      }
     ]
    },
    "d6c01c286d12458a8a8eaa29d1cd43bd": {
     "views": [
      {
       "cell_index": 2
      }
     ]
    },
    "d75371e46c2a4c7db9021f1ec4e60a86": {
     "views": [
      {
       "cell_index": 2
      }
     ]
    },
    "d7f035296383481db9756fac1876a1c0": {
     "views": [
      {
       "cell_index": 2
      }
     ]
    },
    "db31b10669f7489492a08b6a150f80d9": {
     "views": [
      {
       "cell_index": 2
      }
     ]
    },
    "dc1744e8372d46cfa95eac92c060512d": {
     "views": [
      {
       "cell_index": 2
      }
     ]
    },
    "e40d97d022c2491a97404731350e7357": {
     "views": [
      {
       "cell_index": 2
      }
     ]
    },
    "e45c5ef31e8448218d81ede374be0e35": {
     "views": [
      {
       "cell_index": 2
      }
     ]
    },
    "e56d323a168c47de9047d4841f260bb9": {
     "views": [
      {
       "cell_index": 2
      }
     ]
    },
    "e595b93fdbe348bab5387b89fd721f3d": {
     "views": [
      {
       "cell_index": 14
      }
     ]
    },
    "e6258f643a6b4f0dbbd243de8607be56": {
     "views": [
      {
       "cell_index": 10
      }
     ]
    },
    "e6b474429cc34e33be8cd0163ee199bb": {
     "views": [
      {
       "cell_index": 14
      }
     ]
    },
    "e8927ef8f716476a82baa49edede870b": {
     "views": [
      {
       "cell_index": 2
      }
     ]
    },
    "e90f80ee59d84b539695863c6b2b2733": {
     "views": [
      {
       "cell_index": 16
      }
     ]
    },
    "eb35dce022bc47deb746a66ec7bfd888": {
     "views": [
      {
       "cell_index": 20
      }
     ]
    },
    "eb37e17f218046548e0b3c13e4ed10c8": {
     "views": [
      {
       "cell_index": 2
      }
     ]
    },
    "f037404de65847f9a42c1057f744f906": {
     "views": [
      {
       "cell_index": 2
      }
     ]
    },
    "f30db626ad1d4f7ba857fcf905250e38": {
     "views": [
      {
       "cell_index": 2
      }
     ]
    },
    "f4c68dbc078f40f1b031048dd1e7689e": {
     "views": [
      {
       "cell_index": 2
      }
     ]
    },
    "f548dbe918f1481e8112044d2a0580e5": {
     "views": [
      {
       "cell_index": 2
      }
     ]
    },
    "f5695264086b445ca194d0ce3d879b6a": {
     "views": [
      {
       "cell_index": 2
      }
     ]
    },
    "f691b613d2494192a127f9567d2b04a3": {
     "views": [
      {
       "cell_index": 19
      }
     ]
    },
    "f7254bce6b50482cb28b3c9f8a32a7c6": {
     "views": [
      {
       "cell_index": 2
      }
     ]
    },
    "f72d662219294dc3a9cd93077ff8ddc0": {
     "views": [
      {
       "cell_index": 2
      }
     ]
    },
    "f833cd714188409ba4c7c64711de34e2": {
     "views": [
      {
       "cell_index": 2
      }
     ]
    },
    "fec65030d28f48d692368c4924148243": {
     "views": [
      {
       "cell_index": 2
      }
     ]
    }
   },
   "version": "1.2.0"
  }
 },
 "nbformat": 4,
 "nbformat_minor": 1
}
