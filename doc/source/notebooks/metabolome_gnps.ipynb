{
 "cells": [
  {
   "cell_type": "markdown",
   "metadata": {},
   "source": [
    "# Metabolomics analysis with GNPS"
   ]
  },
  {
   "cell_type": "markdown",
   "metadata": {},
   "source": [
    "## Setup"
   ]
  },
  {
   "cell_type": "code",
   "execution_count": 1,
   "metadata": {},
   "outputs": [
    {
     "name": "stderr",
     "output_type": "stream",
     "text": [
      "/Users/amnon/miniconda3/envs/calour/lib/python3.5/site-packages/h5py/__init__.py:36: FutureWarning: Conversion of the second argument of issubdtype from `float` to `np.floating` is deprecated. In future, it will be treated as `np.float64 == np.dtype(float).type`.\n",
      "  from ._conv import register_converters as _register_converters\n"
     ]
    }
   ],
   "source": [
    "import calour as ca"
   ]
  },
  {
   "cell_type": "code",
   "execution_count": 2,
   "metadata": {
    "collapsed": true
   },
   "outputs": [],
   "source": [
    "%matplotlib notebook"
   ]
  },
  {
   "cell_type": "code",
   "execution_count": 3,
   "metadata": {
    "collapsed": true
   },
   "outputs": [],
   "source": [
    "ca.set_log_level('DEBUG')"
   ]
  },
  {
   "cell_type": "markdown",
   "metadata": {},
   "source": [
    "## Load the metabolomics bucket table\n",
    "This is a bucket table exported from GNPS.\n",
    "\n",
    "We also import the GNPS output file for the gnps data for each metabolite"
   ]
  },
  {
   "cell_type": "code",
   "execution_count": 4,
   "metadata": {},
   "outputs": [
    {
     "name": "stdout",
     "output_type": "stream",
     "text": [
      "2018-02-21 14:24:27 DEBUG Reading GnpsMS data (GnpsMS bucket table /Users/amnon/Projects/tal-metabolites/bucket-gnps.tsv, map file /Users/amnon/Projects/tal-metabolites/map.txt)\n",
      "2018-02-21 14:24:27 DEBUG Reading experiment (/Users/amnon/Projects/tal-metabolites/bucket-gnps.tsv, /Users/amnon/Projects/tal-metabolites/map.txt, None)\n",
      "2018-02-21 14:24:27 DEBUG loading OpenMS bucket table /Users/amnon/Projects/tal-metabolites/bucket-gnps.tsv\n",
      "2018-02-21 14:24:27 INFO loaded 511 samples, 71 features\n",
      "2018-02-21 14:24:27 DEBUG transposing table\n",
      "2018-02-21 14:24:27 DEBUG caculating data md5\n",
      "2018-02-21 14:24:27 DEBUG data md5 is: fe18b6ca770b17be06487e5799ed0f12\n",
      "2018-02-21 14:24:27 DEBUG getting file md5 for file /Users/amnon/Projects/tal-metabolites/map.txt\n",
      "2018-02-21 14:24:27 DEBUG md5 of /Users/amnon/Projects/tal-metabolites/map.txt: 371f136e7d6fb91ba11724300792fb7a\n",
      "2018-02-21 14:24:27 DEBUG getting file md5 for file None\n",
      "2018-02-21 14:24:27 DEBUG Adding gnps terms as \"gnps\" column in feature metadta\n",
      "2018-02-21 14:24:27 DEBUG get_config_value for key class_name\n",
      "2018-02-21 14:24:27 DEBUG Using calour config file /Users/amnon/git/calour/calour/calour.config.amnon from CALOUR_CONFIG_FILE variable\n",
      "2018-02-21 14:24:27 DEBUG found value GNPS for key class_name\n",
      "2018-02-21 14:24:27 DEBUG get_config_value for key module_name\n",
      "2018-02-21 14:24:27 DEBUG Using calour config file /Users/amnon/git/calour/calour/calour.config.amnon from CALOUR_CONFIG_FILE variable\n",
      "2018-02-21 14:24:27 DEBUG found value gnpscalour for key module_name\n",
      "2018-02-21 14:24:27 DEBUG Added terms\n"
     ]
    }
   ],
   "source": [
    "dat=ca.io.read_gnps_ms(data_file='/Users/amnon/Projects/tal-metabolites/bucket-gnps.tsv',\n",
    "                       sample_metadata_file='/Users/amnon/Projects/tal-metabolites/map.txt',\n",
    "                       gnps_file='/Users/amnon/Projects/tal-metabolites/gnps-output.tsv',\n",
    "                       normalize=None)"
   ]
  },
  {
   "cell_type": "code",
   "execution_count": 5,
   "metadata": {},
   "outputs": [
    {
     "name": "stdout",
     "output_type": "stream",
     "text": [
      "MS1Experiment bucket-gnps.tsv with 71 samples, 511 features\n"
     ]
    }
   ],
   "source": [
    "print(dat)"
   ]
  },
  {
   "cell_type": "markdown",
   "metadata": {},
   "source": [
    "## Preprocessing"
   ]
  },
  {
   "cell_type": "markdown",
   "metadata": {},
   "source": [
    "### Remove low frequency metabolites (features)"
   ]
  },
  {
   "cell_type": "code",
   "execution_count": 6,
   "metadata": {},
   "outputs": [
    {
     "name": "stdout",
     "output_type": "stream",
     "text": [
      "2018-02-21 14:24:28 DEBUG Run func cluster_features\n",
      "2018-02-21 14:24:28 DEBUG Run func filter_abundance\n",
      "2018-02-21 14:24:28 DEBUG Run func filter_by_data\n",
      "2018-02-21 14:24:28 DEBUG filter_by_data using predicate function 'sum_abundance'\n",
      "2018-02-21 14:24:28 INFO After filtering, 511 remaining\n",
      "2018-02-21 14:24:28 DEBUG Current object: MS1Experiment bucket-gnps.tsv with 71 samples, 511 features\n",
      "2018-02-21 14:24:28 DEBUG Current object: MS1Experiment bucket-gnps.tsv with 71 samples, 511 features\n",
      "2018-02-21 14:24:28 DEBUG Run func cluster_data\n",
      "2018-02-21 14:24:28 DEBUG clustering data on axis 1\n",
      "2018-02-21 14:24:28 DEBUG tansforming data using <function transform at 0x1a101ae9d8>\n",
      "2018-02-21 14:24:28 DEBUG Run func transform\n",
      "2018-02-21 14:24:28 DEBUG Run func log_n\n",
      "2018-02-21 14:24:28 DEBUG log_n transforming the data, min. threshold=1.000000\n",
      "2018-02-21 14:24:28 DEBUG Current object: MS1Experiment bucket-gnps.tsv with 71 samples, 511 features\n",
      "2018-02-21 14:24:28 DEBUG Run func scale\n",
      "2018-02-21 14:24:28 DEBUG scaling the data, axis=1\n",
      "2018-02-21 14:24:28 DEBUG Current object: MS1Experiment bucket-gnps.tsv with 71 samples, 511 features\n",
      "2018-02-21 14:24:28 DEBUG Current object: MS1Experiment bucket-gnps.tsv with 71 samples, 511 features\n",
      "2018-02-21 14:24:28 DEBUG Current object: MS1Experiment bucket-gnps.tsv with 71 samples, 511 features\n",
      "2018-02-21 14:24:28 DEBUG Current object: MS1Experiment bucket-gnps.tsv with 71 samples, 511 features\n"
     ]
    }
   ],
   "source": [
    "datc=dat.cluster_features()"
   ]
  },
  {
   "cell_type": "markdown",
   "metadata": {},
   "source": [
    "### sort the samples by relevant fields for the plot"
   ]
  },
  {
   "cell_type": "code",
   "execution_count": 7,
   "metadata": {},
   "outputs": [
    {
     "name": "stdout",
     "output_type": "stream",
     "text": [
      "2018-02-21 14:24:28 DEBUG Run func sort_samples\n",
      "2018-02-21 14:24:28 DEBUG Run func sort_by_metadata\n",
      "2018-02-21 14:24:28 DEBUG sorting samples by field time_days\n",
      "2018-02-21 14:24:28 DEBUG Current object: MS1Experiment bucket-gnps.tsv with 71 samples, 511 features\n",
      "2018-02-21 14:24:28 DEBUG Current object: MS1Experiment bucket-gnps.tsv with 71 samples, 511 features\n"
     ]
    }
   ],
   "source": [
    "datc=datc.sort_samples('time_days')"
   ]
  },
  {
   "cell_type": "code",
   "execution_count": 8,
   "metadata": {},
   "outputs": [
    {
     "name": "stdout",
     "output_type": "stream",
     "text": [
      "2018-02-21 14:24:29 DEBUG Run func sort_samples\n",
      "2018-02-21 14:24:29 DEBUG Run func sort_by_metadata\n",
      "2018-02-21 14:24:29 DEBUG sorting samples by field batch\n",
      "2018-02-21 14:24:29 DEBUG Current object: MS1Experiment bucket-gnps.tsv with 71 samples, 511 features\n",
      "2018-02-21 14:24:29 DEBUG Current object: MS1Experiment bucket-gnps.tsv with 71 samples, 511 features\n"
     ]
    }
   ],
   "source": [
    "datc=datc.sort_samples('batch')"
   ]
  },
  {
   "cell_type": "code",
   "execution_count": 9,
   "metadata": {},
   "outputs": [
    {
     "name": "stdout",
     "output_type": "stream",
     "text": [
      "2018-02-21 14:24:29 DEBUG Run func sort_samples\n",
      "2018-02-21 14:24:29 DEBUG Run func sort_by_metadata\n",
      "2018-02-21 14:24:29 DEBUG sorting samples by field group\n",
      "2018-02-21 14:24:29 DEBUG Current object: MS1Experiment bucket-gnps.tsv with 71 samples, 511 features\n",
      "2018-02-21 14:24:29 DEBUG Current object: MS1Experiment bucket-gnps.tsv with 71 samples, 511 features\n"
     ]
    }
   ],
   "source": [
    "datc=datc.sort_samples('group')"
   ]
  },
  {
   "cell_type": "markdown",
   "metadata": {},
   "source": [
    "## Plot the data\n",
    "By default, the y-axis (metabolites) shows the GNPS ID of the metabolite"
   ]
  },
  {
   "cell_type": "code",
   "execution_count": 37,
   "metadata": {
    "scrolled": false
   },
   "outputs": [
    {
     "data": {
      "application/javascript": [
       "/* Put everything inside the global mpl namespace */\n",
       "window.mpl = {};\n",
       "\n",
       "\n",
       "mpl.get_websocket_type = function() {\n",
       "    if (typeof(WebSocket) !== 'undefined') {\n",
       "        return WebSocket;\n",
       "    } else if (typeof(MozWebSocket) !== 'undefined') {\n",
       "        return MozWebSocket;\n",
       "    } else {\n",
       "        alert('Your browser does not have WebSocket support.' +\n",
       "              'Please try Chrome, Safari or Firefox ≥ 6. ' +\n",
       "              'Firefox 4 and 5 are also supported but you ' +\n",
       "              'have to enable WebSockets in about:config.');\n",
       "    };\n",
       "}\n",
       "\n",
       "mpl.figure = function(figure_id, websocket, ondownload, parent_element) {\n",
       "    this.id = figure_id;\n",
       "\n",
       "    this.ws = websocket;\n",
       "\n",
       "    this.supports_binary = (this.ws.binaryType != undefined);\n",
       "\n",
       "    if (!this.supports_binary) {\n",
       "        var warnings = document.getElementById(\"mpl-warnings\");\n",
       "        if (warnings) {\n",
       "            warnings.style.display = 'block';\n",
       "            warnings.textContent = (\n",
       "                \"This browser does not support binary websocket messages. \" +\n",
       "                    \"Performance may be slow.\");\n",
       "        }\n",
       "    }\n",
       "\n",
       "    this.imageObj = new Image();\n",
       "\n",
       "    this.context = undefined;\n",
       "    this.message = undefined;\n",
       "    this.canvas = undefined;\n",
       "    this.rubberband_canvas = undefined;\n",
       "    this.rubberband_context = undefined;\n",
       "    this.format_dropdown = undefined;\n",
       "\n",
       "    this.image_mode = 'full';\n",
       "\n",
       "    this.root = $('<div/>');\n",
       "    this._root_extra_style(this.root)\n",
       "    this.root.attr('style', 'display: inline-block');\n",
       "\n",
       "    $(parent_element).append(this.root);\n",
       "\n",
       "    this._init_header(this);\n",
       "    this._init_canvas(this);\n",
       "    this._init_toolbar(this);\n",
       "\n",
       "    var fig = this;\n",
       "\n",
       "    this.waiting = false;\n",
       "\n",
       "    this.ws.onopen =  function () {\n",
       "            fig.send_message(\"supports_binary\", {value: fig.supports_binary});\n",
       "            fig.send_message(\"send_image_mode\", {});\n",
       "            if (mpl.ratio != 1) {\n",
       "                fig.send_message(\"set_dpi_ratio\", {'dpi_ratio': mpl.ratio});\n",
       "            }\n",
       "            fig.send_message(\"refresh\", {});\n",
       "        }\n",
       "\n",
       "    this.imageObj.onload = function() {\n",
       "            if (fig.image_mode == 'full') {\n",
       "                // Full images could contain transparency (where diff images\n",
       "                // almost always do), so we need to clear the canvas so that\n",
       "                // there is no ghosting.\n",
       "                fig.context.clearRect(0, 0, fig.canvas.width, fig.canvas.height);\n",
       "            }\n",
       "            fig.context.drawImage(fig.imageObj, 0, 0);\n",
       "        };\n",
       "\n",
       "    this.imageObj.onunload = function() {\n",
       "        fig.ws.close();\n",
       "    }\n",
       "\n",
       "    this.ws.onmessage = this._make_on_message_function(this);\n",
       "\n",
       "    this.ondownload = ondownload;\n",
       "}\n",
       "\n",
       "mpl.figure.prototype._init_header = function() {\n",
       "    var titlebar = $(\n",
       "        '<div class=\"ui-dialog-titlebar ui-widget-header ui-corner-all ' +\n",
       "        'ui-helper-clearfix\"/>');\n",
       "    var titletext = $(\n",
       "        '<div class=\"ui-dialog-title\" style=\"width: 100%; ' +\n",
       "        'text-align: center; padding: 3px;\"/>');\n",
       "    titlebar.append(titletext)\n",
       "    this.root.append(titlebar);\n",
       "    this.header = titletext[0];\n",
       "}\n",
       "\n",
       "\n",
       "\n",
       "mpl.figure.prototype._canvas_extra_style = function(canvas_div) {\n",
       "\n",
       "}\n",
       "\n",
       "\n",
       "mpl.figure.prototype._root_extra_style = function(canvas_div) {\n",
       "\n",
       "}\n",
       "\n",
       "mpl.figure.prototype._init_canvas = function() {\n",
       "    var fig = this;\n",
       "\n",
       "    var canvas_div = $('<div/>');\n",
       "\n",
       "    canvas_div.attr('style', 'position: relative; clear: both; outline: 0');\n",
       "\n",
       "    function canvas_keyboard_event(event) {\n",
       "        return fig.key_event(event, event['data']);\n",
       "    }\n",
       "\n",
       "    canvas_div.keydown('key_press', canvas_keyboard_event);\n",
       "    canvas_div.keyup('key_release', canvas_keyboard_event);\n",
       "    this.canvas_div = canvas_div\n",
       "    this._canvas_extra_style(canvas_div)\n",
       "    this.root.append(canvas_div);\n",
       "\n",
       "    var canvas = $('<canvas/>');\n",
       "    canvas.addClass('mpl-canvas');\n",
       "    canvas.attr('style', \"left: 0; top: 0; z-index: 0; outline: 0\")\n",
       "\n",
       "    this.canvas = canvas[0];\n",
       "    this.context = canvas[0].getContext(\"2d\");\n",
       "\n",
       "    var backingStore = this.context.backingStorePixelRatio ||\n",
       "\tthis.context.webkitBackingStorePixelRatio ||\n",
       "\tthis.context.mozBackingStorePixelRatio ||\n",
       "\tthis.context.msBackingStorePixelRatio ||\n",
       "\tthis.context.oBackingStorePixelRatio ||\n",
       "\tthis.context.backingStorePixelRatio || 1;\n",
       "\n",
       "    mpl.ratio = (window.devicePixelRatio || 1) / backingStore;\n",
       "\n",
       "    var rubberband = $('<canvas/>');\n",
       "    rubberband.attr('style', \"position: absolute; left: 0; top: 0; z-index: 1;\")\n",
       "\n",
       "    var pass_mouse_events = true;\n",
       "\n",
       "    canvas_div.resizable({\n",
       "        start: function(event, ui) {\n",
       "            pass_mouse_events = false;\n",
       "        },\n",
       "        resize: function(event, ui) {\n",
       "            fig.request_resize(ui.size.width, ui.size.height);\n",
       "        },\n",
       "        stop: function(event, ui) {\n",
       "            pass_mouse_events = true;\n",
       "            fig.request_resize(ui.size.width, ui.size.height);\n",
       "        },\n",
       "    });\n",
       "\n",
       "    function mouse_event_fn(event) {\n",
       "        if (pass_mouse_events)\n",
       "            return fig.mouse_event(event, event['data']);\n",
       "    }\n",
       "\n",
       "    rubberband.mousedown('button_press', mouse_event_fn);\n",
       "    rubberband.mouseup('button_release', mouse_event_fn);\n",
       "    // Throttle sequential mouse events to 1 every 20ms.\n",
       "    rubberband.mousemove('motion_notify', mouse_event_fn);\n",
       "\n",
       "    rubberband.mouseenter('figure_enter', mouse_event_fn);\n",
       "    rubberband.mouseleave('figure_leave', mouse_event_fn);\n",
       "\n",
       "    canvas_div.on(\"wheel\", function (event) {\n",
       "        event = event.originalEvent;\n",
       "        event['data'] = 'scroll'\n",
       "        if (event.deltaY < 0) {\n",
       "            event.step = 1;\n",
       "        } else {\n",
       "            event.step = -1;\n",
       "        }\n",
       "        mouse_event_fn(event);\n",
       "    });\n",
       "\n",
       "    canvas_div.append(canvas);\n",
       "    canvas_div.append(rubberband);\n",
       "\n",
       "    this.rubberband = rubberband;\n",
       "    this.rubberband_canvas = rubberband[0];\n",
       "    this.rubberband_context = rubberband[0].getContext(\"2d\");\n",
       "    this.rubberband_context.strokeStyle = \"#000000\";\n",
       "\n",
       "    this._resize_canvas = function(width, height) {\n",
       "        // Keep the size of the canvas, canvas container, and rubber band\n",
       "        // canvas in synch.\n",
       "        canvas_div.css('width', width)\n",
       "        canvas_div.css('height', height)\n",
       "\n",
       "        canvas.attr('width', width * mpl.ratio);\n",
       "        canvas.attr('height', height * mpl.ratio);\n",
       "        canvas.attr('style', 'width: ' + width + 'px; height: ' + height + 'px;');\n",
       "\n",
       "        rubberband.attr('width', width);\n",
       "        rubberband.attr('height', height);\n",
       "    }\n",
       "\n",
       "    // Set the figure to an initial 600x600px, this will subsequently be updated\n",
       "    // upon first draw.\n",
       "    this._resize_canvas(600, 600);\n",
       "\n",
       "    // Disable right mouse context menu.\n",
       "    $(this.rubberband_canvas).bind(\"contextmenu\",function(e){\n",
       "        return false;\n",
       "    });\n",
       "\n",
       "    function set_focus () {\n",
       "        canvas.focus();\n",
       "        canvas_div.focus();\n",
       "    }\n",
       "\n",
       "    window.setTimeout(set_focus, 100);\n",
       "}\n",
       "\n",
       "mpl.figure.prototype._init_toolbar = function() {\n",
       "    var fig = this;\n",
       "\n",
       "    var nav_element = $('<div/>')\n",
       "    nav_element.attr('style', 'width: 100%');\n",
       "    this.root.append(nav_element);\n",
       "\n",
       "    // Define a callback function for later on.\n",
       "    function toolbar_event(event) {\n",
       "        return fig.toolbar_button_onclick(event['data']);\n",
       "    }\n",
       "    function toolbar_mouse_event(event) {\n",
       "        return fig.toolbar_button_onmouseover(event['data']);\n",
       "    }\n",
       "\n",
       "    for(var toolbar_ind in mpl.toolbar_items) {\n",
       "        var name = mpl.toolbar_items[toolbar_ind][0];\n",
       "        var tooltip = mpl.toolbar_items[toolbar_ind][1];\n",
       "        var image = mpl.toolbar_items[toolbar_ind][2];\n",
       "        var method_name = mpl.toolbar_items[toolbar_ind][3];\n",
       "\n",
       "        if (!name) {\n",
       "            // put a spacer in here.\n",
       "            continue;\n",
       "        }\n",
       "        var button = $('<button/>');\n",
       "        button.addClass('ui-button ui-widget ui-state-default ui-corner-all ' +\n",
       "                        'ui-button-icon-only');\n",
       "        button.attr('role', 'button');\n",
       "        button.attr('aria-disabled', 'false');\n",
       "        button.click(method_name, toolbar_event);\n",
       "        button.mouseover(tooltip, toolbar_mouse_event);\n",
       "\n",
       "        var icon_img = $('<span/>');\n",
       "        icon_img.addClass('ui-button-icon-primary ui-icon');\n",
       "        icon_img.addClass(image);\n",
       "        icon_img.addClass('ui-corner-all');\n",
       "\n",
       "        var tooltip_span = $('<span/>');\n",
       "        tooltip_span.addClass('ui-button-text');\n",
       "        tooltip_span.html(tooltip);\n",
       "\n",
       "        button.append(icon_img);\n",
       "        button.append(tooltip_span);\n",
       "\n",
       "        nav_element.append(button);\n",
       "    }\n",
       "\n",
       "    var fmt_picker_span = $('<span/>');\n",
       "\n",
       "    var fmt_picker = $('<select/>');\n",
       "    fmt_picker.addClass('mpl-toolbar-option ui-widget ui-widget-content');\n",
       "    fmt_picker_span.append(fmt_picker);\n",
       "    nav_element.append(fmt_picker_span);\n",
       "    this.format_dropdown = fmt_picker[0];\n",
       "\n",
       "    for (var ind in mpl.extensions) {\n",
       "        var fmt = mpl.extensions[ind];\n",
       "        var option = $(\n",
       "            '<option/>', {selected: fmt === mpl.default_extension}).html(fmt);\n",
       "        fmt_picker.append(option)\n",
       "    }\n",
       "\n",
       "    // Add hover states to the ui-buttons\n",
       "    $( \".ui-button\" ).hover(\n",
       "        function() { $(this).addClass(\"ui-state-hover\");},\n",
       "        function() { $(this).removeClass(\"ui-state-hover\");}\n",
       "    );\n",
       "\n",
       "    var status_bar = $('<span class=\"mpl-message\"/>');\n",
       "    nav_element.append(status_bar);\n",
       "    this.message = status_bar[0];\n",
       "}\n",
       "\n",
       "mpl.figure.prototype.request_resize = function(x_pixels, y_pixels) {\n",
       "    // Request matplotlib to resize the figure. Matplotlib will then trigger a resize in the client,\n",
       "    // which will in turn request a refresh of the image.\n",
       "    this.send_message('resize', {'width': x_pixels, 'height': y_pixels});\n",
       "}\n",
       "\n",
       "mpl.figure.prototype.send_message = function(type, properties) {\n",
       "    properties['type'] = type;\n",
       "    properties['figure_id'] = this.id;\n",
       "    this.ws.send(JSON.stringify(properties));\n",
       "}\n",
       "\n",
       "mpl.figure.prototype.send_draw_message = function() {\n",
       "    if (!this.waiting) {\n",
       "        this.waiting = true;\n",
       "        this.ws.send(JSON.stringify({type: \"draw\", figure_id: this.id}));\n",
       "    }\n",
       "}\n",
       "\n",
       "\n",
       "mpl.figure.prototype.handle_save = function(fig, msg) {\n",
       "    var format_dropdown = fig.format_dropdown;\n",
       "    var format = format_dropdown.options[format_dropdown.selectedIndex].value;\n",
       "    fig.ondownload(fig, format);\n",
       "}\n",
       "\n",
       "\n",
       "mpl.figure.prototype.handle_resize = function(fig, msg) {\n",
       "    var size = msg['size'];\n",
       "    if (size[0] != fig.canvas.width || size[1] != fig.canvas.height) {\n",
       "        fig._resize_canvas(size[0], size[1]);\n",
       "        fig.send_message(\"refresh\", {});\n",
       "    };\n",
       "}\n",
       "\n",
       "mpl.figure.prototype.handle_rubberband = function(fig, msg) {\n",
       "    var x0 = msg['x0'] / mpl.ratio;\n",
       "    var y0 = (fig.canvas.height - msg['y0']) / mpl.ratio;\n",
       "    var x1 = msg['x1'] / mpl.ratio;\n",
       "    var y1 = (fig.canvas.height - msg['y1']) / mpl.ratio;\n",
       "    x0 = Math.floor(x0) + 0.5;\n",
       "    y0 = Math.floor(y0) + 0.5;\n",
       "    x1 = Math.floor(x1) + 0.5;\n",
       "    y1 = Math.floor(y1) + 0.5;\n",
       "    var min_x = Math.min(x0, x1);\n",
       "    var min_y = Math.min(y0, y1);\n",
       "    var width = Math.abs(x1 - x0);\n",
       "    var height = Math.abs(y1 - y0);\n",
       "\n",
       "    fig.rubberband_context.clearRect(\n",
       "        0, 0, fig.canvas.width, fig.canvas.height);\n",
       "\n",
       "    fig.rubberband_context.strokeRect(min_x, min_y, width, height);\n",
       "}\n",
       "\n",
       "mpl.figure.prototype.handle_figure_label = function(fig, msg) {\n",
       "    // Updates the figure title.\n",
       "    fig.header.textContent = msg['label'];\n",
       "}\n",
       "\n",
       "mpl.figure.prototype.handle_cursor = function(fig, msg) {\n",
       "    var cursor = msg['cursor'];\n",
       "    switch(cursor)\n",
       "    {\n",
       "    case 0:\n",
       "        cursor = 'pointer';\n",
       "        break;\n",
       "    case 1:\n",
       "        cursor = 'default';\n",
       "        break;\n",
       "    case 2:\n",
       "        cursor = 'crosshair';\n",
       "        break;\n",
       "    case 3:\n",
       "        cursor = 'move';\n",
       "        break;\n",
       "    }\n",
       "    fig.rubberband_canvas.style.cursor = cursor;\n",
       "}\n",
       "\n",
       "mpl.figure.prototype.handle_message = function(fig, msg) {\n",
       "    fig.message.textContent = msg['message'];\n",
       "}\n",
       "\n",
       "mpl.figure.prototype.handle_draw = function(fig, msg) {\n",
       "    // Request the server to send over a new figure.\n",
       "    fig.send_draw_message();\n",
       "}\n",
       "\n",
       "mpl.figure.prototype.handle_image_mode = function(fig, msg) {\n",
       "    fig.image_mode = msg['mode'];\n",
       "}\n",
       "\n",
       "mpl.figure.prototype.updated_canvas_event = function() {\n",
       "    // Called whenever the canvas gets updated.\n",
       "    this.send_message(\"ack\", {});\n",
       "}\n",
       "\n",
       "// A function to construct a web socket function for onmessage handling.\n",
       "// Called in the figure constructor.\n",
       "mpl.figure.prototype._make_on_message_function = function(fig) {\n",
       "    return function socket_on_message(evt) {\n",
       "        if (evt.data instanceof Blob) {\n",
       "            /* FIXME: We get \"Resource interpreted as Image but\n",
       "             * transferred with MIME type text/plain:\" errors on\n",
       "             * Chrome.  But how to set the MIME type?  It doesn't seem\n",
       "             * to be part of the websocket stream */\n",
       "            evt.data.type = \"image/png\";\n",
       "\n",
       "            /* Free the memory for the previous frames */\n",
       "            if (fig.imageObj.src) {\n",
       "                (window.URL || window.webkitURL).revokeObjectURL(\n",
       "                    fig.imageObj.src);\n",
       "            }\n",
       "\n",
       "            fig.imageObj.src = (window.URL || window.webkitURL).createObjectURL(\n",
       "                evt.data);\n",
       "            fig.updated_canvas_event();\n",
       "            fig.waiting = false;\n",
       "            return;\n",
       "        }\n",
       "        else if (typeof evt.data === 'string' && evt.data.slice(0, 21) == \"data:image/png;base64\") {\n",
       "            fig.imageObj.src = evt.data;\n",
       "            fig.updated_canvas_event();\n",
       "            fig.waiting = false;\n",
       "            return;\n",
       "        }\n",
       "\n",
       "        var msg = JSON.parse(evt.data);\n",
       "        var msg_type = msg['type'];\n",
       "\n",
       "        // Call the  \"handle_{type}\" callback, which takes\n",
       "        // the figure and JSON message as its only arguments.\n",
       "        try {\n",
       "            var callback = fig[\"handle_\" + msg_type];\n",
       "        } catch (e) {\n",
       "            console.log(\"No handler for the '\" + msg_type + \"' message type: \", msg);\n",
       "            return;\n",
       "        }\n",
       "\n",
       "        if (callback) {\n",
       "            try {\n",
       "                // console.log(\"Handling '\" + msg_type + \"' message: \", msg);\n",
       "                callback(fig, msg);\n",
       "            } catch (e) {\n",
       "                console.log(\"Exception inside the 'handler_\" + msg_type + \"' callback:\", e, e.stack, msg);\n",
       "            }\n",
       "        }\n",
       "    };\n",
       "}\n",
       "\n",
       "// from http://stackoverflow.com/questions/1114465/getting-mouse-location-in-canvas\n",
       "mpl.findpos = function(e) {\n",
       "    //this section is from http://www.quirksmode.org/js/events_properties.html\n",
       "    var targ;\n",
       "    if (!e)\n",
       "        e = window.event;\n",
       "    if (e.target)\n",
       "        targ = e.target;\n",
       "    else if (e.srcElement)\n",
       "        targ = e.srcElement;\n",
       "    if (targ.nodeType == 3) // defeat Safari bug\n",
       "        targ = targ.parentNode;\n",
       "\n",
       "    // jQuery normalizes the pageX and pageY\n",
       "    // pageX,Y are the mouse positions relative to the document\n",
       "    // offset() returns the position of the element relative to the document\n",
       "    var x = e.pageX - $(targ).offset().left;\n",
       "    var y = e.pageY - $(targ).offset().top;\n",
       "\n",
       "    return {\"x\": x, \"y\": y};\n",
       "};\n",
       "\n",
       "/*\n",
       " * return a copy of an object with only non-object keys\n",
       " * we need this to avoid circular references\n",
       " * http://stackoverflow.com/a/24161582/3208463\n",
       " */\n",
       "function simpleKeys (original) {\n",
       "  return Object.keys(original).reduce(function (obj, key) {\n",
       "    if (typeof original[key] !== 'object')\n",
       "        obj[key] = original[key]\n",
       "    return obj;\n",
       "  }, {});\n",
       "}\n",
       "\n",
       "mpl.figure.prototype.mouse_event = function(event, name) {\n",
       "    var canvas_pos = mpl.findpos(event)\n",
       "\n",
       "    if (name === 'button_press')\n",
       "    {\n",
       "        this.canvas.focus();\n",
       "        this.canvas_div.focus();\n",
       "    }\n",
       "\n",
       "    var x = canvas_pos.x * mpl.ratio;\n",
       "    var y = canvas_pos.y * mpl.ratio;\n",
       "\n",
       "    this.send_message(name, {x: x, y: y, button: event.button,\n",
       "                             step: event.step,\n",
       "                             guiEvent: simpleKeys(event)});\n",
       "\n",
       "    /* This prevents the web browser from automatically changing to\n",
       "     * the text insertion cursor when the button is pressed.  We want\n",
       "     * to control all of the cursor setting manually through the\n",
       "     * 'cursor' event from matplotlib */\n",
       "    event.preventDefault();\n",
       "    return false;\n",
       "}\n",
       "\n",
       "mpl.figure.prototype._key_event_extra = function(event, name) {\n",
       "    // Handle any extra behaviour associated with a key event\n",
       "}\n",
       "\n",
       "mpl.figure.prototype.key_event = function(event, name) {\n",
       "\n",
       "    // Prevent repeat events\n",
       "    if (name == 'key_press')\n",
       "    {\n",
       "        if (event.which === this._key)\n",
       "            return;\n",
       "        else\n",
       "            this._key = event.which;\n",
       "    }\n",
       "    if (name == 'key_release')\n",
       "        this._key = null;\n",
       "\n",
       "    var value = '';\n",
       "    if (event.ctrlKey && event.which != 17)\n",
       "        value += \"ctrl+\";\n",
       "    if (event.altKey && event.which != 18)\n",
       "        value += \"alt+\";\n",
       "    if (event.shiftKey && event.which != 16)\n",
       "        value += \"shift+\";\n",
       "\n",
       "    value += 'k';\n",
       "    value += event.which.toString();\n",
       "\n",
       "    this._key_event_extra(event, name);\n",
       "\n",
       "    this.send_message(name, {key: value,\n",
       "                             guiEvent: simpleKeys(event)});\n",
       "    return false;\n",
       "}\n",
       "\n",
       "mpl.figure.prototype.toolbar_button_onclick = function(name) {\n",
       "    if (name == 'download') {\n",
       "        this.handle_save(this, null);\n",
       "    } else {\n",
       "        this.send_message(\"toolbar_button\", {name: name});\n",
       "    }\n",
       "};\n",
       "\n",
       "mpl.figure.prototype.toolbar_button_onmouseover = function(tooltip) {\n",
       "    this.message.textContent = tooltip;\n",
       "};\n",
       "mpl.toolbar_items = [[\"Home\", \"Reset original view\", \"fa fa-home icon-home\", \"home\"], [\"Back\", \"Back to  previous view\", \"fa fa-arrow-left icon-arrow-left\", \"back\"], [\"Forward\", \"Forward to next view\", \"fa fa-arrow-right icon-arrow-right\", \"forward\"], [\"\", \"\", \"\", \"\"], [\"Pan\", \"Pan axes with left mouse, zoom with right\", \"fa fa-arrows icon-move\", \"pan\"], [\"Zoom\", \"Zoom to rectangle\", \"fa fa-square-o icon-check-empty\", \"zoom\"], [\"\", \"\", \"\", \"\"], [\"Download\", \"Download plot\", \"fa fa-floppy-o icon-save\", \"download\"]];\n",
       "\n",
       "mpl.extensions = [\"eps\", \"jpeg\", \"pdf\", \"png\", \"ps\", \"raw\", \"svg\", \"tif\"];\n",
       "\n",
       "mpl.default_extension = \"png\";var comm_websocket_adapter = function(comm) {\n",
       "    // Create a \"websocket\"-like object which calls the given IPython comm\n",
       "    // object with the appropriate methods. Currently this is a non binary\n",
       "    // socket, so there is still some room for performance tuning.\n",
       "    var ws = {};\n",
       "\n",
       "    ws.close = function() {\n",
       "        comm.close()\n",
       "    };\n",
       "    ws.send = function(m) {\n",
       "        //console.log('sending', m);\n",
       "        comm.send(m);\n",
       "    };\n",
       "    // Register the callback with on_msg.\n",
       "    comm.on_msg(function(msg) {\n",
       "        //console.log('receiving', msg['content']['data'], msg);\n",
       "        // Pass the mpl event to the overriden (by mpl) onmessage function.\n",
       "        ws.onmessage(msg['content']['data'])\n",
       "    });\n",
       "    return ws;\n",
       "}\n",
       "\n",
       "mpl.mpl_figure_comm = function(comm, msg) {\n",
       "    // This is the function which gets called when the mpl process\n",
       "    // starts-up an IPython Comm through the \"matplotlib\" channel.\n",
       "\n",
       "    var id = msg.content.data.id;\n",
       "    // Get hold of the div created by the display call when the Comm\n",
       "    // socket was opened in Python.\n",
       "    var element = $(\"#\" + id);\n",
       "    var ws_proxy = comm_websocket_adapter(comm)\n",
       "\n",
       "    function ondownload(figure, format) {\n",
       "        window.open(figure.imageObj.src);\n",
       "    }\n",
       "\n",
       "    var fig = new mpl.figure(id, ws_proxy,\n",
       "                           ondownload,\n",
       "                           element.get(0));\n",
       "\n",
       "    // Call onopen now - mpl needs it, as it is assuming we've passed it a real\n",
       "    // web socket which is closed, not our websocket->open comm proxy.\n",
       "    ws_proxy.onopen();\n",
       "\n",
       "    fig.parent_element = element.get(0);\n",
       "    fig.cell_info = mpl.find_output_cell(\"<div id='\" + id + \"'></div>\");\n",
       "    if (!fig.cell_info) {\n",
       "        console.error(\"Failed to find cell for figure\", id, fig);\n",
       "        return;\n",
       "    }\n",
       "\n",
       "    var output_index = fig.cell_info[2]\n",
       "    var cell = fig.cell_info[0];\n",
       "\n",
       "};\n",
       "\n",
       "mpl.figure.prototype.handle_close = function(fig, msg) {\n",
       "    var width = fig.canvas.width/mpl.ratio\n",
       "    fig.root.unbind('remove')\n",
       "\n",
       "    // Update the output cell to use the data from the current canvas.\n",
       "    fig.push_to_output();\n",
       "    var dataURL = fig.canvas.toDataURL();\n",
       "    // Re-enable the keyboard manager in IPython - without this line, in FF,\n",
       "    // the notebook keyboard shortcuts fail.\n",
       "    IPython.keyboard_manager.enable()\n",
       "    $(fig.parent_element).html('<img src=\"' + dataURL + '\" width=\"' + width + '\">');\n",
       "    fig.close_ws(fig, msg);\n",
       "}\n",
       "\n",
       "mpl.figure.prototype.close_ws = function(fig, msg){\n",
       "    fig.send_message('closing', msg);\n",
       "    // fig.ws.close()\n",
       "}\n",
       "\n",
       "mpl.figure.prototype.push_to_output = function(remove_interactive) {\n",
       "    // Turn the data on the canvas into data in the output cell.\n",
       "    var width = this.canvas.width/mpl.ratio\n",
       "    var dataURL = this.canvas.toDataURL();\n",
       "    this.cell_info[1]['text/html'] = '<img src=\"' + dataURL + '\" width=\"' + width + '\">';\n",
       "}\n",
       "\n",
       "mpl.figure.prototype.updated_canvas_event = function() {\n",
       "    // Tell IPython that the notebook contents must change.\n",
       "    IPython.notebook.set_dirty(true);\n",
       "    this.send_message(\"ack\", {});\n",
       "    var fig = this;\n",
       "    // Wait a second, then push the new image to the DOM so\n",
       "    // that it is saved nicely (might be nice to debounce this).\n",
       "    setTimeout(function () { fig.push_to_output() }, 1000);\n",
       "}\n",
       "\n",
       "mpl.figure.prototype._init_toolbar = function() {\n",
       "    var fig = this;\n",
       "\n",
       "    var nav_element = $('<div/>')\n",
       "    nav_element.attr('style', 'width: 100%');\n",
       "    this.root.append(nav_element);\n",
       "\n",
       "    // Define a callback function for later on.\n",
       "    function toolbar_event(event) {\n",
       "        return fig.toolbar_button_onclick(event['data']);\n",
       "    }\n",
       "    function toolbar_mouse_event(event) {\n",
       "        return fig.toolbar_button_onmouseover(event['data']);\n",
       "    }\n",
       "\n",
       "    for(var toolbar_ind in mpl.toolbar_items){\n",
       "        var name = mpl.toolbar_items[toolbar_ind][0];\n",
       "        var tooltip = mpl.toolbar_items[toolbar_ind][1];\n",
       "        var image = mpl.toolbar_items[toolbar_ind][2];\n",
       "        var method_name = mpl.toolbar_items[toolbar_ind][3];\n",
       "\n",
       "        if (!name) { continue; };\n",
       "\n",
       "        var button = $('<button class=\"btn btn-default\" href=\"#\" title=\"' + name + '\"><i class=\"fa ' + image + ' fa-lg\"></i></button>');\n",
       "        button.click(method_name, toolbar_event);\n",
       "        button.mouseover(tooltip, toolbar_mouse_event);\n",
       "        nav_element.append(button);\n",
       "    }\n",
       "\n",
       "    // Add the status bar.\n",
       "    var status_bar = $('<span class=\"mpl-message\" style=\"text-align:right; float: right;\"/>');\n",
       "    nav_element.append(status_bar);\n",
       "    this.message = status_bar[0];\n",
       "\n",
       "    // Add the close button to the window.\n",
       "    var buttongrp = $('<div class=\"btn-group inline pull-right\"></div>');\n",
       "    var button = $('<button class=\"btn btn-mini btn-primary\" href=\"#\" title=\"Stop Interaction\"><i class=\"fa fa-power-off icon-remove icon-large\"></i></button>');\n",
       "    button.click(function (evt) { fig.handle_close(fig, {}); } );\n",
       "    button.mouseover('Stop Interaction', toolbar_mouse_event);\n",
       "    buttongrp.append(button);\n",
       "    var titlebar = this.root.find($('.ui-dialog-titlebar'));\n",
       "    titlebar.prepend(buttongrp);\n",
       "}\n",
       "\n",
       "mpl.figure.prototype._root_extra_style = function(el){\n",
       "    var fig = this\n",
       "    el.on(\"remove\", function(){\n",
       "\tfig.close_ws(fig, {});\n",
       "    });\n",
       "}\n",
       "\n",
       "mpl.figure.prototype._canvas_extra_style = function(el){\n",
       "    // this is important to make the div 'focusable\n",
       "    el.attr('tabindex', 0)\n",
       "    // reach out to IPython and tell the keyboard manager to turn it's self\n",
       "    // off when our div gets focus\n",
       "\n",
       "    // location in version 3\n",
       "    if (IPython.notebook.keyboard_manager) {\n",
       "        IPython.notebook.keyboard_manager.register_events(el);\n",
       "    }\n",
       "    else {\n",
       "        // location in version 2\n",
       "        IPython.keyboard_manager.register_events(el);\n",
       "    }\n",
       "\n",
       "}\n",
       "\n",
       "mpl.figure.prototype._key_event_extra = function(event, name) {\n",
       "    var manager = IPython.notebook.keyboard_manager;\n",
       "    if (!manager)\n",
       "        manager = IPython.keyboard_manager;\n",
       "\n",
       "    // Check for shift+enter\n",
       "    if (event.shiftKey && event.which == 13) {\n",
       "        this.canvas_div.blur();\n",
       "        event.shiftKey = false;\n",
       "        // Send a \"J\" for go to next cell\n",
       "        event.which = 74;\n",
       "        event.keyCode = 74;\n",
       "        manager.command_mode();\n",
       "        manager.handle_keydown(event);\n",
       "    }\n",
       "}\n",
       "\n",
       "mpl.figure.prototype.handle_save = function(fig, msg) {\n",
       "    fig.ondownload(fig, null);\n",
       "}\n",
       "\n",
       "\n",
       "mpl.find_output_cell = function(html_output) {\n",
       "    // Return the cell and output element which can be found *uniquely* in the notebook.\n",
       "    // Note - this is a bit hacky, but it is done because the \"notebook_saving.Notebook\"\n",
       "    // IPython event is triggered only after the cells have been serialised, which for\n",
       "    // our purposes (turning an active figure into a static one), is too late.\n",
       "    var cells = IPython.notebook.get_cells();\n",
       "    var ncells = cells.length;\n",
       "    for (var i=0; i<ncells; i++) {\n",
       "        var cell = cells[i];\n",
       "        if (cell.cell_type === 'code'){\n",
       "            for (var j=0; j<cell.output_area.outputs.length; j++) {\n",
       "                var data = cell.output_area.outputs[j];\n",
       "                if (data.data) {\n",
       "                    // IPython >= 3 moved mimebundle to data attribute of output\n",
       "                    data = data.data;\n",
       "                }\n",
       "                if (data['text/html'] == html_output) {\n",
       "                    return [cell, data, j];\n",
       "                }\n",
       "            }\n",
       "        }\n",
       "    }\n",
       "}\n",
       "\n",
       "// Register the function which deals with the matplotlib target/channel.\n",
       "// The kernel may be null if the page has been refreshed.\n",
       "if (IPython.notebook.kernel != null) {\n",
       "    IPython.notebook.kernel.comm_manager.register_target('matplotlib', mpl.mpl_figure_comm);\n",
       "}\n"
      ],
      "text/plain": [
       "<IPython.core.display.Javascript object>"
      ]
     },
     "metadata": {},
     "output_type": "display_data"
    },
    {
     "data": {
      "text/html": [
       "<img src=\"data:image/png;base64,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\" width=\"639.7499809339648\">"
      ],
      "text/plain": [
       "<IPython.core.display.HTML object>"
      ]
     },
     "metadata": {},
     "output_type": "display_data"
    },
    {
     "name": "stdout",
     "output_type": "stream",
     "text": [
      "2018-02-21 14:47:32 DEBUG get_config_value for key class_name\n",
      "2018-02-21 14:47:32 DEBUG Using calour config file /Users/amnon/git/calour/calour/calour.config.amnon from CALOUR_CONFIG_FILE variable\n",
      "2018-02-21 14:47:32 DEBUG found value GNPS for key class_name\n",
      "2018-02-21 14:47:32 DEBUG get_config_value for key module_name\n",
      "2018-02-21 14:47:32 DEBUG Using calour config file /Users/amnon/git/calour/calour/calour.config.amnon from CALOUR_CONFIG_FILE variable\n",
      "2018-02-21 14:47:32 DEBUG found value gnpscalour for key module_name\n",
      "2018-02-21 14:47:32 DEBUG Plot heatmap\n"
     ]
    },
    {
     "data": {
      "application/vnd.jupyter.widget-view+json": {
       "model_id": "d106cc6e5d4a45e19f35984e59b6a7f9"
      }
     },
     "metadata": {},
     "output_type": "display_data"
    },
    {
     "data": {
      "application/vnd.jupyter.widget-view+json": {
       "model_id": "7eb0da8e4c024f239e39216e9fc5b1a1"
      }
     },
     "metadata": {},
     "output_type": "display_data"
    },
    {
     "data": {
      "application/vnd.jupyter.widget-view+json": {
       "model_id": "d05643fdf0a5413094bb2b1a4ef3dd2b"
      }
     },
     "metadata": {},
     "output_type": "display_data"
    },
    {
     "data": {
      "application/vnd.jupyter.widget-view+json": {
       "model_id": "1a37bfff47f540e596f51feb0e189f0d"
      }
     },
     "metadata": {},
     "output_type": "display_data"
    },
    {
     "data": {
      "application/vnd.jupyter.widget-view+json": {
       "model_id": "066073331d2d4875b3dad5c84a6fcf89"
      }
     },
     "metadata": {},
     "output_type": "display_data"
    },
    {
     "data": {
      "application/vnd.jupyter.widget-view+json": {
       "model_id": "47fc00985eb6459baff429f035461093"
      }
     },
     "metadata": {},
     "output_type": "display_data"
    },
    {
     "data": {
      "text/plain": [
       "<calour.heatmap.plotgui_jupyter.PlotGUI_Jupyter at 0x1a1c33ee80>"
      ]
     },
     "execution_count": 37,
     "metadata": {},
     "output_type": "execute_result"
    }
   ],
   "source": [
    "datc.plot(sample_field='group',gui='jupyter',barx_fields=['batch'])"
   ]
  },
  {
   "cell_type": "code",
   "execution_count": null,
   "metadata": {
    "scrolled": false
   },
   "outputs": [],
   "source": [
    "datc.plot(sample_field='group',gui='qt5',barx_fields=['batch'])"
   ]
  },
  {
   "cell_type": "code",
   "execution_count": null,
   "metadata": {},
   "outputs": [],
   "source": [
    "dd=datc.diff_abundance('batch','1','2')"
   ]
  },
  {
   "cell_type": "code",
   "execution_count": null,
   "metadata": {},
   "outputs": [],
   "source": [
    "dd.plot(sample_field='group',gui='qt5',barx_fields=['batch'])"
   ]
  },
  {
   "cell_type": "code",
   "execution_count": null,
   "metadata": {},
   "outputs": [],
   "source": [
    "dd=datc.diff_abundance('group','x','z')"
   ]
  },
  {
   "cell_type": "code",
   "execution_count": null,
   "metadata": {
    "collapsed": true
   },
   "outputs": [],
   "source": [
    "dd.plot_sort('group',gui='qt5')"
   ]
  },
  {
   "cell_type": "code",
   "execution_count": null,
   "metadata": {
    "collapsed": true
   },
   "outputs": [],
   "source": [
    "tt=datc.filter_samples('time_days',[16,21,25,30])"
   ]
  },
  {
   "cell_type": "code",
   "execution_count": null,
   "metadata": {
    "collapsed": true
   },
   "outputs": [],
   "source": [
    "dd=tt.diff_abundance('group','x','z')"
   ]
  },
  {
   "cell_type": "code",
   "execution_count": null,
   "metadata": {
    "collapsed": true
   },
   "outputs": [],
   "source": [
    "zz=datc.filter_ids(dd.feature_metadata.index)"
   ]
  },
  {
   "cell_type": "code",
   "execution_count": null,
   "metadata": {
    "collapsed": true
   },
   "outputs": [],
   "source": [
    "zz.plot_sort('group',gui='qt5')"
   ]
  },
  {
   "cell_type": "code",
   "execution_count": null,
   "metadata": {},
   "outputs": [],
   "source": [
    "type(dat.feature_metadata.id)"
   ]
  },
  {
   "cell_type": "code",
   "execution_count": null,
   "metadata": {},
   "outputs": [],
   "source": [
    "dat.feature_metadata.id.index"
   ]
  },
  {
   "cell_type": "code",
   "execution_count": null,
   "metadata": {},
   "outputs": [],
   "source": [
    "dat.feature_metadata.id.iloc[100]"
   ]
  },
  {
   "cell_type": "code",
   "execution_count": 17,
   "metadata": {},
   "outputs": [
    {
     "name": "stdout",
     "output_type": "stream",
     "text": [
      "2018-02-21 14:28:53 DEBUG get_config_value for key class_name\n",
      "2018-02-21 14:28:53 DEBUG Using calour config file /Users/amnon/git/calour/calour/calour.config.amnon from CALOUR_CONFIG_FILE variable\n",
      "2018-02-21 14:28:53 DEBUG found value DBBact for key class_name\n",
      "2018-02-21 14:28:53 DEBUG get_config_value for key module_name\n",
      "2018-02-21 14:28:53 DEBUG Using calour config file /Users/amnon/git/calour/calour/calour.config.amnon from CALOUR_CONFIG_FILE variable\n",
      "2018-02-21 14:28:53 DEBUG found value dbbact_calour.dbbact for key module_name\n",
      "2018-02-21 14:28:53 DEBUG get_config_value for key username\n",
      "2018-02-21 14:28:53 DEBUG Using calour config file /Users/amnon/git/calour/calour/calour.config.amnon from CALOUR_CONFIG_FILE variable\n",
      "2018-02-21 14:28:53 DEBUG found value amnon for key username\n",
      "2018-02-21 14:28:53 DEBUG get_config_value for key password\n",
      "2018-02-21 14:28:53 DEBUG Using calour config file /Users/amnon/git/calour/calour/calour.config.amnon from CALOUR_CONFIG_FILE variable\n",
      "2018-02-21 14:28:53 DEBUG found value pitapitapita for key password\n"
     ]
    }
   ],
   "source": [
    "xx=ca.database._get_database_class('dbbact')"
   ]
  },
  {
   "cell_type": "code",
   "execution_count": 18,
   "metadata": {},
   "outputs": [
    {
     "name": "stdout",
     "output_type": "stream",
     "text": [
      "2018-02-21 14:29:31 DEBUG Generic function for get_annotation_website\n"
     ]
    }
   ],
   "source": [
    "xx.get_annotation_website(1)"
   ]
  },
  {
   "cell_type": "code",
   "execution_count": 19,
   "metadata": {},
   "outputs": [
    {
     "name": "stdout",
     "output_type": "stream",
     "text": [
      "2018-02-21 14:30:13 DEBUG get_config_value for key class_name\n",
      "2018-02-21 14:30:13 DEBUG Using calour config file /Users/amnon/git/calour/calour/calour.config.amnon from CALOUR_CONFIG_FILE variable\n",
      "2018-02-21 14:30:13 DEBUG found value GNPS for key class_name\n",
      "2018-02-21 14:30:13 DEBUG get_config_value for key module_name\n",
      "2018-02-21 14:30:13 DEBUG Using calour config file /Users/amnon/git/calour/calour/calour.config.amnon from CALOUR_CONFIG_FILE variable\n",
      "2018-02-21 14:30:13 DEBUG found value gnpscalour for key module_name\n"
     ]
    }
   ],
   "source": [
    "yy=ca.database._get_database_class('gnps',dat)"
   ]
  },
  {
   "cell_type": "code",
   "execution_count": 21,
   "metadata": {},
   "outputs": [
    {
     "name": "stdout",
     "output_type": "stream",
     "text": [
      "2018-02-21 14:30:29 WARNING GNPS info does not contain gnps_link. It only contains: ['a']\n"
     ]
    }
   ],
   "source": [
    "yy.get_annotation_website({'a':'b'})"
   ]
  },
  {
   "cell_type": "code",
   "execution_count": null,
   "metadata": {
    "collapsed": true
   },
   "outputs": [],
   "source": []
  }
 ],
 "metadata": {
  "kernelspec": {
   "display_name": "Python 3",
   "language": "python",
   "name": "python3"
  },
  "language_info": {
   "codemirror_mode": {
    "name": "ipython",
    "version": 3
   },
   "file_extension": ".py",
   "mimetype": "text/x-python",
   "name": "python",
   "nbconvert_exporter": "python",
   "pygments_lexer": "ipython3",
   "version": "3.5.3"
  }
 },
 "nbformat": 4,
 "nbformat_minor": 2
}
