{
 "cells": [
  {
   "cell_type": "markdown",
   "metadata": {},
   "source": [
    "# Micribiome data manipulation tutorial\n",
    "This is a jupyter notebook example of how to sort, filter and handle sample metadata"
   ]
  },
  {
   "cell_type": "markdown",
   "metadata": {},
   "source": [
    "## Setup"
   ]
  },
  {
   "cell_type": "code",
   "execution_count": 1,
   "metadata": {},
   "outputs": [
    {
     "name": "stderr",
     "output_type": "stream",
     "text": [
      "/Users/amnon/miniconda3/envs/calour/lib/python3.5/site-packages/h5py/__init__.py:36: FutureWarning: Conversion of the second argument of issubdtype from `float` to `np.floating` is deprecated. In future, it will be treated as `np.float64 == np.dtype(float).type`.\n",
      "  from ._conv import register_converters as _register_converters\n"
     ]
    }
   ],
   "source": [
    "import calour as ca\n",
    "ca.set_log_level(11)\n",
    "%matplotlib notebook"
   ]
  },
  {
   "cell_type": "markdown",
   "metadata": {},
   "source": [
    "## Load the data\n",
    "we use two datasets:"
   ]
  },
  {
   "cell_type": "markdown",
   "metadata": {},
   "source": [
    "the Chronic faitigue syndrome data from XXXX"
   ]
  },
  {
   "cell_type": "code",
   "execution_count": 2,
   "metadata": {},
   "outputs": [
    {
     "name": "stdout",
     "output_type": "stream",
     "text": [
      "2018-02-20 10:54:54 INFO loaded 87 samples, 2129 features\n",
      "2018-02-20 10:54:54 WARNING These have metadata but do not have data - dropped: {'ERR1331814'}\n",
      "2018-02-20 10:54:54 INFO After filtering, 87 remaining\n"
     ]
    }
   ],
   "source": [
    "cfs=ca.read_amplicon('data/chronic-fatigue-syndrome.biom',\n",
    "                     'data/chronic-fatigue-syndrome.sample.txt',\n",
    "                     normalize=10000,min_reads=1000)"
   ]
  },
  {
   "cell_type": "code",
   "execution_count": 3,
   "metadata": {},
   "outputs": [
    {
     "name": "stdout",
     "output_type": "stream",
     "text": [
      "AmpliconExperiment (\"chronic-fatigue-syndrome.biom\") with 87 samples, 2129 features\n"
     ]
    }
   ],
   "source": [
    "print(cfs)"
   ]
  },
  {
   "cell_type": "markdown",
   "metadata": {},
   "source": [
    "Moving pictures dataset (from XXXX)"
   ]
  },
  {
   "cell_type": "code",
   "execution_count": 4,
   "metadata": {},
   "outputs": [
    {
     "name": "stdout",
     "output_type": "stream",
     "text": [
      "2018-02-20 10:54:56 INFO loaded 1968 samples, 7056 features\n",
      "2018-02-20 10:54:56 INFO After filtering, 1967 remaining\n"
     ]
    }
   ],
   "source": [
    "movpic=ca.read_amplicon('data/moving_pic.biom',\n",
    "                     'data/moving_pic.sample.txt',\n",
    "                     normalize=10000,min_reads=1000)"
   ]
  },
  {
   "cell_type": "code",
   "execution_count": 5,
   "metadata": {},
   "outputs": [
    {
     "name": "stdout",
     "output_type": "stream",
     "text": [
      "AmpliconExperiment (\"moving_pic.biom\") with 1967 samples, 7056 features\n"
     ]
    }
   ],
   "source": [
    "print(movpic)"
   ]
  },
  {
   "cell_type": "markdown",
   "metadata": {},
   "source": [
    "## sorting the samples based on a metadata field (`sort_samples`)\n",
    "Sort the samples of the experiment based on the values in the given field."
   ]
  },
  {
   "cell_type": "markdown",
   "metadata": {},
   "source": [
    "is the original data sorted by the Subject field?"
   ]
  },
  {
   "cell_type": "code",
   "execution_count": 6,
   "metadata": {},
   "outputs": [
    {
     "name": "stdout",
     "output_type": "stream",
     "text": [
      "False\n"
     ]
    }
   ],
   "source": [
    "print(cfs.sample_metadata['Subject'].is_monotonic_increasing)"
   ]
  },
  {
   "cell_type": "code",
   "execution_count": 7,
   "metadata": {
    "collapsed": true
   },
   "outputs": [],
   "source": [
    "cfs=cfs.sort_samples('Subject')"
   ]
  },
  {
   "cell_type": "markdown",
   "metadata": {},
   "source": [
    "and is the new data sorted?"
   ]
  },
  {
   "cell_type": "code",
   "execution_count": 8,
   "metadata": {},
   "outputs": [
    {
     "name": "stdout",
     "output_type": "stream",
     "text": [
      "True\n"
     ]
    }
   ],
   "source": [
    "print(cfs.sample_metadata['Subject'].is_monotonic_increasing)"
   ]
  },
  {
   "cell_type": "markdown",
   "metadata": {},
   "source": [
    "### consecutive sorting using different fields\n",
    "Keeps the order of the previous fields if values for the new field are tied."
   ]
  },
  {
   "cell_type": "markdown",
   "metadata": {},
   "source": [
    "For the moving pictures dataset, we want the data to be sorted by individual, and within each individual to be sorted by timepoint"
   ]
  },
  {
   "cell_type": "code",
   "execution_count": 9,
   "metadata": {
    "collapsed": true
   },
   "outputs": [],
   "source": [
    "movpic=movpic.sort_samples('DAYS_SINCE_EXPERIMENT_START')\n",
    "movpic=movpic.sort_samples('HOST_SUBJECT_ID')"
   ]
  },
  {
   "cell_type": "code",
   "execution_count": 10,
   "metadata": {},
   "outputs": [
    {
     "name": "stdout",
     "output_type": "stream",
     "text": [
      "False\n"
     ]
    }
   ],
   "source": [
    "print(movpic.sample_metadata['DAYS_SINCE_EXPERIMENT_START'].is_monotonic_increasing)"
   ]
  },
  {
   "cell_type": "code",
   "execution_count": 11,
   "metadata": {},
   "outputs": [
    {
     "name": "stdout",
     "output_type": "stream",
     "text": [
      "True\n"
     ]
    }
   ],
   "source": [
    "print(movpic.sample_metadata['HOST_SUBJECT_ID'].is_monotonic_increasing)"
   ]
  },
  {
   "cell_type": "markdown",
   "metadata": {},
   "source": [
    "## filter samples based on metadata field (`filter_samples`)\n",
    "Keep only samples matching the values we supply for the selected metadata field."
   ]
  },
  {
   "cell_type": "markdown",
   "metadata": {},
   "source": [
    "lets keep only samples from participant F4"
   ]
  },
  {
   "cell_type": "code",
   "execution_count": 12,
   "metadata": {},
   "outputs": [
    {
     "name": "stdout",
     "output_type": "stream",
     "text": [
      "* original:\n",
      "AmpliconExperiment (\"moving_pic.biom\") with 1967 samples, 7056 features\n",
      "\n",
      "* filtered:\n",
      "AmpliconExperiment (\"moving_pic.biom\") with 534 samples, 7056 features\n"
     ]
    }
   ],
   "source": [
    "tt=movpic.filter_samples('HOST_SUBJECT_ID','F4')\n",
    "print('* original:\\n%s\\n\\n* filtered:\\n%s' % (movpic, tt))"
   ]
  },
  {
   "cell_type": "markdown",
   "metadata": {},
   "source": [
    "### we can supply a list of values instead of only one value"
   ]
  },
  {
   "cell_type": "markdown",
   "metadata": {},
   "source": [
    "now lets only keep skin and fecal samples"
   ]
  },
  {
   "cell_type": "code",
   "execution_count": 13,
   "metadata": {},
   "outputs": [
    {
     "name": "stdout",
     "output_type": "stream",
     "text": [
      "['UBERON:skin' 'UBERON:feces' 'UBERON:oral cavity']\n"
     ]
    }
   ],
   "source": [
    "print(movpic.sample_metadata['BODY_HABITAT'].unique())"
   ]
  },
  {
   "cell_type": "code",
   "execution_count": 14,
   "metadata": {},
   "outputs": [
    {
     "name": "stdout",
     "output_type": "stream",
     "text": [
      "AmpliconExperiment (\"moving_pic.biom\") with 399 samples, 7056 features\n"
     ]
    }
   ],
   "source": [
    "yy=tt.filter_samples('BODY_HABITAT', ['UBERON:skin', 'UBERON:feces'])\n",
    "print(yy)"
   ]
  },
  {
   "cell_type": "markdown",
   "metadata": {},
   "source": [
    "### we can also reverse the filtering (removing samples with the supplied values)\n",
    "We use the `negate=True` parameter"
   ]
  },
  {
   "cell_type": "markdown",
   "metadata": {},
   "source": [
    "let's keep just the non-skin and non-feces samples"
   ]
  },
  {
   "cell_type": "code",
   "execution_count": 15,
   "metadata": {},
   "outputs": [
    {
     "name": "stdout",
     "output_type": "stream",
     "text": [
      "AmpliconExperiment (\"moving_pic.biom\") with 135 samples, 7056 features\n"
     ]
    }
   ],
   "source": [
    "yy=tt.filter_samples('BODY_HABITAT', ['UBERON:skin', 'UBERON:feces'], negate=True)\n",
    "print(yy)"
   ]
  },
  {
   "cell_type": "markdown",
   "metadata": {
    "collapsed": true
   },
   "source": [
    "## filter low abundance features (`filter_abundance`)\n",
    "Remove all features (bacteria) with < 10 reads total (summed over all samples, after normalization).\n",
    "\n",
    "This is useful for getting rid of non-interesting features. Note that differently from filtering based of fraction of samples where feature is present (`filter_prevalence`), this method (`filter_abundance`) will also keep features present in a small fraction of the samples, but in high frequency."
   ]
  },
  {
   "cell_type": "code",
   "execution_count": 16,
   "metadata": {},
   "outputs": [
    {
     "name": "stdout",
     "output_type": "stream",
     "text": [
      "2018-02-20 10:55:06 INFO After filtering, 766 remaining\n",
      "* original:\n",
      "AmpliconExperiment (\"chronic-fatigue-syndrome.biom\") with 87 samples, 2129 features\n",
      "\n",
      "* filtered:\n",
      "AmpliconExperiment (\"chronic-fatigue-syndrome.biom\") with 87 samples, 766 features\n"
     ]
    }
   ],
   "source": [
    "tt=cfs.filter_abundance(25)\n",
    "print('* original:\\n%s\\n\\n* filtered:\\n%s' % (cfs, tt))"
   ]
  },
  {
   "cell_type": "markdown",
   "metadata": {},
   "source": [
    "### Keeping the low abundance bacteria instead\n",
    "By default, the function removes the low abundance feature. This can be reversed (i.e. keep low abundance features) by using the `negate=True` parameter)\n"
   ]
  },
  {
   "cell_type": "code",
   "execution_count": 17,
   "metadata": {},
   "outputs": [
    {
     "name": "stdout",
     "output_type": "stream",
     "text": [
      "2018-02-20 10:55:07 INFO After filtering, 1363 remaining\n",
      "* original:\n",
      "AmpliconExperiment (\"chronic-fatigue-syndrome.biom\") with 87 samples, 2129 features\n",
      "\n",
      "* filtered:\n",
      "AmpliconExperiment (\"chronic-fatigue-syndrome.biom\") with 87 samples, 1363 features\n"
     ]
    }
   ],
   "source": [
    "tt=cfs.filter_abundance(25, negate=True)\n",
    "print('* original:\\n%s\\n\\n* filtered:\\n%s' % (cfs,tt))"
   ]
  },
  {
   "cell_type": "markdown",
   "metadata": {},
   "source": [
    "## filter non-common bacteria (`filter_prevalence`)\n",
    "Remove bacteria based on fraction of the samples where this bacteria is present."
   ]
  },
  {
   "cell_type": "code",
   "execution_count": 18,
   "metadata": {},
   "outputs": [
    {
     "name": "stdout",
     "output_type": "stream",
     "text": [
      "2018-02-20 10:55:08 INFO After filtering, 128 remaining\n",
      "* original:\n",
      "AmpliconExperiment (\"chronic-fatigue-syndrome.biom\") with 87 samples, 2129 features\n",
      "\n",
      "* filtered:\n",
      "AmpliconExperiment (\"chronic-fatigue-syndrome.biom\") with 87 samples, 128 features\n"
     ]
    }
   ],
   "source": [
    "# remove bacteria present in less than half of the samples\n",
    "tt=cfs.filter_prevalence(0.5)\n",
    "print('* original:\\n%s\\n\\n* filtered:\\n%s' % (cfs, tt))"
   ]
  },
  {
   "cell_type": "markdown",
   "metadata": {},
   "source": [
    "## Filter bacteria based on the mean frequency over all samples (`filter_mean`)\n",
    "Remove bacteria which have a mean (over all samples) lower than the desired threshold."
   ]
  },
  {
   "cell_type": "code",
   "execution_count": 19,
   "metadata": {},
   "outputs": [
    {
     "name": "stdout",
     "output_type": "stream",
     "text": [
      "2018-02-20 10:55:09 INFO After filtering, 19 remaining\n",
      "* original:\n",
      "AmpliconExperiment (\"chronic-fatigue-syndrome.biom\") with 87 samples, 2129 features\n",
      "\n",
      "* filtered:\n",
      "AmpliconExperiment (\"chronic-fatigue-syndrome.biom\") with 87 samples, 19 features\n"
     ]
    }
   ],
   "source": [
    "# keep only high frequency bacteria (mean over all samples > 1%)\n",
    "tt=cfs.filter_mean(0.01)\n",
    "print('* original:\\n%s\\n\\n* filtered:\\n%s' % (cfs, tt))"
   ]
  },
  {
   "cell_type": "code",
   "execution_count": null,
   "metadata": {
    "collapsed": true
   },
   "outputs": [],
   "source": []
  }
 ],
 "metadata": {
  "kernelspec": {
   "display_name": "Python 3",
   "language": "python",
   "name": "python3"
  },
  "language_info": {
   "codemirror_mode": {
    "name": "ipython",
    "version": 3
   },
   "file_extension": ".py",
   "mimetype": "text/x-python",
   "name": "python",
   "nbconvert_exporter": "python",
   "pygments_lexer": "ipython3",
   "version": "3.5.3"
  }
 },
 "nbformat": 4,
 "nbformat_minor": 2
}
